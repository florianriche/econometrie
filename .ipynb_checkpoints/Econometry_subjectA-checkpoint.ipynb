{
 "cells": [
  {
   "cell_type": "markdown",
   "metadata": {},
   "source": [
    "# Projet d'économétrie, sujet A"
   ]
  },
  {
   "cell_type": "code",
   "execution_count": 1,
   "metadata": {
    "collapsed": false
   },
   "outputs": [],
   "source": [
    "%matplotlib inline\n",
    "\n",
    "import numpy as np\n",
    "from scipy import stats\n",
    "import math\n",
    "import pylab as pl\n",
    "import seaborn as sns"
   ]
  },
  {
   "cell_type": "markdown",
   "metadata": {},
   "source": [
    "#PARTIE I"
   ]
  },
  {
   "cell_type": "markdown",
   "metadata": {},
   "source": [
    "## Question 1"
   ]
  },
  {
   "cell_type": "markdown",
   "metadata": {},
   "source": [
    "> *Lire le fichier **mroz.txt**. Ne séléctionner que les observations pour lesquelles la variable **wage** est strictement positive.*"
   ]
  },
  {
   "cell_type": "code",
   "execution_count": 2,
   "metadata": {
    "collapsed": false
   },
   "outputs": [],
   "source": [
    "# Load raw file\n",
    "def readRawData(filename='data/MROZ.raw'):\n",
    "    f = open(filename, 'rb')\n",
    "    res = ''\n",
    "    try:\n",
    "        byte = f.read(1)\n",
    "        while byte != \"\":\n",
    "            res += str(byte)\n",
    "            byte = f.read(1)\n",
    "    finally:\n",
    "        f.close()\n",
    "    # split data\n",
    "    final_res = list()\n",
    "    test = res.split('\\r\\n')\n",
    "    for t in test:\n",
    "        if len(t)>0:\n",
    "            yo = filter(lambda a: a != '', t.split(' '))\n",
    "            yoo = [x if x != '.' else 0 for x in yo]\n",
    "            final_res.append([float(i) for i in yoo])    \n",
    "    return np.array(final_res)  \n",
    "\n",
    "#MROZ datas\n",
    "#\n",
    "#  Obs:   753\n",
    "#\n",
    "#  1. inlf                     =1 if in labor force, 1975\n",
    "#  2. hours                    hours worked, 1975\n",
    "#  3. kidslt6                  # kids < 6 years\n",
    "#  4. kidsge6                  # kids 6-18\n",
    "#  5. age                      woman's age in yrs\n",
    "#  6. educ                     years of schooling\n",
    "#  7. wage                     estimated wage from earns., hours\n",
    "#  8. repwage                  reported wage at interview in 1976\n",
    "#  9. hushrs                   hours worked by husband, 1975\n",
    "# 10. husage                   husband's age\n",
    "# 11. huseduc                  husband's years of schooling\n",
    "# 12. huswage                  husband's hourly wage, 1975\n",
    "# 13. faminc                   family income, 1975\n",
    "# 14. mtr                      fed. marginal tax rate facing woman\n",
    "# 15. motheduc                 mother's years of schooling\n",
    "# 16. fatheduc                 father's years of schooling\n",
    "# 17. unem                     unem. rate in county of resid.\n",
    "# 18. city                     =1 if live in SMSA\n",
    "# 19. exper                    actual labor mkt exper\n",
    "# 20. nwifeinc                 (faminc - wage*hours)/1000\n",
    "# 21. lwage                    log(wage)\n",
    "# 22. expersq                  exper^2"
   ]
  },
  {
   "cell_type": "code",
   "execution_count": 3,
   "metadata": {
    "collapsed": false
   },
   "outputs": [],
   "source": [
    "mroz = readRawData()\n",
    "datas = mroz[np.where(mroz[:,7]>0)] # select data where wage > 0"
   ]
  },
  {
   "cell_type": "markdown",
   "metadata": {},
   "source": [
    "## Question 2"
   ]
  },
  {
   "cell_type": "markdown",
   "metadata": {},
   "source": [
    "> *Faire les statistiques descriptives du salaire, de l’age et de l’éducation  pour l’ensemble des femmes puis, pour les femmes dont le salaire du mari est supérieure à la médiane de l’échantillon, puis pour les femmes dont le salaire du mari est inférieur à la médiane de l’échantillon*"
   ]
  },
  {
   "cell_type": "code",
   "execution_count": 5,
   "metadata": {
    "collapsed": false
   },
   "outputs": [],
   "source": [
    "def descriptivStats(arr):\n",
    "    d = {'min':0.0,'max':0.0,'mean':0.0,'median':0.0,'var':0.0,'std':0.0}\n",
    "    d['min'] = np.min(arr)\n",
    "    d['max'] = np.max(arr)\n",
    "    d['mean'] = np.mean(arr)    \n",
    "    d['median'] = np.median(arr)\n",
    "    d['var'] = np.var(arr)\n",
    "    d['std'] = np.std(arr)\n",
    "    return d "
   ]
  },
  {
   "cell_type": "code",
   "execution_count": 6,
   "metadata": {
    "collapsed": false
   },
   "outputs": [
    {
     "name": "stdout",
     "output_type": "stream",
     "text": [
      "{'std': 2.2804300898203005, 'min': 5.0, 'max': 17.0, 'median': 12.0, 'var': 5.2003613945578229, 'mean': 12.589285714285714}\n",
      "{'std': 3.0563665052692084, 'min': 0.0, 'max': 25.0, 'median': 3.6872499999999997, 'var': 9.3413762145315147, 'mean': 4.2522651785714292}\n",
      "{'std': 1.8946198494986348, 'min': 1.0, 'max': 9.9800000000000004, 'median': 3.7999999999999998, 'var': 3.5895843741142297, 'mean': 4.1453869047619047}\n",
      "{'std': 7055.4457334776034, 'min': -0.96076519999999999, 'max': 90800.0, 'median': 10.0, 'var': 49779314.498047315, 'mean': 1658.2715233383929}\n",
      "{'std': 3507.7048117134777, 'min': -1.8226309999999999, 'max': 22500.0, 'median': 7.5, 'var': 12303993.046117885, 'mean': 917.21127278479435}\n"
     ]
    }
   ],
   "source": [
    "#descriptiv stats    \n",
    "stats_age = descriptivStats(datas[:,5])\n",
    "print stats_age\n",
    "stats_educ = descriptivStats(datas[:,6])\n",
    "print stats_educ\n",
    "stats_wage = descriptivStats(datas[:,7])\n",
    "print stats_wage\n",
    "#stats sur les femmes dont le salaire du mari est supérieure à la médiane de l’échantillon\n",
    "women_stats1 = descriptivStats(datas[np.where(datas[:,12]>np.median(datas[:,12]))])\n",
    "print women_stats1\n",
    "#stats sur les femmes dont le salaire du mari est inférieur à la médiane de l’échantillon\n",
    "women_stats2 = descriptivStats(datas[np.where(datas[:,12]<np.median(datas[:,12]))])\n",
    "print women_stats2"
   ]
  },
  {
   "cell_type": "markdown",
   "metadata": {},
   "source": [
    "## Question 3"
   ]
  },
  {
   "cell_type": "markdown",
   "metadata": {},
   "source": [
    ">*Faire l'histogramme de la variable wage. Calculer le log de wage et faire l'histogramme. Comparez les deux histogrammes et commentez*"
   ]
  },
  {
   "cell_type": "code",
   "execution_count": 7,
   "metadata": {
    "collapsed": false
   },
   "outputs": [
    {
     "data": {
      "image/png": "[encoded data removed]",
      "text/plain": [
       "<matplotlib.figure.Figure at 0x7f0c1bac2510>"
      ]
     },
     "metadata": {},
     "output_type": "display_data"
    }
   ],
   "source": [
    "bins = np.arange(math.ceil(stats_wage['min'])-1,math.ceil(stats_wage['max'])+1)\n",
    "pl.figure()\n",
    "pl.hist(datas[:,7], bins, normed=1, histtype='bar', rwidth=0.8)\n",
    "pl.title(\"Wage histogram\")\n",
    "pl.show()"
   ]
  },
  {
   "cell_type": "code",
   "execution_count": 8,
   "metadata": {
    "collapsed": false
   },
   "outputs": [
    {
     "data": {
      "image/png": "[encoded data removed]",
      "text/plain": [
       "<matplotlib.figure.Figure at 0x7f0c1b21bb10>"
      ]
     },
     "metadata": {},
     "output_type": "display_data"
    }
   ],
   "source": [
    "stats_wage_log = descriptivStats(datas[:,21])\n",
    "bins2 = np.arange(math.ceil(stats_wage_log['min']),math.ceil(stats_wage_log['max'])+1)\n",
    "pl.figure()\n",
    "pl.hist(datas[:,21], bins2, normed=1, histtype='bar', rwidth=0.8)\n",
    "pl.title(\"Log wage histogram\")\n",
    "pl.show()"
   ]
  },
  {
   "cell_type": "markdown",
   "metadata": {},
   "source": [
    "## Question 4"
   ]
  },
  {
   "cell_type": "markdown",
   "metadata": {},
   "source": [
    "> *Calculer les corrélations motheduc et fatheduc. Commentez. Il y a-t-il un problème de multicollinéarité si l'on utilise ces variables comme variables explicatives ?*"
   ]
  },
  {
   "cell_type": "code",
   "execution_count": 9,
   "metadata": {
    "collapsed": false
   },
   "outputs": [
    {
     "name": "stdout",
     "output_type": "stream",
     "text": [
      "(0.039960377842893247, 0.46536098227068801)\n"
     ]
    }
   ],
   "source": [
    "#Pearson correlation\n",
    "#return (Pearson’s correlation coefficient,2-tailed p-value)\n",
    "correlation1 = stats.pearsonr(datas[:,15],datas[:,16])\n",
    "print correlation1"
   ]
  },
  {
   "cell_type": "markdown",
   "metadata": {},
   "source": [
    "## Question 5"
   ]
  },
  {
   "cell_type": "markdown",
   "metadata": {},
   "source": [
    "> *Faites un graphique en nuage de point entre wage et educ, wage et exper, wage et fatheduc. Commentez. S'agit-il d'un effet \"toute chose étant égale par ailleurs ?\"*"
   ]
  },
  {
   "cell_type": "code",
   "execution_count": 10,
   "metadata": {
    "collapsed": false
   },
   "outputs": [
    {
     "data": {
      "image/png": "[encoded data removed]",
      "text/plain": [
       "<matplotlib.figure.Figure at 0x7f0c1bac2150>"
      ]
     },
     "metadata": {},
     "output_type": "display_data"
    }
   ],
   "source": [
    "#wage vs educ\n",
    "pl.figure()\n",
    "pl.scatter(datas[:,6],datas[:,7])\n",
    "pl.xlabel('educ')\n",
    "pl.ylabel('wage')\n",
    "pl.title('wage vs educ')\n",
    "pl.show()"
   ]
  },
  {
   "cell_type": "code",
   "execution_count": 11,
   "metadata": {
    "collapsed": false
   },
   "outputs": [
    {
     "data": {
      "image/png": "[encoded data removed]",
      "text/plain": [
       "<matplotlib.figure.Figure at 0x7f0c1ab846d0>"
      ]
     },
     "metadata": {},
     "output_type": "display_data"
    }
   ],
   "source": [
    "#wage vs exper\n",
    "pl.figure()\n",
    "pl.scatter(datas[:,19],datas[:,7])\n",
    "pl.xlabel('exper')\n",
    "pl.ylabel('wage')\n",
    "pl.title('wage vs exper')\n",
    "pl.show()"
   ]
  },
  {
   "cell_type": "code",
   "execution_count": 12,
   "metadata": {
    "collapsed": false
   },
   "outputs": [
    {
     "data": {
      "image/png": "[encoded data removed]",
      "text/plain": [
       "<matplotlib.figure.Figure at 0x7f0c1aee9810>"
      ]
     },
     "metadata": {},
     "output_type": "display_data"
    }
   ],
   "source": [
    "#wage vs fatheduc\n",
    "pl.figure()\n",
    "pl.scatter(datas[:,16],datas[:,7])\n",
    "pl.xlabel('fatheduc')\n",
    "pl.ylabel('wage')\n",
    "pl.title('wage vs fatheduc')\n",
    "pl.show()"
   ]
  },
  {
   "cell_type": "markdown",
   "metadata": {},
   "source": [
    "## QUESTION 6"
   ]
  },
  {
   "cell_type": "markdown",
   "metadata": {},
   "source": [
    ">  *Quelle est l'hypothèse fondamentale qui garanti des estimateurs non biaisés ?*"
   ]
  },
  {
   "cell_type": "markdown",
   "metadata": {},
   "source": [
    "## QUESTION 7"
   ]
  },
  {
   "cell_type": "markdown",
   "metadata": {},
   "source": [
    ">  *Faire la régression de wage en utilisant les variables explicatives un constante, city, educ, exper, nwifeinc, kidslt6, kidsgt6. Commentez l'histogramme des résidus. *"
   ]
  },
  {
   "cell_type": "markdown",
   "metadata": {},
   "source": [
    "## QUESTION 8"
   ]
  },
  {
   "cell_type": "markdown",
   "metadata": {},
   "source": [
    ">  *Faire la régrssion de lwage sur une constante, city, educ, exper, nwifeinc, kidslt6, kidsgt6. Commentez l’histogramme des résidus.*"
   ]
  },
  {
   "cell_type": "markdown",
   "metadata": {},
   "source": [
    "## QUESTION 9"
   ]
  },
  {
   "cell_type": "markdown",
   "metadata": {},
   "source": [
    ">  *Tester l'hypothèse de non significativité de exper avec un seuil de significativité de 1%, 5% et 10% (test alternatif des deux côtés). Commentez les p-values. Tester l’hypothèse que le coefficient associé à educ est égal à 10% avec un seuil de significativité de 5% (test à alternatif des deux côtés)*"
   ]
  },
  {
   "cell_type": "markdown",
   "metadata": {},
   "source": [
    "## QUESTION 10"
   ]
  },
  {
   "cell_type": "markdown",
   "metadata": {},
   "source": [
    ">  *De combien augmente wage avec 10 années d’expérience ?*"
   ]
  },
  {
   "cell_type": "markdown",
   "metadata": {},
   "source": [
    "## QUESTION 11"
   ]
  },
  {
   "cell_type": "markdown",
   "metadata": {},
   "source": [
    ">  *Tester l’égalité des coefficients associés aux variables kidsgt6 et kidslt6. Interprétez.*"
   ]
  },
  {
   "cell_type": "markdown",
   "metadata": {},
   "source": [
    "## QUESTION 12"
   ]
  },
  {
   "cell_type": "markdown",
   "metadata": {},
   "source": [
    ">  *En utilisant le modèle de la question 8, faire le test d'hétéroscédasticité de forme linéaire. Corriger le problème par rapport à la variable la plus importante en utilisant la méthode des moindres carrés pondérés.*"
   ]
  },
  {
   "cell_type": "markdown",
   "metadata": {},
   "source": [
    "## QUESTION 13"
   ]
  },
  {
   "cell_type": "markdown",
   "metadata": {},
   "source": [
    ">  *Tester le changement de structure de la question 7 entre les femmes qui ont plus de deux enfants de moins de 6 ans et les autres : test sur l'ensemble des coefficients.*"
   ]
  },
  {
   "cell_type": "markdown",
   "metadata": {},
   "source": [
    "## QUESTION 14"
   ]
  },
  {
   "cell_type": "markdown",
   "metadata": {},
   "source": [
    ">  *Transformer la variable kidslt6 en variables binaires. Refaire la question 7 avec ces variables en utilisant la catégorie kidslt6 = 1 comme référence. Interprétez les paramètres associés aux variables binaires.*"
   ]
  },
  {
   "cell_type": "markdown",
   "metadata": {},
   "source": [
    "## QUESTION 15"
   ]
  },
  {
   "cell_type": "markdown",
   "metadata": {},
   "source": [
    ">  *A partir de l’échantillon global, faire une régression de inlf sur une constante, city, educ, age, kidslt6, kidsgt6. Commentez le modèle et les résultats des tests de significativité pour chacun des coefficients estimé (test alternatif des deux côtés)*"
   ]
  },
  {
   "cell_type": "markdown",
   "metadata": {},
   "source": [
    "## QUESTION 16"
   ]
  },
  {
   "cell_type": "markdown",
   "metadata": {},
   "source": [
    ">  *Développer le modèle probit et obtenir la fonction de log-vraisemblance l(.).*"
   ]
  },
  {
   "cell_type": "markdown",
   "metadata": {},
   "source": [
    "## QUESTION 17"
   ]
  },
  {
   "cell_type": "markdown",
   "metadata": {},
   "source": [
    ">  *Calculer la matrice d'information E($-\\partial l / \\partial \\beta \\partial \\beta '$) [astuce: E(yi) = p(yi=1)]. Commentez les programmes suivants :*"
   ]
  },
  {
   "cell_type": "raw",
   "metadata": {},
   "source": [
    "function [betanew,loglik,imat,icount]=probit(y,X,epsilon)\n",
    "%computes ML estimates of the probit model\n",
    "\n",
    "[N,K]=size(X);\n",
    "betanew=inv(X'*X)*X'*y;          \n",
    "beta=100*ones(K,1);   \n",
    "loglik=-100000;\n",
    "icount=0;\n",
    "while ((betanew-beta)'*(betanew-beta)>epsilon);\n",
    "   beta=betanew;\n",
    "   [score,imat,loglik]=mlparms(y,X,beta);\n",
    "   betanew=beta+(1/N)*inv(imat)*score;\n",
    "   icount=icount+1;\n",
    "end;\n",
    "\n",
    "function [score,infmat,loglik] = mlparms(y,X,beta);\n",
    "\n",
    "% Returns score vector, information matrix, and the value\n",
    "% of the log-likelihood function for the probit model\n",
    "% y=I{X*beta+U>0} evaluated at 'beta'\n",
    "\n",
    "[N,K] = size(X);\n",
    "xb=X*beta;\n",
    "pdf_xb=npdf(xb);\n",
    "denom=ncdf2(xb).*(1-ncdf2(xb));\n",
    "score=X'*( ((y-ncdf2(xb)).*pdf_xb)./denom );\n",
    "infmat=zeros(K,K);\n",
    "i=1;\n",
    "while i<=N;\n",
    "infmat=infmat+(pdf_xb(i,1)*pdf_xb(i,1)/denom(i,1))*X(i,:)'*X(i,:);\n",
    "   i=i+1;\n",
    "end;\n",
    "infmat=infmat/N;\n",
    "loglik=ones(1,N)*( y.*log(ncdf2(xb))+(1-y).*log(1-ncdf2(xb)) );"
   ]
  },
  {
   "cell_type": "markdown",
   "metadata": {},
   "source": [
    "## QUESTION 18"
   ]
  },
  {
   "cell_type": "markdown",
   "metadata": {},
   "source": [
    ">  *Pourquoi faut-il imposer une restriction sur les paramètres ?*"
   ]
  },
  {
   "cell_type": "markdown",
   "metadata": {},
   "source": [
    "## QUESTION 19"
   ]
  },
  {
   "cell_type": "markdown",
   "metadata": {},
   "source": [
    ">  *Estimer le modèle probit de inlf sur une constante, city, educ, age, kidslt6, kidsgt6 en utilisant la commande probit(y,X). *"
   ]
  },
  {
   "cell_type": "markdown",
   "metadata": {},
   "source": [
    "## QUESTION 20"
   ]
  },
  {
   "cell_type": "markdown",
   "metadata": {},
   "source": [
    ">  *Calculer les effets partiels pour l'ensemble des variables explicatives : p(y1)/xk (k = 1, ..., K), où K est le nombre de variables explicatives. Comparer vos résultats à ceux obtenus à la question 15. Commentez.*"
   ]
  },
  {
   "cell_type": "markdown",
   "metadata": {},
   "source": [
    "#PARTIE II"
   ]
  },
  {
   "cell_type": "markdown",
   "metadata": {},
   "source": [
    "## QUESTION 21"
   ]
  },
  {
   "cell_type": "markdown",
   "metadata": {},
   "source": [
    ">  *Ouvrir le fichier volat.raw; attention aux valeurs manquantes.*"
   ]
  },
  {
   "cell_type": "markdown",
   "metadata": {},
   "source": [
    "## QUESTION 22"
   ]
  },
  {
   "cell_type": "markdown",
   "metadata": {},
   "source": [
    ">  *Pourquoi doit-on stationnariser les séries ?*"
   ]
  },
  {
   "cell_type": "markdown",
   "metadata": {},
   "source": [
    "## QUESTION 23"
   ]
  },
  {
   "cell_type": "markdown",
   "metadata": {},
   "source": [
    ">  *Faire le test de racine unitaire de log(sp500) H0: $\\rho$ = 1 et le test de Dickey Fuller.*"
   ]
  },
  {
   "cell_type": "markdown",
   "metadata": {},
   "source": [
    "## QUESTION 24"
   ]
  },
  {
   "cell_type": "markdown",
   "metadata": {},
   "source": [
    ">  *Interpréter l'autocorrélogramme et l'autocorrélogramme partiels de pcsp et de divyld. Quelle est la différence entre ces deux graphiques ?*"
   ]
  },
  {
   "cell_type": "markdown",
   "metadata": {},
   "source": [
    "## QUESTION 25"
   ]
  },
  {
   "cell_type": "markdown",
   "metadata": {},
   "source": [
    ">  *25. Proposer une modélisation AR(p) de chacune des séries en utilisant les outils et tests vu au cours.*"
   ]
  },
  {
   "cell_type": "markdown",
   "metadata": {},
   "source": [
    "## QUESTION 26"
   ]
  },
  {
   "cell_type": "markdown",
   "metadata": {},
   "source": [
    ">  *Faire une régression de pcsp sur i3 et divyld. Interpréter les résultats. Tester la significativité jointe des variables explicatives*"
   ]
  },
  {
   "cell_type": "markdown",
   "metadata": {},
   "source": [
    "## QUESTION 27"
   ]
  },
  {
   "cell_type": "markdown",
   "metadata": {},
   "source": [
    ">  *Tester l'autocorrélation des erreurs.*"
   ]
  }
 ],
 "metadata": {
  "kernelspec": {
   "display_name": "Python 2",
   "language": "python",
   "name": "python2"
  },
  "language_info": {
   "codemirror_mode": {
    "name": "ipython",
    "version": 2
   },
   "file_extension": ".py",
   "mimetype": "text/x-python",
   "name": "python",
   "nbconvert_exporter": "python",
   "pygments_lexer": "ipython2",
   "version": "2.7.9"
  }
 },
 "nbformat": 4,
 "nbformat_minor": 0
}
