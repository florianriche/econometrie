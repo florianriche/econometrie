{
 "cells": [
  {
   "cell_type": "markdown",
   "metadata": {},
   "source": [
    "# Projet d'économétrie, sujet A"
   ]
  },
  {
   "cell_type": "code",
   "execution_count": 188,
   "metadata": {
    "collapsed": false
   },
   "outputs": [],
   "source": [
    "%matplotlib inline\n",
    "import matplotlib.pyplot as plt\n",
    "import numpy as np\n",
    "from scipy import stats\n",
    "from scipy import linalg\n",
    "import math\n",
    "import pylab as pl\n",
    "import seaborn as sns"
   ]
  },
  {
   "cell_type": "markdown",
   "metadata": {},
   "source": [
    "#PARTIE I"
   ]
  },
  {
   "cell_type": "markdown",
   "metadata": {},
   "source": [
    "## Question 1"
   ]
  },
  {
   "cell_type": "markdown",
   "metadata": {},
   "source": [
    "> *Lire le fichier **mroz.txt**. Ne séléctionner que les observations pour lesquelles la variable **wage** est strictement positive.*"
   ]
  },
  {
   "cell_type": "code",
   "execution_count": 189,
   "metadata": {
    "collapsed": false
   },
   "outputs": [
    {
     "data": {
      "text/plain": [
       "(428, 22)"
      ]
     },
     "execution_count": 189,
     "metadata": {},
     "output_type": "execute_result"
    }
   ],
   "source": [
    "'''\n",
    "  1. inlf                     =1 if in labor force, 1975\n",
    "  2. hours                    hours worked, 1975\n",
    "  3. kidslt6                  # kids < 6 years\n",
    "  4. kidsge6                  # kids 6-18\n",
    "  5. age                      woman's age in yrs\n",
    "  6. educ                     years of schooling\n",
    "  7. wage                     estimated wage from earns., hours\n",
    "  8. repwage                  reported wage at interview in 1976\n",
    "  9. hushrs                   hours worked by husband, 1975\n",
    " 10. husage                   husband's age\n",
    " 11. huseduc                  husband's years of schooling\n",
    " 12. huswage                  husband's hourly wage, 1975\n",
    " 13. faminc                   family income, 1975\n",
    " 14. mtr                      fed. marginal tax rate facing woman\n",
    " 15. motheduc                 mother's years of schooling\n",
    " 16. fatheduc                 father's years of schooling\n",
    " 17. unem                     unem. rate in county of resid.\n",
    " 18. city                     =1 if live in SMSA\n",
    " 19. exper                    actual labor mkt exper\n",
    " 20. nwifeinc                 (faminc - wage*hours)/1000\n",
    " 21. lwage                    log(wage)\n",
    " 22. expersq                  exper^2\n",
    " '''\n",
    "\n",
    "import pandas as pd\n",
    "columns = ['inlf',\n",
    "'hours',\n",
    "'kidslt6',\n",
    "'kidsge6',\n",
    "'age',\n",
    "'educ',\n",
    "'wage',\n",
    "'repwage',\n",
    "'hushrs',\n",
    "'husage',\n",
    "'huseduc',\n",
    "'huswage',\n",
    "'faminc',\n",
    "'mtr',\n",
    "'motheduc',\n",
    "'fatheduc',\n",
    "'unem',\n",
    "'city',\n",
    "'exper',\n",
    "'nwifeinc',\n",
    "'lwage',\n",
    "'expersq']\n",
    "#data_df = pd.read_fwf('data/MROZ.raw',names=columns)\n",
    "data_df = pd.DataFrame(mroz,columns=columns)\n",
    "data_df_wage = data_df[data_df['wage']>0]\n",
    "data_df_wage.shape"
   ]
  },
  {
   "cell_type": "markdown",
   "metadata": {},
   "source": [
    "## Question 2"
   ]
  },
  {
   "cell_type": "markdown",
   "metadata": {},
   "source": [
    "> *Faire les statistiques descriptives du salaire, de l’age et de l’éducation  pour l’ensemble des femmes puis, pour les femmes dont le salaire du mari est supérieure à la médiane de l’échantillon, puis pour les femmes dont le salaire du mari est inférieur à la médiane de l’échantillon*"
   ]
  },
  {
   "cell_type": "code",
   "execution_count": 190,
   "metadata": {
    "collapsed": false
   },
   "outputs": [
    {
     "data": {
      "text/html": [
       "<div style=\"max-height:1000px;max-width:1500px;overflow:auto;\">\n",
       "<table border=\"1\" class=\"dataframe\">\n",
       "  <thead>\n",
       "    <tr style=\"text-align: right;\">\n",
       "      <th></th>\n",
       "      <th>wage</th>\n",
       "      <th>age</th>\n",
       "      <th>educ</th>\n",
       "    </tr>\n",
       "  </thead>\n",
       "  <tbody>\n",
       "    <tr>\n",
       "      <th>count</th>\n",
       "      <td> 428.000000</td>\n",
       "      <td> 428.000000</td>\n",
       "      <td> 428.000000</td>\n",
       "    </tr>\n",
       "    <tr>\n",
       "      <th>mean</th>\n",
       "      <td>   4.177682</td>\n",
       "      <td>  41.971963</td>\n",
       "      <td>  12.658879</td>\n",
       "    </tr>\n",
       "    <tr>\n",
       "      <th>std</th>\n",
       "      <td>   3.310282</td>\n",
       "      <td>   7.721084</td>\n",
       "      <td>   2.285376</td>\n",
       "    </tr>\n",
       "    <tr>\n",
       "      <th>min</th>\n",
       "      <td>   0.128200</td>\n",
       "      <td>  30.000000</td>\n",
       "      <td>   5.000000</td>\n",
       "    </tr>\n",
       "    <tr>\n",
       "      <th>25%</th>\n",
       "      <td>   2.262600</td>\n",
       "      <td>  35.000000</td>\n",
       "      <td>  12.000000</td>\n",
       "    </tr>\n",
       "    <tr>\n",
       "      <th>50%</th>\n",
       "      <td>   3.481900</td>\n",
       "      <td>  42.000000</td>\n",
       "      <td>  12.000000</td>\n",
       "    </tr>\n",
       "    <tr>\n",
       "      <th>75%</th>\n",
       "      <td>   4.970750</td>\n",
       "      <td>  47.250000</td>\n",
       "      <td>  14.000000</td>\n",
       "    </tr>\n",
       "    <tr>\n",
       "      <th>max</th>\n",
       "      <td>  25.000000</td>\n",
       "      <td>  60.000000</td>\n",
       "      <td>  17.000000</td>\n",
       "    </tr>\n",
       "  </tbody>\n",
       "</table>\n",
       "</div>"
      ],
      "text/plain": [
       "             wage         age        educ\n",
       "count  428.000000  428.000000  428.000000\n",
       "mean     4.177682   41.971963   12.658879\n",
       "std      3.310282    7.721084    2.285376\n",
       "min      0.128200   30.000000    5.000000\n",
       "25%      2.262600   35.000000   12.000000\n",
       "50%      3.481900   42.000000   12.000000\n",
       "75%      4.970750   47.250000   14.000000\n",
       "max     25.000000   60.000000   17.000000"
      ]
     },
     "execution_count": 190,
     "metadata": {},
     "output_type": "execute_result"
    }
   ],
   "source": [
    "data_df_wage[['wage','age','educ']].describe()"
   ]
  },
  {
   "cell_type": "code",
   "execution_count": 191,
   "metadata": {
    "collapsed": false
   },
   "outputs": [],
   "source": [
    "median_wage = data_df_wage['wage'].median()\n",
    "data_df_husband_super_median = data_df_wage[data_df_wage['huswage'] >= median_wage]\n",
    "data_df_husband_inferior_median = data_df_wage[data_df_wage['huswage']< median_wage]"
   ]
  },
  {
   "cell_type": "code",
   "execution_count": 192,
   "metadata": {
    "collapsed": false
   },
   "outputs": [
    {
     "data": {
      "text/html": [
       "<div style=\"max-height:1000px;max-width:1500px;overflow:auto;\">\n",
       "<table border=\"1\" class=\"dataframe\">\n",
       "  <thead>\n",
       "    <tr style=\"text-align: right;\">\n",
       "      <th></th>\n",
       "      <th>wage</th>\n",
       "      <th>age</th>\n",
       "      <th>educ</th>\n",
       "    </tr>\n",
       "  </thead>\n",
       "  <tbody>\n",
       "    <tr>\n",
       "      <th>count</th>\n",
       "      <td> 380.000000</td>\n",
       "      <td> 380.000000</td>\n",
       "      <td> 380.000000</td>\n",
       "    </tr>\n",
       "    <tr>\n",
       "      <th>mean</th>\n",
       "      <td>   4.209165</td>\n",
       "      <td>  41.973684</td>\n",
       "      <td>  12.684211</td>\n",
       "    </tr>\n",
       "    <tr>\n",
       "      <th>std</th>\n",
       "      <td>   3.335807</td>\n",
       "      <td>   7.674743</td>\n",
       "      <td>   2.299538</td>\n",
       "    </tr>\n",
       "    <tr>\n",
       "      <th>min</th>\n",
       "      <td>   0.128200</td>\n",
       "      <td>  30.000000</td>\n",
       "      <td>   5.000000</td>\n",
       "    </tr>\n",
       "    <tr>\n",
       "      <th>25%</th>\n",
       "      <td>   2.274725</td>\n",
       "      <td>  35.000000</td>\n",
       "      <td>  12.000000</td>\n",
       "    </tr>\n",
       "    <tr>\n",
       "      <th>50%</th>\n",
       "      <td>   3.566500</td>\n",
       "      <td>  43.000000</td>\n",
       "      <td>  12.000000</td>\n",
       "    </tr>\n",
       "    <tr>\n",
       "      <th>75%</th>\n",
       "      <td>   5.089100</td>\n",
       "      <td>  47.000000</td>\n",
       "      <td>  14.000000</td>\n",
       "    </tr>\n",
       "    <tr>\n",
       "      <th>max</th>\n",
       "      <td>  25.000000</td>\n",
       "      <td>  60.000000</td>\n",
       "      <td>  17.000000</td>\n",
       "    </tr>\n",
       "  </tbody>\n",
       "</table>\n",
       "</div>"
      ],
      "text/plain": [
       "             wage         age        educ\n",
       "count  380.000000  380.000000  380.000000\n",
       "mean     4.209165   41.973684   12.684211\n",
       "std      3.335807    7.674743    2.299538\n",
       "min      0.128200   30.000000    5.000000\n",
       "25%      2.274725   35.000000   12.000000\n",
       "50%      3.566500   43.000000   12.000000\n",
       "75%      5.089100   47.000000   14.000000\n",
       "max     25.000000   60.000000   17.000000"
      ]
     },
     "execution_count": 192,
     "metadata": {},
     "output_type": "execute_result"
    }
   ],
   "source": [
    "data_df_husband_super_median[['wage','age','educ']].describe()"
   ]
  },
  {
   "cell_type": "code",
   "execution_count": 193,
   "metadata": {
    "collapsed": false
   },
   "outputs": [
    {
     "data": {
      "text/html": [
       "<div style=\"max-height:1000px;max-width:1500px;overflow:auto;\">\n",
       "<table border=\"1\" class=\"dataframe\">\n",
       "  <thead>\n",
       "    <tr style=\"text-align: right;\">\n",
       "      <th></th>\n",
       "      <th>wage</th>\n",
       "      <th>age</th>\n",
       "      <th>educ</th>\n",
       "    </tr>\n",
       "  </thead>\n",
       "  <tbody>\n",
       "    <tr>\n",
       "      <th>count</th>\n",
       "      <td> 48.000000</td>\n",
       "      <td> 48.000000</td>\n",
       "      <td> 48.000000</td>\n",
       "    </tr>\n",
       "    <tr>\n",
       "      <th>mean</th>\n",
       "      <td>  3.928437</td>\n",
       "      <td> 41.958333</td>\n",
       "      <td> 12.458333</td>\n",
       "    </tr>\n",
       "    <tr>\n",
       "      <th>std</th>\n",
       "      <td>  3.122774</td>\n",
       "      <td>  8.163120</td>\n",
       "      <td>  2.182701</td>\n",
       "    </tr>\n",
       "    <tr>\n",
       "      <th>min</th>\n",
       "      <td>  1.201900</td>\n",
       "      <td> 30.000000</td>\n",
       "      <td>  8.000000</td>\n",
       "    </tr>\n",
       "    <tr>\n",
       "      <th>25%</th>\n",
       "      <td>  2.135750</td>\n",
       "      <td> 35.000000</td>\n",
       "      <td> 11.750000</td>\n",
       "    </tr>\n",
       "    <tr>\n",
       "      <th>50%</th>\n",
       "      <td>  2.945800</td>\n",
       "      <td> 40.500000</td>\n",
       "      <td> 12.000000</td>\n",
       "    </tr>\n",
       "    <tr>\n",
       "      <th>75%</th>\n",
       "      <td>  4.352375</td>\n",
       "      <td> 49.250000</td>\n",
       "      <td> 14.000000</td>\n",
       "    </tr>\n",
       "    <tr>\n",
       "      <th>max</th>\n",
       "      <td> 18.267000</td>\n",
       "      <td> 59.000000</td>\n",
       "      <td> 16.000000</td>\n",
       "    </tr>\n",
       "  </tbody>\n",
       "</table>\n",
       "</div>"
      ],
      "text/plain": [
       "            wage        age       educ\n",
       "count  48.000000  48.000000  48.000000\n",
       "mean    3.928437  41.958333  12.458333\n",
       "std     3.122774   8.163120   2.182701\n",
       "min     1.201900  30.000000   8.000000\n",
       "25%     2.135750  35.000000  11.750000\n",
       "50%     2.945800  40.500000  12.000000\n",
       "75%     4.352375  49.250000  14.000000\n",
       "max    18.267000  59.000000  16.000000"
      ]
     },
     "execution_count": 193,
     "metadata": {},
     "output_type": "execute_result"
    }
   ],
   "source": [
    "data_df_husband_inferior_median[['wage','age','educ']].describe()"
   ]
  },
  {
   "cell_type": "markdown",
   "metadata": {},
   "source": [
    "## Question 3"
   ]
  },
  {
   "cell_type": "markdown",
   "metadata": {},
   "source": [
    ">*Faire l'histogramme de la variable wage. Calculer le log de wage et faire l'histogramme. Comparez les deux histogrammes et commentez*"
   ]
  },
  {
   "cell_type": "code",
   "execution_count": 194,
   "metadata": {
    "collapsed": false
   },
   "outputs": [
    {
     "data": {
      "image/png": "[encoded data removed]",
      "text/plain": [
       "<matplotlib.figure.Figure at 0x7f03ee584190>"
      ]
     },
     "metadata": {},
     "output_type": "display_data"
    },
    {
     "data": {
      "image/png": "[encoded data removed]",
      "text/plain": [
       "<matplotlib.figure.Figure at 0x7f03eed55810>"
      ]
     },
     "metadata": {},
     "output_type": "display_data"
    }
   ],
   "source": [
    "data_df_wage['wage'].hist(bins=10)\n",
    "plt.show()\n",
    "lwage = data_df_wage['wage'].apply(np.log)\n",
    "lwage.hist(bins=10)\n",
    "plt.show()"
   ]
  },
  {
   "cell_type": "markdown",
   "metadata": {},
   "source": [
    "## Question 4"
   ]
  },
  {
   "cell_type": "markdown",
   "metadata": {},
   "source": [
    "> *Calculer les corrélations motheduc et fatheduc. Commentez. Il y a-t-il un problème de multicollinéarité si l'on utilise ces variables comme variables explicatives ?*"
   ]
  },
  {
   "cell_type": "code",
   "execution_count": 195,
   "metadata": {
    "collapsed": false
   },
   "outputs": [
    {
     "name": "stdout",
     "output_type": "stream",
     "text": [
      "(0.066882765014884896, 0.16722307898370126)\n",
      "(0.5540632184311679, 8.3023444358239354e-36)\n"
     ]
    }
   ],
   "source": [
    "#Pearson correlation\n",
    "#return (Pearson’s correlation coefficient,2-tailed p-value)\n",
    "correlation1 = stats.pearsonr(datas[:,15],datas[:,16])\n",
    "print correlation1\n",
    "correlation2 = stats.pearsonr(datas[:,14],datas[:,15])\n",
    "print correlation2"
   ]
  },
  {
   "cell_type": "markdown",
   "metadata": {},
   "source": [
    "#Version pandas"
   ]
  },
  {
   "cell_type": "code",
   "execution_count": 196,
   "metadata": {
    "collapsed": false
   },
   "outputs": [
    {
     "data": {
      "text/html": [
       "<div style=\"max-height:1000px;max-width:1500px;overflow:auto;\">\n",
       "<table border=\"1\" class=\"dataframe\">\n",
       "  <thead>\n",
       "    <tr style=\"text-align: right;\">\n",
       "      <th></th>\n",
       "      <th>motheduc</th>\n",
       "      <th>fatheduc</th>\n",
       "    </tr>\n",
       "  </thead>\n",
       "  <tbody>\n",
       "    <tr>\n",
       "      <th>motheduc</th>\n",
       "      <td> 1.000000</td>\n",
       "      <td> 0.554063</td>\n",
       "    </tr>\n",
       "    <tr>\n",
       "      <th>fatheduc</th>\n",
       "      <td> 0.554063</td>\n",
       "      <td> 1.000000</td>\n",
       "    </tr>\n",
       "  </tbody>\n",
       "</table>\n",
       "</div>"
      ],
      "text/plain": [
       "          motheduc  fatheduc\n",
       "motheduc  1.000000  0.554063\n",
       "fatheduc  0.554063  1.000000"
      ]
     },
     "execution_count": 196,
     "metadata": {},
     "output_type": "execute_result"
    }
   ],
   "source": [
    "data_df_wage[['motheduc','fatheduc']].corr()"
   ]
  },
  {
   "cell_type": "markdown",
   "metadata": {},
   "source": [
    "## Question 5"
   ]
  },
  {
   "cell_type": "markdown",
   "metadata": {},
   "source": [
    "> *Faites un graphique en nuage de point entre wage et educ, wage et exper, wage et fatheduc. Commentez. S'agit-il d'un effet \"toute chose étant égale par ailleurs ?\"*"
   ]
  },
  {
   "cell_type": "code",
   "execution_count": 197,
   "metadata": {
    "collapsed": false
   },
   "outputs": [
    {
     "data": {
      "image/png": "[encoded data removed]",
      "text/plain": [
       "<matplotlib.figure.Figure at 0x7f03eff0d0d0>"
      ]
     },
     "metadata": {},
     "output_type": "display_data"
    },
    {
     "data": {
      "image/png": "[encoded data removed]",
      "text/plain": [
       "<matplotlib.figure.Figure at 0x7f03ee632e50>"
      ]
     },
     "metadata": {},
     "output_type": "display_data"
    },
    {
     "data": {
      "image/png": "[encoded data removed]",
      "text/plain": [
       "<matplotlib.figure.Figure at 0x7f03eff48690>"
      ]
     },
     "metadata": {},
     "output_type": "display_data"
    }
   ],
   "source": [
    "educ = data_df_wage['educ']\n",
    "wage = data_df_wage['wage']\n",
    "exper = data_df_wage['exper']\n",
    "fatheduc = data_df_wage['fatheduc']\n",
    "\n",
    "#wage vs educ\n",
    "pl.figure()\n",
    "pl.scatter(educ,wage)\n",
    "pl.xlabel('educ')\n",
    "pl.ylabel('wage')\n",
    "pl.title('wage vs educ')\n",
    "pl.show()\n",
    "#wage vs exper\n",
    "pl.figure()\n",
    "pl.scatter(exper,wage)\n",
    "pl.xlabel('exper')\n",
    "pl.ylabel('wage')\n",
    "pl.title('wage vs exper')\n",
    "pl.show()\n",
    "#wage vs fatheduc\n",
    "pl.figure()\n",
    "pl.scatter(fatheduc,wage)\n",
    "pl.xlabel('fatheduc')\n",
    "pl.ylabel('wage')\n",
    "pl.title('wage vs fatheduc')\n",
    "pl.show()"
   ]
  },
  {
   "cell_type": "markdown",
   "metadata": {},
   "source": [
    "## QUESTION 6"
   ]
  },
  {
   "cell_type": "markdown",
   "metadata": {},
   "source": [
    ">  *Quelle est l'hypothèse fondamentale qui garanti des estimateurs non biaisés ?*"
   ]
  },
  {
   "cell_type": "markdown",
   "metadata": {},
   "source": [
    "CF le cours "
   ]
  },
  {
   "cell_type": "markdown",
   "metadata": {},
   "source": [
    "## QUESTION 7"
   ]
  },
  {
   "cell_type": "markdown",
   "metadata": {},
   "source": [
    ">  *Faire la régression de wage en utilisant les variables explicatives une constante, city, educ, exper, nwifeinc, kidslt6, kidsgt6. Commentez l'histogramme des résidus. *"
   ]
  },
  {
   "cell_type": "code",
   "execution_count": 198,
   "metadata": {
    "collapsed": false
   },
   "outputs": [
    {
     "name": "stdout",
     "output_type": "stream",
     "text": [
      "[ 0.36975203  0.4600477   0.02381995  0.01524479  0.03617319 -0.06189091\n",
      " -2.40345399]\n"
     ]
    },
    {
     "data": {
      "image/png": "[encoded data removed]",
      "text/plain": [
       "<matplotlib.figure.Figure at 0x7f03f002f810>"
      ]
     },
     "metadata": {},
     "output_type": "display_data"
    }
   ],
   "source": [
    "data_df_wage_X = data_df_wage[['city','educ','exper','nwifeinc','kidslt6','kidsge6']].copy()\n",
    "data_df_wage_X['cste'] = 1\n",
    "data_df_wage_Y = data_df_wage['wage']\n",
    "X = data_df_wage_X.as_matrix()\n",
    "Y = data_df_wage_Y = data_df_wage['wage']\n",
    "\n",
    "inv_xx  = linalg.inv(X.T.dot(X))\n",
    "beta = inv_xx.dot(X.T).dot(Y)\n",
    "prediction = X.dot(beta)\n",
    "residus = Y - prediction\n",
    "plt.hist(residus)\n",
    "plt.show()"
   ]
  },
  {
   "cell_type": "markdown",
   "metadata": {},
   "source": [
    "## QUESTION 8"
   ]
  },
  {
   "cell_type": "markdown",
   "metadata": {},
   "source": [
    ">  *Faire la régrssion de lwage sur une constante, city, educ, exper, nwifeinc, kidslt6, kidsgt6. Commentez l’histogramme des résidus.*"
   ]
  },
  {
   "cell_type": "code",
   "execution_count": 199,
   "metadata": {
    "collapsed": false
   },
   "outputs": [
    {
     "data": {
      "image/png": "[encoded data removed]",
      "text/plain": [
       "<matplotlib.figure.Figure at 0x7f03efe43d10>"
      ]
     },
     "metadata": {},
     "output_type": "display_data"
    }
   ],
   "source": [
    "data_df_wage_X = data_df_wage[['city','educ','exper','nwifeinc','kidslt6','kidsge6']].copy()\n",
    "data_df_wage_X['cste'] = 1\n",
    "X = data_df_wage_X.as_matrix()\n",
    "Y = data_df_wage['lwage']\n",
    "\n",
    "inv_xx  = linalg.inv(X.T.dot(X))\n",
    "beta_log = inv_xx.dot(X.T).dot(Y)\n",
    "prediction_log = X.dot(beta_log)\n",
    "residus_log = Y - prediction_log\n",
    "plt.hist(residus_log)\n",
    "plt.show()"
   ]
  },
  {
   "cell_type": "markdown",
   "metadata": {},
   "source": [
    "## QUESTION 9"
   ]
  },
  {
   "cell_type": "markdown",
   "metadata": {},
   "source": [
    ">  *Tester l'hypothèse de non significativité de exper avec un seuil de significativité de 1%, 5% et 10% (test alternatif des deux côtés). Commentez les p-values. Tester l’hypothèse que le coefficient associé à educ est égal à 10% avec un seuil de significativité de 5% (test à alternatif des deux côtés)*"
   ]
  },
  {
   "cell_type": "code",
   "execution_count": 203,
   "metadata": {
    "collapsed": false
   },
   "outputs": [
    {
     "name": "stdout",
     "output_type": "stream",
     "text": [
      "Test for  t_exper = 3.45171828081\n",
      "alpha : 0.01 , t = 5.17511514611,  p_valeur = 0.000306682539507\n",
      "alpha : 0.05 , t = 3.93122958402,  p_valeur = 0.000306682539507\n",
      "alpha : 0.1 , t = 3.29696211425,  p_valeur = 0.000306682539507\n",
      "0.440880835299\n",
      "0.148826664688\n"
     ]
    },
    {
     "data": {
      "text/plain": [
       "2.517648016044097"
      ]
     },
     "execution_count": 203,
     "metadata": {},
     "output_type": "execute_result"
    }
   ],
   "source": [
    "n,k = X.shape\n",
    "sig2 = residus_log.T.dot(residus_log)/(n-k)\n",
    "std = np.sqrt(np.diag(sig2*(inv_xx)))\n",
    "alphas = [0.01,0.05,0.1]\n",
    "t = beta_log/std\n",
    "t_exper = t[2]\n",
    "\n",
    "#On rejette l'hypothese exper !=0 si t_exper >= au seuil\n",
    "#==> exprer different de 0 si t_exper >= t_statistique\n",
    "print \"Test for  t_exper = %s\" % t_exper\n",
    "for alpha in alphas:\n",
    "    p_value = stats.t.sf(t_exper,n-k)\n",
    "    t_statistique = stats.t.isf(alpha/2 , n-k)*2\n",
    "    print \"alpha : %s , t = %s,  p_valeur = %s\" %(alpha,t_statistique,p_value)\n",
    "\n",
    "\n",
    "beta_educ_H0 = 0.1\n",
    "t_educ = (beta_log[1]-beta_educ_H0)/std[1]\n",
    "t_educ, t_exper\n",
    "print \"p value : \" , stats.t.sf(t_educ,n-k)\n",
    "print t_educ\n",
    "#On rejtte l'hypothese alternative car t_educ <= au seuil\n",
    "stats.t.isf( 0.01 , 21)"
   ]
  },
  {
   "cell_type": "markdown",
   "metadata": {},
   "source": [
    "## QUESTION 10"
   ]
  },
  {
   "cell_type": "markdown",
   "metadata": {},
   "source": [
    ">  *De combien augmente wage avec 10 années d’expérience ?*"
   ]
  },
  {
   "cell_type": "code",
   "execution_count": 201,
   "metadata": {
    "collapsed": false
   },
   "outputs": [
    {
     "data": {
      "text/plain": [
       "0.15487872095843438"
      ]
     },
     "execution_count": 201,
     "metadata": {},
     "output_type": "execute_result"
    }
   ],
   "source": [
    "#Pas sur de la question : \n",
    "# - Prédire avec expr = expr +10 pour tous?\n",
    "# - Prédire seulement expr >10 vs expr <=10 ?\n",
    "beta_educ = beta_log[2]\n",
    "delta_wage = 10*beta_educ\n",
    "delta_wage"
   ]
  },
  {
   "cell_type": "markdown",
   "metadata": {},
   "source": [
    "## QUESTION 11"
   ]
  },
  {
   "cell_type": "markdown",
   "metadata": {},
   "source": [
    ">  *Tester l’égalité des coefficients associés aux variables kidsgt6 et kidslt6. Interprétez.*"
   ]
  },
  {
   "cell_type": "code",
   "execution_count": 208,
   "metadata": {
    "collapsed": false
   },
   "outputs": [
    {
     "name": "stdout",
     "output_type": "stream",
     "text": [
      "-0.531052318888\n",
      "p - value = 0.702168716162\n"
     ]
    }
   ],
   "source": [
    "#Construction de l'hypothese kidsgt6 == kidslt6\n",
    "#On crée un nouveau paramètre:\n",
    "#Redéfinition de la variable\n",
    "data_df_wage_X_new_param = data_df_wage_X.copy()\n",
    "data_df_wage_X_new_param['kids'] = data_df_wage_X['kidsge6']+data_df_wage_X['kidslt6']\n",
    "del data_df_wage_X_new_param['kidsge6']\n",
    "X = data_df_wage_X.as_matrix()\n",
    "Y = data_df_wage['lwage']\n",
    "\n",
    "#Nouvelle régression\n",
    "inv_xx  = linalg.inv(X.T.dot(X))\n",
    "beta_log = inv_xx.dot(X.T).dot(Y)\n",
    "prediction_log = X.dot(beta_log)\n",
    "residus_log = Y - prediction_log\n",
    "\n",
    "#Calcul de Student :\n",
    "n,k = X.shape\n",
    "sig2 = residus_log.T.dot(residus_log)/(n-k)\n",
    "std = np.sqrt(np.diag(sig2*(inv_xx)))\n",
    "t = beta_log/std\n",
    "p_value = stats.t.sf(t[4],n-k)\n",
    "print t[4]\n",
    "print \"p - value = %s\" % p_value\n"
   ]
  },
  {
   "cell_type": "markdown",
   "metadata": {},
   "source": [
    "## QUESTION 12"
   ]
  },
  {
   "cell_type": "markdown",
   "metadata": {},
   "source": [
    ">  *En utilisant le modèle de la question 8, faire le test d'hétéroscédasticité de forme linéaire. Corriger le problème par rapport à la variable la plus importante en utilisant la méthode des moindres carrés pondérés.*"
   ]
  },
  {
   "cell_type": "code",
   "execution_count": 239,
   "metadata": {
    "collapsed": false
   },
   "outputs": [
    {
     "data": {
      "text/plain": [
       "array([ 0.07268108,  0.01866575, -0.01523967, -0.00280013,  0.14306439,\n",
       "        0.01920444,  0.3635359 ])"
      ]
     },
     "execution_count": 239,
     "metadata": {},
     "output_type": "execute_result"
    }
   ],
   "source": [
    "#Réériture question 8 : \n",
    "data_df_wage_X = data_df_wage[['city','educ','exper','nwifeinc','kidslt6','kidsge6']].copy()\n",
    "data_df_wage_X['cste'] = 1\n",
    "X = data_df_wage_X.as_matrix()\n",
    "Y = data_df_wage['lwage']\n",
    "\n",
    "inv_xx  = linalg.inv(X.T.dot(X))\n",
    "beta_log = inv_xx.dot(X.T).dot(Y)\n",
    "prediction_log = X.dot(beta_log)\n",
    "residus_log = Y - prediction_log\n",
    "residus_log_2 = residus_log **2\n",
    "\n",
    "Y = residus_log_2\n",
    "beta_log = inv_xx.dot(X.T).dot(Y)\n",
    "prediction_log = X.dot(beta_log)\n",
    "residus_log = Y - prediction_log\n",
    "#Calcul de Student :\n",
    "n,k = X.shape\n",
    "sig2 = residus_log.T.dot(residus_log)/(n-k)\n",
    "std = np.sqrt(np.diag(sig2*(inv_xx)))\n",
    "t = beta_log/std\n",
    "p_value = stats.t.sf(t,n-k)\n",
    "t, p_value\n",
    "\n",
    "###???###\n",
    "weighted_variable = 'kidslt6'\n",
    "Ys = Y/np.sqrt(1+data_df_wage_X[weighted_variable])\n",
    "Xs = data_df_wage_X.apply(lambda x: x/np.sqrt(1+data_df_wage_X[weighted_variable]))\n",
    "\n",
    "inv_xxs  = linalg.inv(Xs.T.dot(Xs))\n",
    "beta_log = inv_xxs.dot(Xs.T).dot(Ys)\n",
    "prediction_log = X.dot(beta_log)\n",
    "residus_log = Ys - prediction_log\n",
    "\n"
   ]
  },
  {
   "cell_type": "markdown",
   "metadata": {},
   "source": [
    "## QUESTION 13"
   ]
  },
  {
   "cell_type": "markdown",
   "metadata": {},
   "source": [
    ">  *Tester le changement de structure de la question 7 entre les femmes qui ont plus de deux enfants de moins de 6 ans et les autres : test sur l'ensemble des coefficients.*"
   ]
  },
  {
   "cell_type": "code",
   "execution_count": 269,
   "metadata": {
    "collapsed": false
   },
   "outputs": [
    {
     "ename": "LinAlgError",
     "evalue": "singular matrix",
     "output_type": "error",
     "traceback": [
      "\u001b[1;31m---------------------------------------------------------------------------\u001b[0m",
      "\u001b[1;31mLinAlgError\u001b[0m                               Traceback (most recent call last)",
      "\u001b[1;32m<ipython-input-269-bbae86731d99>\u001b[0m in \u001b[0;36m<module>\u001b[1;34m()\u001b[0m\n\u001b[0;32m     14\u001b[0m \u001b[0mX\u001b[0m \u001b[1;33m=\u001b[0m \u001b[0munion\u001b[0m\u001b[1;33m.\u001b[0m\u001b[0mas_matrix\u001b[0m\u001b[1;33m(\u001b[0m\u001b[1;33m)\u001b[0m\u001b[1;33m\u001b[0m\u001b[0m\n\u001b[0;32m     15\u001b[0m \u001b[1;33m\u001b[0m\u001b[0m\n\u001b[1;32m---> 16\u001b[1;33m \u001b[0minv_xx\u001b[0m  \u001b[1;33m=\u001b[0m \u001b[0mlinalg\u001b[0m\u001b[1;33m.\u001b[0m\u001b[0minv\u001b[0m\u001b[1;33m(\u001b[0m\u001b[0mX\u001b[0m\u001b[1;33m.\u001b[0m\u001b[0mT\u001b[0m\u001b[1;33m.\u001b[0m\u001b[0mdot\u001b[0m\u001b[1;33m(\u001b[0m\u001b[0mX\u001b[0m\u001b[1;33m)\u001b[0m\u001b[1;33m)\u001b[0m\u001b[1;33m\u001b[0m\u001b[0m\n\u001b[0m\u001b[0;32m     17\u001b[0m \u001b[0mbeta_log\u001b[0m \u001b[1;33m=\u001b[0m \u001b[0minv_xx\u001b[0m\u001b[1;33m.\u001b[0m\u001b[0mdot\u001b[0m\u001b[1;33m(\u001b[0m\u001b[0mX\u001b[0m\u001b[1;33m.\u001b[0m\u001b[0mT\u001b[0m\u001b[1;33m)\u001b[0m\u001b[1;33m.\u001b[0m\u001b[0mdot\u001b[0m\u001b[1;33m(\u001b[0m\u001b[0mY\u001b[0m\u001b[1;33m)\u001b[0m\u001b[1;33m\u001b[0m\u001b[0m\n\u001b[0;32m     18\u001b[0m \u001b[0mprediction_log\u001b[0m \u001b[1;33m=\u001b[0m \u001b[0mX\u001b[0m\u001b[1;33m.\u001b[0m\u001b[0mdot\u001b[0m\u001b[1;33m(\u001b[0m\u001b[0mbeta_log\u001b[0m\u001b[1;33m)\u001b[0m\u001b[1;33m\u001b[0m\u001b[0m\n",
      "\u001b[1;32m/home/florian/anaconda/lib/python2.7/site-packages/scipy/linalg/basic.pyc\u001b[0m in \u001b[0;36minv\u001b[1;34m(a, overwrite_a, check_finite)\u001b[0m\n\u001b[0;32m    383\u001b[0m         \u001b[0minv_a\u001b[0m\u001b[1;33m,\u001b[0m \u001b[0minfo\u001b[0m \u001b[1;33m=\u001b[0m \u001b[0mgetri\u001b[0m\u001b[1;33m(\u001b[0m\u001b[0mlu\u001b[0m\u001b[1;33m,\u001b[0m \u001b[0mpiv\u001b[0m\u001b[1;33m,\u001b[0m \u001b[0mlwork\u001b[0m\u001b[1;33m=\u001b[0m\u001b[0mlwork\u001b[0m\u001b[1;33m,\u001b[0m \u001b[0moverwrite_lu\u001b[0m\u001b[1;33m=\u001b[0m\u001b[1;36m1\u001b[0m\u001b[1;33m)\u001b[0m\u001b[1;33m\u001b[0m\u001b[0m\n\u001b[0;32m    384\u001b[0m     \u001b[1;32mif\u001b[0m \u001b[0minfo\u001b[0m \u001b[1;33m>\u001b[0m \u001b[1;36m0\u001b[0m\u001b[1;33m:\u001b[0m\u001b[1;33m\u001b[0m\u001b[0m\n\u001b[1;32m--> 385\u001b[1;33m         \u001b[1;32mraise\u001b[0m \u001b[0mLinAlgError\u001b[0m\u001b[1;33m(\u001b[0m\u001b[1;34m\"singular matrix\"\u001b[0m\u001b[1;33m)\u001b[0m\u001b[1;33m\u001b[0m\u001b[0m\n\u001b[0m\u001b[0;32m    386\u001b[0m     \u001b[1;32mif\u001b[0m \u001b[0minfo\u001b[0m \u001b[1;33m<\u001b[0m \u001b[1;36m0\u001b[0m\u001b[1;33m:\u001b[0m\u001b[1;33m\u001b[0m\u001b[0m\n\u001b[0;32m    387\u001b[0m         raise ValueError('illegal value in %d-th argument of internal '\n",
      "\u001b[1;31mLinAlgError\u001b[0m: singular matrix"
     ]
    }
   ],
   "source": [
    "data_df_wage_X = data_df_wage[['city','educ','exper','nwifeinc','kidslt6','kidsge6']].copy()\n",
    "data_df_wage_X['cste'] = 1\n",
    "data_df_wage_Y = data_df_wage['wage']\n",
    "Y =  data_df_wage['wage']\n",
    "\n",
    "#Variables d'intéractions : \n",
    "gt2kids = data_df_wage_X[data_df_wage_X['kidslt6']>=2]\n",
    "union = data_df_wage_X.merge(gt2kids,\n",
    "                             left_index=True,\n",
    "                             right_index=True,\n",
    "                             how='outer',\n",
    "                             suffixes=(\"origin\",\"gt2kids\"))\n",
    "union = union.replace(\"NaN\",0)\n",
    "X = union.as_matrix()\n",
    "\n",
    "inv_xx  = linalg.inv(X.T.dot(X))\n",
    "beta_log = inv_xx.dot(X.T).dot(Y)\n",
    "prediction_log = X.dot(beta_log)\n",
    "residus_log = Y - prediction_log"
   ]
  },
  {
   "cell_type": "markdown",
   "metadata": {},
   "source": [
    "## QUESTION 14"
   ]
  },
  {
   "cell_type": "markdown",
   "metadata": {},
   "source": [
    ">  *Transformer la variable kidslt6 en variables binaires. Refaire la question 7 avec ces variables en utilisant la catégorie kidslt6 = 1 comme référence. Interprétez les paramètres associés aux variables binaires.*"
   ]
  },
  {
   "cell_type": "code",
   "execution_count": 289,
   "metadata": {
    "collapsed": false
   },
   "outputs": [
    {
     "data": {
      "text/html": [
       "<div style=\"max-height:1000px;max-width:1500px;overflow:auto;\">\n",
       "<table border=\"1\" class=\"dataframe\">\n",
       "  <thead>\n",
       "    <tr style=\"text-align: right;\">\n",
       "      <th></th>\n",
       "      <th>city</th>\n",
       "      <th>educ</th>\n",
       "      <th>exper</th>\n",
       "      <th>nwifeinc</th>\n",
       "      <th>kidsge6</th>\n",
       "      <th>cste</th>\n",
       "      <th>#kidslt6:0.0</th>\n",
       "      <th>#kidslt6:1.0</th>\n",
       "      <th>#kidslt6:2.0</th>\n",
       "    </tr>\n",
       "  </thead>\n",
       "  <tbody>\n",
       "    <tr>\n",
       "      <th>0  </th>\n",
       "      <td> 0</td>\n",
       "      <td> 12</td>\n",
       "      <td> 14</td>\n",
       "      <td> 10.910060</td>\n",
       "      <td> 0</td>\n",
       "      <td> 1</td>\n",
       "      <td> 0</td>\n",
       "      <td> 1</td>\n",
       "      <td> 0</td>\n",
       "    </tr>\n",
       "    <tr>\n",
       "      <th>1  </th>\n",
       "      <td> 1</td>\n",
       "      <td> 12</td>\n",
       "      <td>  5</td>\n",
       "      <td> 19.499980</td>\n",
       "      <td> 2</td>\n",
       "      <td> 1</td>\n",
       "      <td> 1</td>\n",
       "      <td> 0</td>\n",
       "      <td> 0</td>\n",
       "    </tr>\n",
       "    <tr>\n",
       "      <th>2  </th>\n",
       "      <td> 0</td>\n",
       "      <td> 12</td>\n",
       "      <td> 15</td>\n",
       "      <td> 12.039910</td>\n",
       "      <td> 3</td>\n",
       "      <td> 1</td>\n",
       "      <td> 0</td>\n",
       "      <td> 1</td>\n",
       "      <td> 0</td>\n",
       "    </tr>\n",
       "    <tr>\n",
       "      <th>3  </th>\n",
       "      <td> 0</td>\n",
       "      <td> 12</td>\n",
       "      <td>  6</td>\n",
       "      <td>  6.799996</td>\n",
       "      <td> 3</td>\n",
       "      <td> 1</td>\n",
       "      <td> 1</td>\n",
       "      <td> 0</td>\n",
       "      <td> 0</td>\n",
       "    </tr>\n",
       "    <tr>\n",
       "      <th>4  </th>\n",
       "      <td> 1</td>\n",
       "      <td> 14</td>\n",
       "      <td>  7</td>\n",
       "      <td> 20.100060</td>\n",
       "      <td> 2</td>\n",
       "      <td> 1</td>\n",
       "      <td> 0</td>\n",
       "      <td> 1</td>\n",
       "      <td> 0</td>\n",
       "    </tr>\n",
       "    <tr>\n",
       "      <th>5  </th>\n",
       "      <td> 1</td>\n",
       "      <td> 12</td>\n",
       "      <td> 33</td>\n",
       "      <td>  9.859054</td>\n",
       "      <td> 0</td>\n",
       "      <td> 1</td>\n",
       "      <td> 1</td>\n",
       "      <td> 0</td>\n",
       "      <td> 0</td>\n",
       "    </tr>\n",
       "    <tr>\n",
       "      <th>6  </th>\n",
       "      <td> 0</td>\n",
       "      <td> 16</td>\n",
       "      <td> 11</td>\n",
       "      <td>  9.152048</td>\n",
       "      <td> 2</td>\n",
       "      <td> 1</td>\n",
       "      <td> 1</td>\n",
       "      <td> 0</td>\n",
       "      <td> 0</td>\n",
       "    </tr>\n",
       "    <tr>\n",
       "      <th>7  </th>\n",
       "      <td> 0</td>\n",
       "      <td> 12</td>\n",
       "      <td> 35</td>\n",
       "      <td> 10.900040</td>\n",
       "      <td> 0</td>\n",
       "      <td> 1</td>\n",
       "      <td> 1</td>\n",
       "      <td> 0</td>\n",
       "      <td> 0</td>\n",
       "    </tr>\n",
       "    <tr>\n",
       "      <th>8  </th>\n",
       "      <td> 0</td>\n",
       "      <td> 12</td>\n",
       "      <td> 24</td>\n",
       "      <td> 17.305000</td>\n",
       "      <td> 2</td>\n",
       "      <td> 1</td>\n",
       "      <td> 1</td>\n",
       "      <td> 0</td>\n",
       "      <td> 0</td>\n",
       "    </tr>\n",
       "    <tr>\n",
       "      <th>9  </th>\n",
       "      <td> 0</td>\n",
       "      <td> 12</td>\n",
       "      <td> 21</td>\n",
       "      <td> 12.925000</td>\n",
       "      <td> 2</td>\n",
       "      <td> 1</td>\n",
       "      <td> 1</td>\n",
       "      <td> 0</td>\n",
       "      <td> 0</td>\n",
       "    </tr>\n",
       "    <tr>\n",
       "      <th>10 </th>\n",
       "      <td> 0</td>\n",
       "      <td> 12</td>\n",
       "      <td> 15</td>\n",
       "      <td> 24.299950</td>\n",
       "      <td> 1</td>\n",
       "      <td> 1</td>\n",
       "      <td> 1</td>\n",
       "      <td> 0</td>\n",
       "      <td> 0</td>\n",
       "    </tr>\n",
       "    <tr>\n",
       "      <th>11 </th>\n",
       "      <td> 0</td>\n",
       "      <td> 11</td>\n",
       "      <td> 14</td>\n",
       "      <td> 19.700070</td>\n",
       "      <td> 1</td>\n",
       "      <td> 1</td>\n",
       "      <td> 1</td>\n",
       "      <td> 0</td>\n",
       "      <td> 0</td>\n",
       "    </tr>\n",
       "    <tr>\n",
       "      <th>12 </th>\n",
       "      <td> 0</td>\n",
       "      <td> 12</td>\n",
       "      <td>  0</td>\n",
       "      <td> 15.000010</td>\n",
       "      <td> 2</td>\n",
       "      <td> 1</td>\n",
       "      <td> 0</td>\n",
       "      <td> 1</td>\n",
       "      <td> 0</td>\n",
       "    </tr>\n",
       "    <tr>\n",
       "      <th>13 </th>\n",
       "      <td> 1</td>\n",
       "      <td> 12</td>\n",
       "      <td> 14</td>\n",
       "      <td> 14.600000</td>\n",
       "      <td> 2</td>\n",
       "      <td> 1</td>\n",
       "      <td> 1</td>\n",
       "      <td> 0</td>\n",
       "      <td> 0</td>\n",
       "    </tr>\n",
       "    <tr>\n",
       "      <th>14 </th>\n",
       "      <td> 1</td>\n",
       "      <td> 10</td>\n",
       "      <td>  6</td>\n",
       "      <td> 24.630910</td>\n",
       "      <td> 1</td>\n",
       "      <td> 1</td>\n",
       "      <td> 1</td>\n",
       "      <td> 0</td>\n",
       "      <td> 0</td>\n",
       "    </tr>\n",
       "    <tr>\n",
       "      <th>15 </th>\n",
       "      <td> 1</td>\n",
       "      <td> 11</td>\n",
       "      <td>  9</td>\n",
       "      <td> 17.531030</td>\n",
       "      <td> 3</td>\n",
       "      <td> 1</td>\n",
       "      <td> 1</td>\n",
       "      <td> 0</td>\n",
       "      <td> 0</td>\n",
       "    </tr>\n",
       "    <tr>\n",
       "      <th>16 </th>\n",
       "      <td> 1</td>\n",
       "      <td> 12</td>\n",
       "      <td> 20</td>\n",
       "      <td> 14.099980</td>\n",
       "      <td> 2</td>\n",
       "      <td> 1</td>\n",
       "      <td> 1</td>\n",
       "      <td> 0</td>\n",
       "      <td> 0</td>\n",
       "    </tr>\n",
       "    <tr>\n",
       "      <th>17 </th>\n",
       "      <td> 1</td>\n",
       "      <td> 12</td>\n",
       "      <td>  6</td>\n",
       "      <td> 15.839000</td>\n",
       "      <td> 5</td>\n",
       "      <td> 1</td>\n",
       "      <td> 1</td>\n",
       "      <td> 0</td>\n",
       "      <td> 0</td>\n",
       "    </tr>\n",
       "    <tr>\n",
       "      <th>18 </th>\n",
       "      <td> 1</td>\n",
       "      <td> 12</td>\n",
       "      <td> 23</td>\n",
       "      <td> 14.100000</td>\n",
       "      <td> 0</td>\n",
       "      <td> 1</td>\n",
       "      <td> 1</td>\n",
       "      <td> 0</td>\n",
       "      <td> 0</td>\n",
       "    </tr>\n",
       "    <tr>\n",
       "      <th>19 </th>\n",
       "      <td> 0</td>\n",
       "      <td> 12</td>\n",
       "      <td>  9</td>\n",
       "      <td> 10.299960</td>\n",
       "      <td> 4</td>\n",
       "      <td> 1</td>\n",
       "      <td> 1</td>\n",
       "      <td> 0</td>\n",
       "      <td> 0</td>\n",
       "    </tr>\n",
       "    <tr>\n",
       "      <th>20 </th>\n",
       "      <td> 0</td>\n",
       "      <td> 16</td>\n",
       "      <td>  5</td>\n",
       "      <td> 22.654980</td>\n",
       "      <td> 2</td>\n",
       "      <td> 1</td>\n",
       "      <td> 1</td>\n",
       "      <td> 0</td>\n",
       "      <td> 0</td>\n",
       "    </tr>\n",
       "    <tr>\n",
       "      <th>21 </th>\n",
       "      <td> 0</td>\n",
       "      <td> 12</td>\n",
       "      <td> 11</td>\n",
       "      <td>  8.090048</td>\n",
       "      <td> 0</td>\n",
       "      <td> 1</td>\n",
       "      <td> 1</td>\n",
       "      <td> 0</td>\n",
       "      <td> 0</td>\n",
       "    </tr>\n",
       "    <tr>\n",
       "      <th>22 </th>\n",
       "      <td> 1</td>\n",
       "      <td> 13</td>\n",
       "      <td> 18</td>\n",
       "      <td> 17.479000</td>\n",
       "      <td> 0</td>\n",
       "      <td> 1</td>\n",
       "      <td> 1</td>\n",
       "      <td> 0</td>\n",
       "      <td> 0</td>\n",
       "    </tr>\n",
       "    <tr>\n",
       "      <th>23 </th>\n",
       "      <td> 0</td>\n",
       "      <td> 12</td>\n",
       "      <td> 15</td>\n",
       "      <td>  9.560000</td>\n",
       "      <td> 0</td>\n",
       "      <td> 1</td>\n",
       "      <td> 1</td>\n",
       "      <td> 0</td>\n",
       "      <td> 0</td>\n",
       "    </tr>\n",
       "    <tr>\n",
       "      <th>24 </th>\n",
       "      <td> 1</td>\n",
       "      <td> 12</td>\n",
       "      <td>  4</td>\n",
       "      <td>  8.274953</td>\n",
       "      <td> 1</td>\n",
       "      <td> 1</td>\n",
       "      <td> 0</td>\n",
       "      <td> 1</td>\n",
       "      <td> 0</td>\n",
       "    </tr>\n",
       "    <tr>\n",
       "      <th>25 </th>\n",
       "      <td> 1</td>\n",
       "      <td> 17</td>\n",
       "      <td> 21</td>\n",
       "      <td> 27.349990</td>\n",
       "      <td> 2</td>\n",
       "      <td> 1</td>\n",
       "      <td> 1</td>\n",
       "      <td> 0</td>\n",
       "      <td> 0</td>\n",
       "    </tr>\n",
       "    <tr>\n",
       "      <th>26 </th>\n",
       "      <td> 1</td>\n",
       "      <td> 12</td>\n",
       "      <td> 31</td>\n",
       "      <td> 16.000000</td>\n",
       "      <td> 0</td>\n",
       "      <td> 1</td>\n",
       "      <td> 1</td>\n",
       "      <td> 0</td>\n",
       "      <td> 0</td>\n",
       "    </tr>\n",
       "    <tr>\n",
       "      <th>27 </th>\n",
       "      <td> 1</td>\n",
       "      <td> 12</td>\n",
       "      <td>  9</td>\n",
       "      <td> 16.999980</td>\n",
       "      <td> 3</td>\n",
       "      <td> 1</td>\n",
       "      <td> 1</td>\n",
       "      <td> 0</td>\n",
       "      <td> 0</td>\n",
       "    </tr>\n",
       "    <tr>\n",
       "      <th>28 </th>\n",
       "      <td> 0</td>\n",
       "      <td> 17</td>\n",
       "      <td>  7</td>\n",
       "      <td> 15.100060</td>\n",
       "      <td> 0</td>\n",
       "      <td> 1</td>\n",
       "      <td> 0</td>\n",
       "      <td> 1</td>\n",
       "      <td> 0</td>\n",
       "    </tr>\n",
       "    <tr>\n",
       "      <th>29 </th>\n",
       "      <td> 0</td>\n",
       "      <td> 12</td>\n",
       "      <td>  7</td>\n",
       "      <td> 15.699980</td>\n",
       "      <td> 0</td>\n",
       "      <td> 1</td>\n",
       "      <td> 1</td>\n",
       "      <td> 0</td>\n",
       "      <td> 0</td>\n",
       "    </tr>\n",
       "    <tr>\n",
       "      <th>...</th>\n",
       "      <td>...</td>\n",
       "      <td>...</td>\n",
       "      <td>...</td>\n",
       "      <td>...</td>\n",
       "      <td>...</td>\n",
       "      <td>...</td>\n",
       "      <td>...</td>\n",
       "      <td>...</td>\n",
       "      <td>...</td>\n",
       "    </tr>\n",
       "    <tr>\n",
       "      <th>398</th>\n",
       "      <td> 1</td>\n",
       "      <td> 14</td>\n",
       "      <td> 14</td>\n",
       "      <td> 39.099980</td>\n",
       "      <td> 1</td>\n",
       "      <td> 1</td>\n",
       "      <td> 1</td>\n",
       "      <td> 0</td>\n",
       "      <td> 0</td>\n",
       "    </tr>\n",
       "    <tr>\n",
       "      <th>399</th>\n",
       "      <td> 1</td>\n",
       "      <td> 15</td>\n",
       "      <td> 17</td>\n",
       "      <td> 18.430070</td>\n",
       "      <td> 2</td>\n",
       "      <td> 1</td>\n",
       "      <td> 0</td>\n",
       "      <td> 0</td>\n",
       "      <td> 1</td>\n",
       "    </tr>\n",
       "    <tr>\n",
       "      <th>400</th>\n",
       "      <td> 1</td>\n",
       "      <td> 14</td>\n",
       "      <td>  5</td>\n",
       "      <td> 21.000000</td>\n",
       "      <td> 2</td>\n",
       "      <td> 1</td>\n",
       "      <td> 1</td>\n",
       "      <td> 0</td>\n",
       "      <td> 0</td>\n",
       "    </tr>\n",
       "    <tr>\n",
       "      <th>401</th>\n",
       "      <td> 0</td>\n",
       "      <td>  8</td>\n",
       "      <td>  2</td>\n",
       "      <td> 59.000000</td>\n",
       "      <td> 1</td>\n",
       "      <td> 1</td>\n",
       "      <td> 1</td>\n",
       "      <td> 0</td>\n",
       "      <td> 0</td>\n",
       "    </tr>\n",
       "    <tr>\n",
       "      <th>402</th>\n",
       "      <td> 1</td>\n",
       "      <td> 14</td>\n",
       "      <td>  0</td>\n",
       "      <td> 25.300000</td>\n",
       "      <td> 0</td>\n",
       "      <td> 1</td>\n",
       "      <td> 1</td>\n",
       "      <td> 0</td>\n",
       "      <td> 0</td>\n",
       "    </tr>\n",
       "    <tr>\n",
       "      <th>403</th>\n",
       "      <td> 1</td>\n",
       "      <td> 12</td>\n",
       "      <td>  3</td>\n",
       "      <td> 23.248990</td>\n",
       "      <td> 2</td>\n",
       "      <td> 1</td>\n",
       "      <td> 1</td>\n",
       "      <td> 0</td>\n",
       "      <td> 0</td>\n",
       "    </tr>\n",
       "    <tr>\n",
       "      <th>404</th>\n",
       "      <td> 1</td>\n",
       "      <td> 12</td>\n",
       "      <td> 21</td>\n",
       "      <td> 24.928090</td>\n",
       "      <td> 1</td>\n",
       "      <td> 1</td>\n",
       "      <td> 1</td>\n",
       "      <td> 0</td>\n",
       "      <td> 0</td>\n",
       "    </tr>\n",
       "    <tr>\n",
       "      <th>405</th>\n",
       "      <td> 1</td>\n",
       "      <td> 12</td>\n",
       "      <td> 20</td>\n",
       "      <td> 14.781990</td>\n",
       "      <td> 1</td>\n",
       "      <td> 1</td>\n",
       "      <td> 1</td>\n",
       "      <td> 0</td>\n",
       "      <td> 0</td>\n",
       "    </tr>\n",
       "    <tr>\n",
       "      <th>406</th>\n",
       "      <td> 1</td>\n",
       "      <td> 12</td>\n",
       "      <td> 19</td>\n",
       "      <td> 18.900030</td>\n",
       "      <td> 1</td>\n",
       "      <td> 1</td>\n",
       "      <td> 1</td>\n",
       "      <td> 0</td>\n",
       "      <td> 0</td>\n",
       "    </tr>\n",
       "    <tr>\n",
       "      <th>407</th>\n",
       "      <td> 1</td>\n",
       "      <td> 12</td>\n",
       "      <td>  4</td>\n",
       "      <td> 21.000000</td>\n",
       "      <td> 3</td>\n",
       "      <td> 1</td>\n",
       "      <td> 0</td>\n",
       "      <td> 1</td>\n",
       "      <td> 0</td>\n",
       "    </tr>\n",
       "    <tr>\n",
       "      <th>408</th>\n",
       "      <td> 0</td>\n",
       "      <td> 12</td>\n",
       "      <td> 19</td>\n",
       "      <td> 10.000010</td>\n",
       "      <td> 0</td>\n",
       "      <td> 1</td>\n",
       "      <td> 1</td>\n",
       "      <td> 0</td>\n",
       "      <td> 0</td>\n",
       "    </tr>\n",
       "    <tr>\n",
       "      <th>409</th>\n",
       "      <td> 1</td>\n",
       "      <td>  8</td>\n",
       "      <td> 11</td>\n",
       "      <td> 29.309970</td>\n",
       "      <td> 0</td>\n",
       "      <td> 1</td>\n",
       "      <td> 1</td>\n",
       "      <td> 0</td>\n",
       "      <td> 0</td>\n",
       "    </tr>\n",
       "    <tr>\n",
       "      <th>410</th>\n",
       "      <td> 0</td>\n",
       "      <td> 12</td>\n",
       "      <td> 14</td>\n",
       "      <td> 13.140030</td>\n",
       "      <td> 2</td>\n",
       "      <td> 1</td>\n",
       "      <td> 1</td>\n",
       "      <td> 0</td>\n",
       "      <td> 0</td>\n",
       "    </tr>\n",
       "    <tr>\n",
       "      <th>411</th>\n",
       "      <td> 1</td>\n",
       "      <td> 17</td>\n",
       "      <td>  8</td>\n",
       "      <td> 25.089990</td>\n",
       "      <td> 2</td>\n",
       "      <td> 1</td>\n",
       "      <td> 0</td>\n",
       "      <td> 1</td>\n",
       "      <td> 0</td>\n",
       "    </tr>\n",
       "    <tr>\n",
       "      <th>412</th>\n",
       "      <td> 0</td>\n",
       "      <td> 12</td>\n",
       "      <td> 13</td>\n",
       "      <td> 14.599930</td>\n",
       "      <td> 1</td>\n",
       "      <td> 1</td>\n",
       "      <td> 1</td>\n",
       "      <td> 0</td>\n",
       "      <td> 0</td>\n",
       "    </tr>\n",
       "    <tr>\n",
       "      <th>413</th>\n",
       "      <td> 1</td>\n",
       "      <td> 12</td>\n",
       "      <td> 24</td>\n",
       "      <td>  1.200001</td>\n",
       "      <td> 0</td>\n",
       "      <td> 1</td>\n",
       "      <td> 1</td>\n",
       "      <td> 0</td>\n",
       "      <td> 0</td>\n",
       "    </tr>\n",
       "    <tr>\n",
       "      <th>414</th>\n",
       "      <td> 1</td>\n",
       "      <td> 14</td>\n",
       "      <td>  1</td>\n",
       "      <td> 32.000000</td>\n",
       "      <td> 3</td>\n",
       "      <td> 1</td>\n",
       "      <td> 1</td>\n",
       "      <td> 0</td>\n",
       "      <td> 0</td>\n",
       "    </tr>\n",
       "    <tr>\n",
       "      <th>415</th>\n",
       "      <td> 1</td>\n",
       "      <td> 13</td>\n",
       "      <td>  1</td>\n",
       "      <td> 16.119970</td>\n",
       "      <td> 2</td>\n",
       "      <td> 1</td>\n",
       "      <td> 0</td>\n",
       "      <td> 1</td>\n",
       "      <td> 0</td>\n",
       "    </tr>\n",
       "    <tr>\n",
       "      <th>416</th>\n",
       "      <td> 0</td>\n",
       "      <td> 17</td>\n",
       "      <td>  3</td>\n",
       "      <td> 26.500020</td>\n",
       "      <td> 2</td>\n",
       "      <td> 1</td>\n",
       "      <td> 1</td>\n",
       "      <td> 0</td>\n",
       "      <td> 0</td>\n",
       "    </tr>\n",
       "    <tr>\n",
       "      <th>417</th>\n",
       "      <td> 0</td>\n",
       "      <td>  8</td>\n",
       "      <td>  4</td>\n",
       "      <td> 12.750060</td>\n",
       "      <td> 4</td>\n",
       "      <td> 1</td>\n",
       "      <td> 1</td>\n",
       "      <td> 0</td>\n",
       "      <td> 0</td>\n",
       "    </tr>\n",
       "    <tr>\n",
       "      <th>418</th>\n",
       "      <td> 0</td>\n",
       "      <td> 12</td>\n",
       "      <td> 21</td>\n",
       "      <td> 12.900000</td>\n",
       "      <td> 4</td>\n",
       "      <td> 1</td>\n",
       "      <td> 1</td>\n",
       "      <td> 0</td>\n",
       "      <td> 0</td>\n",
       "    </tr>\n",
       "    <tr>\n",
       "      <th>419</th>\n",
       "      <td> 0</td>\n",
       "      <td> 11</td>\n",
       "      <td> 10</td>\n",
       "      <td> 10.699980</td>\n",
       "      <td> 3</td>\n",
       "      <td> 1</td>\n",
       "      <td> 0</td>\n",
       "      <td> 1</td>\n",
       "      <td> 0</td>\n",
       "    </tr>\n",
       "    <tr>\n",
       "      <th>420</th>\n",
       "      <td> 1</td>\n",
       "      <td> 12</td>\n",
       "      <td> 13</td>\n",
       "      <td> 14.434030</td>\n",
       "      <td> 2</td>\n",
       "      <td> 1</td>\n",
       "      <td> 1</td>\n",
       "      <td> 0</td>\n",
       "      <td> 0</td>\n",
       "    </tr>\n",
       "    <tr>\n",
       "      <th>421</th>\n",
       "      <td> 1</td>\n",
       "      <td> 12</td>\n",
       "      <td>  9</td>\n",
       "      <td> 23.709000</td>\n",
       "      <td> 1</td>\n",
       "      <td> 1</td>\n",
       "      <td> 0</td>\n",
       "      <td> 1</td>\n",
       "      <td> 0</td>\n",
       "    </tr>\n",
       "    <tr>\n",
       "      <th>422</th>\n",
       "      <td> 0</td>\n",
       "      <td> 17</td>\n",
       "      <td> 14</td>\n",
       "      <td> 15.100000</td>\n",
       "      <td> 0</td>\n",
       "      <td> 1</td>\n",
       "      <td> 0</td>\n",
       "      <td> 0</td>\n",
       "      <td> 1</td>\n",
       "    </tr>\n",
       "    <tr>\n",
       "      <th>423</th>\n",
       "      <td> 0</td>\n",
       "      <td> 10</td>\n",
       "      <td>  2</td>\n",
       "      <td> 18.199980</td>\n",
       "      <td> 5</td>\n",
       "      <td> 1</td>\n",
       "      <td> 1</td>\n",
       "      <td> 0</td>\n",
       "      <td> 0</td>\n",
       "    </tr>\n",
       "    <tr>\n",
       "      <th>424</th>\n",
       "      <td> 1</td>\n",
       "      <td> 12</td>\n",
       "      <td> 21</td>\n",
       "      <td> 22.641060</td>\n",
       "      <td> 1</td>\n",
       "      <td> 1</td>\n",
       "      <td> 1</td>\n",
       "      <td> 0</td>\n",
       "      <td> 0</td>\n",
       "    </tr>\n",
       "    <tr>\n",
       "      <th>425</th>\n",
       "      <td> 1</td>\n",
       "      <td> 13</td>\n",
       "      <td> 22</td>\n",
       "      <td> 21.640080</td>\n",
       "      <td> 2</td>\n",
       "      <td> 1</td>\n",
       "      <td> 1</td>\n",
       "      <td> 0</td>\n",
       "      <td> 0</td>\n",
       "    </tr>\n",
       "    <tr>\n",
       "      <th>426</th>\n",
       "      <td> 1</td>\n",
       "      <td> 12</td>\n",
       "      <td> 14</td>\n",
       "      <td> 23.999980</td>\n",
       "      <td> 1</td>\n",
       "      <td> 1</td>\n",
       "      <td> 1</td>\n",
       "      <td> 0</td>\n",
       "      <td> 0</td>\n",
       "    </tr>\n",
       "    <tr>\n",
       "      <th>427</th>\n",
       "      <td> 1</td>\n",
       "      <td> 12</td>\n",
       "      <td>  7</td>\n",
       "      <td> 16.000020</td>\n",
       "      <td> 1</td>\n",
       "      <td> 1</td>\n",
       "      <td> 1</td>\n",
       "      <td> 0</td>\n",
       "      <td> 0</td>\n",
       "    </tr>\n",
       "  </tbody>\n",
       "</table>\n",
       "<p>428 rows × 9 columns</p>\n",
       "</div>"
      ],
      "text/plain": [
       "     city  educ  exper   nwifeinc  kidsge6  cste  #kidslt6:0.0  #kidslt6:1.0  \\\n",
       "0       0    12     14  10.910060        0     1             0             1   \n",
       "1       1    12      5  19.499980        2     1             1             0   \n",
       "2       0    12     15  12.039910        3     1             0             1   \n",
       "3       0    12      6   6.799996        3     1             1             0   \n",
       "4       1    14      7  20.100060        2     1             0             1   \n",
       "5       1    12     33   9.859054        0     1             1             0   \n",
       "6       0    16     11   9.152048        2     1             1             0   \n",
       "7       0    12     35  10.900040        0     1             1             0   \n",
       "8       0    12     24  17.305000        2     1             1             0   \n",
       "9       0    12     21  12.925000        2     1             1             0   \n",
       "10      0    12     15  24.299950        1     1             1             0   \n",
       "11      0    11     14  19.700070        1     1             1             0   \n",
       "12      0    12      0  15.000010        2     1             0             1   \n",
       "13      1    12     14  14.600000        2     1             1             0   \n",
       "14      1    10      6  24.630910        1     1             1             0   \n",
       "15      1    11      9  17.531030        3     1             1             0   \n",
       "16      1    12     20  14.099980        2     1             1             0   \n",
       "17      1    12      6  15.839000        5     1             1             0   \n",
       "18      1    12     23  14.100000        0     1             1             0   \n",
       "19      0    12      9  10.299960        4     1             1             0   \n",
       "20      0    16      5  22.654980        2     1             1             0   \n",
       "21      0    12     11   8.090048        0     1             1             0   \n",
       "22      1    13     18  17.479000        0     1             1             0   \n",
       "23      0    12     15   9.560000        0     1             1             0   \n",
       "24      1    12      4   8.274953        1     1             0             1   \n",
       "25      1    17     21  27.349990        2     1             1             0   \n",
       "26      1    12     31  16.000000        0     1             1             0   \n",
       "27      1    12      9  16.999980        3     1             1             0   \n",
       "28      0    17      7  15.100060        0     1             0             1   \n",
       "29      0    12      7  15.699980        0     1             1             0   \n",
       "..    ...   ...    ...        ...      ...   ...           ...           ...   \n",
       "398     1    14     14  39.099980        1     1             1             0   \n",
       "399     1    15     17  18.430070        2     1             0             0   \n",
       "400     1    14      5  21.000000        2     1             1             0   \n",
       "401     0     8      2  59.000000        1     1             1             0   \n",
       "402     1    14      0  25.300000        0     1             1             0   \n",
       "403     1    12      3  23.248990        2     1             1             0   \n",
       "404     1    12     21  24.928090        1     1             1             0   \n",
       "405     1    12     20  14.781990        1     1             1             0   \n",
       "406     1    12     19  18.900030        1     1             1             0   \n",
       "407     1    12      4  21.000000        3     1             0             1   \n",
       "408     0    12     19  10.000010        0     1             1             0   \n",
       "409     1     8     11  29.309970        0     1             1             0   \n",
       "410     0    12     14  13.140030        2     1             1             0   \n",
       "411     1    17      8  25.089990        2     1             0             1   \n",
       "412     0    12     13  14.599930        1     1             1             0   \n",
       "413     1    12     24   1.200001        0     1             1             0   \n",
       "414     1    14      1  32.000000        3     1             1             0   \n",
       "415     1    13      1  16.119970        2     1             0             1   \n",
       "416     0    17      3  26.500020        2     1             1             0   \n",
       "417     0     8      4  12.750060        4     1             1             0   \n",
       "418     0    12     21  12.900000        4     1             1             0   \n",
       "419     0    11     10  10.699980        3     1             0             1   \n",
       "420     1    12     13  14.434030        2     1             1             0   \n",
       "421     1    12      9  23.709000        1     1             0             1   \n",
       "422     0    17     14  15.100000        0     1             0             0   \n",
       "423     0    10      2  18.199980        5     1             1             0   \n",
       "424     1    12     21  22.641060        1     1             1             0   \n",
       "425     1    13     22  21.640080        2     1             1             0   \n",
       "426     1    12     14  23.999980        1     1             1             0   \n",
       "427     1    12      7  16.000020        1     1             1             0   \n",
       "\n",
       "     #kidslt6:2.0  \n",
       "0               0  \n",
       "1               0  \n",
       "2               0  \n",
       "3               0  \n",
       "4               0  \n",
       "5               0  \n",
       "6               0  \n",
       "7               0  \n",
       "8               0  \n",
       "9               0  \n",
       "10              0  \n",
       "11              0  \n",
       "12              0  \n",
       "13              0  \n",
       "14              0  \n",
       "15              0  \n",
       "16              0  \n",
       "17              0  \n",
       "18              0  \n",
       "19              0  \n",
       "20              0  \n",
       "21              0  \n",
       "22              0  \n",
       "23              0  \n",
       "24              0  \n",
       "25              0  \n",
       "26              0  \n",
       "27              0  \n",
       "28              0  \n",
       "29              0  \n",
       "..            ...  \n",
       "398             0  \n",
       "399             1  \n",
       "400             0  \n",
       "401             0  \n",
       "402             0  \n",
       "403             0  \n",
       "404             0  \n",
       "405             0  \n",
       "406             0  \n",
       "407             0  \n",
       "408             0  \n",
       "409             0  \n",
       "410             0  \n",
       "411             0  \n",
       "412             0  \n",
       "413             0  \n",
       "414             0  \n",
       "415             0  \n",
       "416             0  \n",
       "417             0  \n",
       "418             0  \n",
       "419             0  \n",
       "420             0  \n",
       "421             0  \n",
       "422             1  \n",
       "423             0  \n",
       "424             0  \n",
       "425             0  \n",
       "426             0  \n",
       "427             0  \n",
       "\n",
       "[428 rows x 9 columns]"
      ]
     },
     "execution_count": 289,
     "metadata": {},
     "output_type": "execute_result"
    }
   ],
   "source": [
    "from sklearn.preprocessing import Binarizer\n",
    "data_df_wage_X = data_df_wage[['city','educ','exper','nwifeinc','kidslt6','kidsge6']].copy()\n",
    "data_df_wage_X['cste'] = 1\n",
    "data_df_wage_Y = data_df_wage['wage']\n",
    "Y =  data_df_wage['wage']\n",
    "\n",
    "dummified_label = pd.get_dummies(data_df_wage_X['kidslt6'],prefix_sep=\":\",prefix='#kidslt6')\n",
    "X_dummified = pd.concat([data_df_wage_X,dummified_label],axis=1)\n",
    "del X_dummified['kidslt6']\n",
    "X_dummified"
   ]
  },
  {
   "cell_type": "markdown",
   "metadata": {},
   "source": [
    "## QUESTION 15"
   ]
  },
  {
   "cell_type": "markdown",
   "metadata": {},
   "source": [
    ">  *A partir de l’échantillon global, faire une régression de inlf sur une constante, city, educ, age, kidslt6, kidsgt6. Commentez le modèle et les résultats des tests de significativité pour chacun des coefficients estimé (test alternatif des deux côtés)*"
   ]
  },
  {
   "cell_type": "code",
   "execution_count": 312,
   "metadata": {
    "collapsed": false
   },
   "outputs": [
    {
     "data": {
      "text/plain": [
       "(array([ -6.07629965e-01,   1.23421703e+00,   5.88862241e-01,\n",
       "         -3.65238737e-01,  -4.29992377e-03,  -1.08910742e-01,\n",
       "          2.55318738e+14]),\n",
       " Index([u'city', u'educ', u'age', u'kidslt6', u'kidsge6', u'cste'], dtype='object'),\n",
       " array([ -8.06646416e-16,   3.52582546e-16,   4.99817202e-17,\n",
       "         -2.30121911e-17,  -6.93889390e-18,  -5.55111512e-17,\n",
       "          1.00000000e+00]),\n",
       " array([ 0.72811973,  0.10890527,  0.27813475,  0.64244169,  0.5017144 ,\n",
       "         0.54333741,  0.        ]))"
      ]
     },
     "execution_count": 312,
     "metadata": {},
     "output_type": "execute_result"
    }
   ],
   "source": [
    "a = data_df.inlf\n",
    "a.value_counts()\n",
    "\n",
    "data_df_X = data_df[['city','educ','age','kidslt6','kidsge6']].copy()\n",
    "data_df_X['cste'] = 1\n",
    "X_inlf = data_df_wage_X.as_matrix()\n",
    "Y_inlf = data_df_wage['inlf']\n",
    "\n",
    "inv_xx  = linalg.inv(X_inlf.T.dot(X_inlf))\n",
    "beta_inlf= inv_xx.dot(X_inlf.T).dot(Y_inlf)\n",
    "prediction_inlf = X_inlf.dot(beta_inlf)\n",
    "residus_inlf = Y - prediction_inlf\n",
    "\n",
    "n,k = X.shape\n",
    "sig2 = residus_inlf.T.dot(residus_inlf)/(n-k)\n",
    "std = np.sqrt(np.diag(sig2*(inv_xx)))\n",
    "alphas = [0.01,0.05,0.1]\n",
    "t = beta_inlf/std\n",
    "p_value = stats.t.sf(t,n-k)\n",
    "t, data_df_X.columns, beta_inlf, p_value"
   ]
  },
  {
   "cell_type": "markdown",
   "metadata": {},
   "source": [
    "## QUESTION 16"
   ]
  },
  {
   "cell_type": "markdown",
   "metadata": {},
   "source": [
    ">  *Développer le modèle probit et obtenir la fonction de log-vraisemblance l(.).*"
   ]
  },
  {
   "cell_type": "markdown",
   "metadata": {},
   "source": [
    "## QUESTION 17"
   ]
  },
  {
   "cell_type": "markdown",
   "metadata": {},
   "source": [
    ">  *Calculer la matrice d'information E($-\\partial l / \\partial \\beta \\partial \\beta '$) [astuce: E(yi) = p(yi=1)]. Commentez les programmes suivants :*"
   ]
  },
  {
   "cell_type": "raw",
   "metadata": {},
   "source": [
    "function [betanew,loglik,imat,icount]=probit(y,X,epsilon)\n",
    "%computes ML estimates of the probit model\n",
    "\n",
    "[N,K]=size(X);\n",
    "betanew=inv(X'*X)*X'*y;          \n",
    "beta=100*ones(K,1);   \n",
    "loglik=-100000;\n",
    "icount=0;\n",
    "while ((betanew-beta)'*(betanew-beta)>epsilon);\n",
    "   beta=betanew;\n",
    "   [score,imat,loglik]=mlparms(y,X,beta);\n",
    "   betanew=beta+(1/N)*inv(imat)*score;\n",
    "   icount=icount+1;\n",
    "end;\n",
    "\n",
    "function [score,infmat,loglik] = mlparms(y,X,beta);\n",
    "\n",
    "% Returns score vector, information matrix, and the value\n",
    "% of the log-likelihood function for the probit model\n",
    "% y=I{X*beta+U>0} evaluated at 'beta'\n",
    "\n",
    "[N,K] = size(X);\n",
    "xb=X*beta;\n",
    "pdf_xb=npdf(xb);\n",
    "denom=ncdf2(xb).*(1-ncdf2(xb));\n",
    "score=X'*( ((y-ncdf2(xb)).*pdf_xb)./denom );\n",
    "infmat=zeros(K,K);\n",
    "i=1;\n",
    "while i<=N;\n",
    "infmat=infmat+(pdf_xb(i,1)*pdf_xb(i,1)/denom(i,1))*X(i,:)'*X(i,:);\n",
    "   i=i+1;\n",
    "end;\n",
    "infmat=infmat/N;\n",
    "loglik=ones(1,N)*( y.*log(ncdf2(xb))+(1-y).*log(1-ncdf2(xb)) );"
   ]
  },
  {
   "cell_type": "markdown",
   "metadata": {},
   "source": [
    "## QUESTION 18"
   ]
  },
  {
   "cell_type": "markdown",
   "metadata": {},
   "source": [
    ">  *Pourquoi faut-il imposer une restriction sur les paramètres ?*"
   ]
  },
  {
   "cell_type": "markdown",
   "metadata": {},
   "source": [
    "## QUESTION 19"
   ]
  },
  {
   "cell_type": "markdown",
   "metadata": {},
   "source": [
    ">  *Estimer le modèle probit de inlf sur une constante, city, educ, age, kidslt6, kidsgt6 en utilisant la commande probit(y,X). *"
   ]
  },
  {
   "cell_type": "markdown",
   "metadata": {},
   "source": [
    "## QUESTION 20"
   ]
  },
  {
   "cell_type": "markdown",
   "metadata": {},
   "source": [
    ">  *Calculer les effets partiels pour l'ensemble des variables explicatives : $\\partial p(y=1)/\\partial x_k (k = 1, ..., K)$, où K est le nombre de variables explicatives. Comparer vos résultats à ceux obtenus à la question 15. Commentez.*"
   ]
  },
  {
   "cell_type": "markdown",
   "metadata": {},
   "source": [
    "#PARTIE II"
   ]
  },
  {
   "cell_type": "markdown",
   "metadata": {},
   "source": [
    "## QUESTION 21"
   ]
  },
  {
   "cell_type": "markdown",
   "metadata": {},
   "source": [
    ">  *Ouvrir le fichier volat.raw; attention aux valeurs manquantes.*"
   ]
  },
  {
   "cell_type": "markdown",
   "metadata": {},
   "source": [
    "## QUESTION 22"
   ]
  },
  {
   "cell_type": "markdown",
   "metadata": {},
   "source": [
    ">  *Pourquoi doit-on stationnariser les séries ?*"
   ]
  },
  {
   "cell_type": "markdown",
   "metadata": {},
   "source": [
    "## QUESTION 23"
   ]
  },
  {
   "cell_type": "markdown",
   "metadata": {},
   "source": [
    ">  *Faire le test de racine unitaire de log(sp500) H0: $\\rho$ = 1 et le test de Dickey Fuller.*"
   ]
  },
  {
   "cell_type": "markdown",
   "metadata": {},
   "source": [
    "## QUESTION 24"
   ]
  },
  {
   "cell_type": "markdown",
   "metadata": {},
   "source": [
    ">  *Interpréter l'autocorrélogramme et l'autocorrélogramme partiels de pcsp et de divyld. Quelle est la différence entre ces deux graphiques ?*"
   ]
  },
  {
   "cell_type": "markdown",
   "metadata": {},
   "source": [
    "## QUESTION 25"
   ]
  },
  {
   "cell_type": "markdown",
   "metadata": {},
   "source": [
    ">  *25. Proposer une modélisation AR(p) de chacune des séries en utilisant les outils et tests vu au cours.*"
   ]
  },
  {
   "cell_type": "markdown",
   "metadata": {},
   "source": [
    "## QUESTION 26"
   ]
  },
  {
   "cell_type": "markdown",
   "metadata": {},
   "source": [
    ">  *Faire une régression de pcsp sur i3 et divyld. Interpréter les résultats. Tester la significativité jointe des variables explicatives*"
   ]
  },
  {
   "cell_type": "markdown",
   "metadata": {},
   "source": [
    "## QUESTION 27"
   ]
  },
  {
   "cell_type": "markdown",
   "metadata": {},
   "source": [
    ">  *Tester l'autocorrélation des erreurs.*"
   ]
  }
 ],
 "metadata": {
  "kernelspec": {
   "display_name": "Python 2",
   "language": "python",
   "name": "python2"
  },
  "language_info": {
   "codemirror_mode": {
    "name": "ipython",
    "version": 2
   },
   "file_extension": ".py",
   "mimetype": "text/x-python",
   "name": "python",
   "nbconvert_exporter": "python",
   "pygments_lexer": "ipython2",
   "version": "2.7.9"
  }
 },
 "nbformat": 4,
 "nbformat_minor": 0
}
