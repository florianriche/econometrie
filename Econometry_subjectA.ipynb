{
 "cells": [
  {
   "cell_type": "markdown",
   "metadata": {},
   "source": [
    "# Projet d'économétrie, sujet A"
   ]
  },
  {
   "cell_type": "code",
   "execution_count": 1,
   "metadata": {
    "collapsed": false
   },
   "outputs": [],
   "source": [
    "%matplotlib inline\n",
    "\n",
    "import numpy as np\n",
    "from scipy import stats\n",
    "import math\n",
    "import pylab as pl\n",
    "import seaborn as sns"
   ]
  },
  {
   "cell_type": "markdown",
   "metadata": {},
   "source": [
    "## Question 1"
   ]
  },
  {
   "cell_type": "markdown",
   "metadata": {},
   "source": [
    "> *Lire le fichier **mroz.txt**. Ne séléctionner que les observations pour lesquelles la variable **wage** est strictement positive.*"
   ]
  },
  {
   "cell_type": "code",
   "execution_count": 2,
   "metadata": {
    "collapsed": false
   },
   "outputs": [],
   "source": [
    "# Load raw file\n",
    "def readRawData(filename='data/MROZ.raw'):\n",
    "    f = open(filename, 'rb')\n",
    "    res = ''\n",
    "    try:\n",
    "        byte = f.read(1)\n",
    "        while byte != \"\":\n",
    "            res += str(byte)\n",
    "            byte = f.read(1)\n",
    "    finally:\n",
    "        f.close()\n",
    "    # split data\n",
    "    final_res = list()\n",
    "    test = res.split('\\r\\n')\n",
    "    for t in test:\n",
    "        if len(t)>0:\n",
    "            yo = filter(lambda a: a != '', t.split(' '))\n",
    "            yoo = [x if x != '.' else 0 for x in yo]\n",
    "            final_res.append([float(i) for i in yoo])    \n",
    "    return np.array(final_res)  \n",
    "\n",
    "#MROZ datas\n",
    "#\n",
    "#  Obs:   753\n",
    "#\n",
    "#  1. inlf                     =1 if in labor force, 1975\n",
    "#  2. hours                    hours worked, 1975\n",
    "#  3. kidslt6                  # kids < 6 years\n",
    "#  4. kidsge6                  # kids 6-18\n",
    "#  5. age                      woman's age in yrs\n",
    "#  6. educ                     years of schooling\n",
    "#  7. wage                     estimated wage from earns., hours\n",
    "#  8. repwage                  reported wage at interview in 1976\n",
    "#  9. hushrs                   hours worked by husband, 1975\n",
    "# 10. husage                   husband's age\n",
    "# 11. huseduc                  husband's years of schooling\n",
    "# 12. huswage                  husband's hourly wage, 1975\n",
    "# 13. faminc                   family income, 1975\n",
    "# 14. mtr                      fed. marginal tax rate facing woman\n",
    "# 15. motheduc                 mother's years of schooling\n",
    "# 16. fatheduc                 father's years of schooling\n",
    "# 17. unem                     unem. rate in county of resid.\n",
    "# 18. city                     =1 if live in SMSA\n",
    "# 19. exper                    actual labor mkt exper\n",
    "# 20. nwifeinc                 (faminc - wage*hours)/1000\n",
    "# 21. lwage                    log(wage)\n",
    "# 22. expersq                  exper^2"
   ]
  },
  {
   "cell_type": "code",
   "execution_count": 3,
   "metadata": {
    "collapsed": false
   },
   "outputs": [],
   "source": [
    "mroz = readRawData()\n",
    "datas = mroz[np.where(mroz[:,7]>0)] # select data where wage > 0"
   ]
  },
  {
   "cell_type": "markdown",
   "metadata": {},
   "source": [
    "## Question 2"
   ]
  },
  {
   "cell_type": "code",
   "execution_count": 4,
   "metadata": {
    "collapsed": false
   },
   "outputs": [],
   "source": [
    "def descriptivStats(arr):\n",
    "    d = {'min':0.0,'max':0.0,'mean':0.0,'median':0.0,'var':0.0,'std':0.0}\n",
    "    d['min'] = np.min(arr)\n",
    "    d['max'] = np.max(arr)\n",
    "    d['mean'] = np.mean(arr)    \n",
    "    d['median'] = np.median(arr)\n",
    "    d['var'] = np.var(arr)\n",
    "    d['std'] = np.std(arr)\n",
    "    return d "
   ]
  },
  {
   "cell_type": "code",
   "execution_count": 5,
   "metadata": {
    "collapsed": false
   },
   "outputs": [],
   "source": [
    "#descriptiv stats    \n",
    "stats_age = descriptivStats(datas[:,5])\n",
    "print stats_age\n",
    "stats_educ = descriptivStats(datas[:,6])\n",
    "print stats_educ\n",
    "stats_wage = descriptivStats(datas[:,7])\n",
    "print stats_wage\n",
    "#stats sur les femmes dont le salaire du mari est supérieure à la médiane de l’échantillon\n",
    "women_stats1 = descriptivStats(datas[np.where(datas[:,12]>np.median(datas[:,12]))])\n",
    "print women_stats1\n",
    "#stats sur les femmes dont le salaire du mari est inférieur à la médiane de l’échantillon\n",
    "women_stats2 = descriptivStats(datas[np.where(datas[:,12]<np.median(datas[:,12]))])\n",
    "print women_stats2"
   ]
  },
  {
   "cell_type": "markdown",
   "metadata": {},
   "source": [
    "## Question 3"
   ]
  },
  {
   "cell_type": "code",
   "execution_count": 6,
   "metadata": {
    "collapsed": false
   },
   "outputs": [
    {
     "data": {
      "image/png": "[encoded data removed]",
      "text/plain": [
       "<matplotlib.figure.Figure at 0x7f7ffba22b90>"
      ]
     },
     "metadata": {},
     "output_type": "display_data"
    }
   ],
   "source": [
    "bins = np.arange(math.ceil(stats_wage['min'])-1,math.ceil(stats_wage['max'])+1)\n",
    "pl.figure()\n",
    "pl.hist(datas[:,7], bins, normed=1, histtype='bar', rwidth=0.8)\n",
    "pl.title(\"Wage histogram\")\n",
    "pl.show()"
   ]
  },
  {
   "cell_type": "code",
   "execution_count": 7,
   "metadata": {
    "collapsed": false
   },
   "outputs": [
    {
     "data": {
      "image/png": "[encoded data removed]",
      "text/plain": [
       "<matplotlib.figure.Figure at 0x7f7ffae393d0>"
      ]
     },
     "metadata": {},
     "output_type": "display_data"
    }
   ],
   "source": [
    "stats_wage_log = descriptivStats(datas[:,21])\n",
    "bins2 = np.arange(math.ceil(stats_wage_log['min']),math.ceil(stats_wage_log['max'])+1)\n",
    "pl.figure()\n",
    "pl.hist(datas[:,21], bins2, normed=1, histtype='bar', rwidth=0.8)\n",
    "pl.title(\"Log wage histogram\")\n",
    "pl.show()"
   ]
  },
  {
   "cell_type": "markdown",
   "metadata": {},
   "source": [
    "## Question 4"
   ]
  },
  {
   "cell_type": "code",
   "execution_count": 9,
   "metadata": {
    "collapsed": false
   },
   "outputs": [
    {
     "name": "stdout",
     "output_type": "stream",
     "text": [
      "(0.039960377842893247, 0.46536098227068812)\n"
     ]
    }
   ],
   "source": [
    "#Pearson correlation\n",
    "#return (Pearson’s correlation coefficient,2-tailed p-value)\n",
    "correlation1 = stats.pearsonr(datas[:,15],datas[:,16])\n",
    "print correlation1"
   ]
  },
  {
   "cell_type": "markdown",
   "metadata": {},
   "source": [
    "## Question 5"
   ]
  },
  {
   "cell_type": "code",
   "execution_count": null,
   "metadata": {
    "collapsed": false
   },
   "outputs": [],
   "source": [
    "#wage vs educ\n",
    "pl.figure()\n",
    "pl.scatter(datas[:,6],datas[:,7])\n",
    "pl.xlabel('educ')\n",
    "pl.ylabel('wage')\n",
    "pl.title('wage vs educ')\n",
    "pl.show()"
   ]
  },
  {
   "cell_type": "code",
   "execution_count": null,
   "metadata": {
    "collapsed": false
   },
   "outputs": [],
   "source": [
    "#wage vs exper\n",
    "pl.figure()\n",
    "pl.scatter(datas[:,19],datas[:,7])\n",
    "pl.xlabel('exper')\n",
    "pl.ylabel('wage')\n",
    "pl.title('wage vs exper')\n",
    "pl.show()"
   ]
  },
  {
   "cell_type": "code",
   "execution_count": null,
   "metadata": {
    "collapsed": false
   },
   "outputs": [],
   "source": [
    "#wage vs fatheduc\n",
    "pl.figure()\n",
    "pl.scatter(datas[:,16],datas[:,7])\n",
    "pl.xlabel('fatheduc')\n",
    "pl.ylabel('wage')\n",
    "pl.title('wage vs fatheduc')\n",
    "pl.show()"
   ]
  }
 ],
 "metadata": {
  "kernelspec": {
   "display_name": "Python 2",
   "language": "python",
   "name": "python2"
  },
  "language_info": {
   "codemirror_mode": {
    "name": "ipython",
    "version": 2
   },
   "file_extension": ".py",
   "mimetype": "text/x-python",
   "name": "python",
   "nbconvert_exporter": "python",
   "pygments_lexer": "ipython2",
   "version": "2.7.9"
  }
 },
 "nbformat": 4,
 "nbformat_minor": 0
}
