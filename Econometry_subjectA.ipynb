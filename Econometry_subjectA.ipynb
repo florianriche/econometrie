{
 "cells": [
  {
   "cell_type": "markdown",
   "metadata": {},
   "source": [
    "# Projet d'économétrie, sujet A"
   ]
  },
  {
   "cell_type": "code",
   "execution_count": 16,
   "metadata": {
    "collapsed": false
   },
   "outputs": [],
   "source": [
    "%matplotlib inline\n",
    "import matplotlib.pyplot as plt\n",
    "import numpy as np\n",
    "from scipy import stats\n",
    "from scipy import linalg\n",
    "import math\n",
    "import pylab as pl\n",
    "import seaborn as sns"
   ]
  },
  {
   "cell_type": "markdown",
   "metadata": {},
   "source": [
    "#PARTIE I"
   ]
  },
  {
   "cell_type": "markdown",
   "metadata": {},
   "source": [
    "## Question 1"
   ]
  },
  {
   "cell_type": "markdown",
   "metadata": {},
   "source": [
    "> *Lire le fichier **mroz.txt**. Ne séléctionner que les observations pour lesquelles la variable **wage** est strictement positive.*"
   ]
  },
  {
   "cell_type": "code",
   "execution_count": 17,
   "metadata": {
    "collapsed": false
   },
   "outputs": [],
   "source": [
    "'''\n",
    "  1. inlf                     =1 if in labor force, 1975\n",
    "  2. hours                    hours worked, 1975\n",
    "  3. kidslt6                  # kids < 6 years\n",
    "  4. kidsge6                  # kids 6-18\n",
    "  5. age                      woman's age in yrs\n",
    "  6. educ                     years of schooling\n",
    "  7. wage                     estimated wage from earns., hours\n",
    "  8. repwage                  reported wage at interview in 1976\n",
    "  9. hushrs                   hours worked by husband, 1975\n",
    " 10. husage                   husband's age\n",
    " 11. huseduc                  husband's years of schooling\n",
    " 12. huswage                  husband's hourly wage, 1975\n",
    " 13. faminc                   family income, 1975\n",
    " 14. mtr                      fed. marginal tax rate facing woman\n",
    " 15. motheduc                 mother's years of schooling\n",
    " 16. fatheduc                 father's years of schooling\n",
    " 17. unem                     unem. rate in county of resid.\n",
    " 18. city                     =1 if live in SMSA\n",
    " 19. exper                    actual labor mkt exper\n",
    " 20. nwifeinc                 (faminc - wage*hours)/1000\n",
    " 21. lwage                    log(wage)\n",
    " 22. expersq                  exper^2\n",
    " '''\n",
    "def readRawData(filename='data/MROZ.raw'):\n",
    "    f = open(filename, 'rb')\n",
    "    res = ''\n",
    "    try:\n",
    "        byte = f.read(1)\n",
    "        while byte != \"\":\n",
    "            res += str(byte)\n",
    "            byte = f.read(1)\n",
    "    finally:\n",
    "        f.close()\n",
    "    # split data\n",
    "    final_res = list()\n",
    "    test = res.split('\\r\\n')\n",
    "    for t in test:\n",
    "        if len(t)>0:\n",
    "            yo = filter(lambda a: a != '', t.split(' '))\n",
    "            yoo = [x if x != '.' else 0 for x in yo]\n",
    "            final_res.append([float(i) for i in yoo])    \n",
    "    return np.array(final_res)  \n",
    "\n",
    "import pandas as pd\n",
    "columns = ['inlf',\n",
    "'hours',\n",
    "'kidslt6',\n",
    "'kidsge6',\n",
    "'age',\n",
    "'educ',\n",
    "'wage',\n",
    "'repwage',\n",
    "'hushrs',\n",
    "'husage',\n",
    "'huseduc',\n",
    "'huswage',\n",
    "'faminc',\n",
    "'mtr',\n",
    "'motheduc',\n",
    "'fatheduc',\n",
    "'unem',\n",
    "'city',\n",
    "'exper',\n",
    "'nwifeinc',\n",
    "'lwage',\n",
    "'expersq']\n",
    "mroz = readRawData()\n",
    "#data_df = pd.read_fwf('data/MROZ.raw',names=columns)\n",
    "data_df = pd.DataFrame(mroz,columns=columns)\n",
    "data_df_wage = data_df[data_df['wage']>0]"
   ]
  },
  {
   "cell_type": "markdown",
   "metadata": {},
   "source": [
    "## Question 2"
   ]
  },
  {
   "cell_type": "markdown",
   "metadata": {},
   "source": [
    "> *Faire les statistiques descriptives du salaire, de l’age et de l’éducation  pour l’ensemble des femmes puis, pour les femmes dont le salaire du mari est supérieure à la médiane de l’échantillon, puis pour les femmes dont le salaire du mari est inférieur à la médiane de l’échantillon*"
   ]
  },
  {
   "cell_type": "code",
   "execution_count": 18,
   "metadata": {
    "collapsed": false
   },
   "outputs": [
    {
     "data": {
      "text/html": [
       "<div style=\"max-height:1000px;max-width:1500px;overflow:auto;\">\n",
       "<table border=\"1\" class=\"dataframe\">\n",
       "  <thead>\n",
       "    <tr style=\"text-align: right;\">\n",
       "      <th></th>\n",
       "      <th>wage</th>\n",
       "      <th>age</th>\n",
       "      <th>educ</th>\n",
       "    </tr>\n",
       "  </thead>\n",
       "  <tbody>\n",
       "    <tr>\n",
       "      <th>count</th>\n",
       "      <td> 428.000000</td>\n",
       "      <td> 428.000000</td>\n",
       "      <td> 428.000000</td>\n",
       "    </tr>\n",
       "    <tr>\n",
       "      <th>mean</th>\n",
       "      <td>   4.177682</td>\n",
       "      <td>  41.971963</td>\n",
       "      <td>  12.658879</td>\n",
       "    </tr>\n",
       "    <tr>\n",
       "      <th>std</th>\n",
       "      <td>   3.310282</td>\n",
       "      <td>   7.721084</td>\n",
       "      <td>   2.285376</td>\n",
       "    </tr>\n",
       "    <tr>\n",
       "      <th>min</th>\n",
       "      <td>   0.128200</td>\n",
       "      <td>  30.000000</td>\n",
       "      <td>   5.000000</td>\n",
       "    </tr>\n",
       "    <tr>\n",
       "      <th>25%</th>\n",
       "      <td>   2.262600</td>\n",
       "      <td>  35.000000</td>\n",
       "      <td>  12.000000</td>\n",
       "    </tr>\n",
       "    <tr>\n",
       "      <th>50%</th>\n",
       "      <td>   3.481900</td>\n",
       "      <td>  42.000000</td>\n",
       "      <td>  12.000000</td>\n",
       "    </tr>\n",
       "    <tr>\n",
       "      <th>75%</th>\n",
       "      <td>   4.970750</td>\n",
       "      <td>  47.250000</td>\n",
       "      <td>  14.000000</td>\n",
       "    </tr>\n",
       "    <tr>\n",
       "      <th>max</th>\n",
       "      <td>  25.000000</td>\n",
       "      <td>  60.000000</td>\n",
       "      <td>  17.000000</td>\n",
       "    </tr>\n",
       "  </tbody>\n",
       "</table>\n",
       "</div>"
      ],
      "text/plain": [
       "             wage         age        educ\n",
       "count  428.000000  428.000000  428.000000\n",
       "mean     4.177682   41.971963   12.658879\n",
       "std      3.310282    7.721084    2.285376\n",
       "min      0.128200   30.000000    5.000000\n",
       "25%      2.262600   35.000000   12.000000\n",
       "50%      3.481900   42.000000   12.000000\n",
       "75%      4.970750   47.250000   14.000000\n",
       "max     25.000000   60.000000   17.000000"
      ]
     },
     "execution_count": 18,
     "metadata": {},
     "output_type": "execute_result"
    }
   ],
   "source": [
    "data_df_wage[['wage','age','educ']].describe()"
   ]
  },
  {
   "cell_type": "code",
   "execution_count": 19,
   "metadata": {
    "collapsed": false
   },
   "outputs": [],
   "source": [
    "median_wage = data_df_wage['wage'].median()\n",
    "data_df_husband_super_median = data_df_wage[data_df_wage['huswage'] >= median_wage]\n",
    "data_df_husband_inferior_median = data_df_wage[data_df_wage['huswage']< median_wage]"
   ]
  },
  {
   "cell_type": "code",
   "execution_count": 20,
   "metadata": {
    "collapsed": false
   },
   "outputs": [
    {
     "name": "stdout",
     "output_type": "stream",
     "text": [
      "Femmes dont le salaire du mari est superieure à la médiane de l'échantillon:\n"
     ]
    },
    {
     "data": {
      "text/html": [
       "<div style=\"max-height:1000px;max-width:1500px;overflow:auto;\">\n",
       "<table border=\"1\" class=\"dataframe\">\n",
       "  <thead>\n",
       "    <tr style=\"text-align: right;\">\n",
       "      <th></th>\n",
       "      <th>wage</th>\n",
       "      <th>age</th>\n",
       "      <th>educ</th>\n",
       "    </tr>\n",
       "  </thead>\n",
       "  <tbody>\n",
       "    <tr>\n",
       "      <th>count</th>\n",
       "      <td> 380.000000</td>\n",
       "      <td> 380.000000</td>\n",
       "      <td> 380.000000</td>\n",
       "    </tr>\n",
       "    <tr>\n",
       "      <th>mean</th>\n",
       "      <td>   4.209165</td>\n",
       "      <td>  41.973684</td>\n",
       "      <td>  12.684211</td>\n",
       "    </tr>\n",
       "    <tr>\n",
       "      <th>std</th>\n",
       "      <td>   3.335807</td>\n",
       "      <td>   7.674743</td>\n",
       "      <td>   2.299538</td>\n",
       "    </tr>\n",
       "    <tr>\n",
       "      <th>min</th>\n",
       "      <td>   0.128200</td>\n",
       "      <td>  30.000000</td>\n",
       "      <td>   5.000000</td>\n",
       "    </tr>\n",
       "    <tr>\n",
       "      <th>25%</th>\n",
       "      <td>   2.274725</td>\n",
       "      <td>  35.000000</td>\n",
       "      <td>  12.000000</td>\n",
       "    </tr>\n",
       "    <tr>\n",
       "      <th>50%</th>\n",
       "      <td>   3.566500</td>\n",
       "      <td>  43.000000</td>\n",
       "      <td>  12.000000</td>\n",
       "    </tr>\n",
       "    <tr>\n",
       "      <th>75%</th>\n",
       "      <td>   5.089100</td>\n",
       "      <td>  47.000000</td>\n",
       "      <td>  14.000000</td>\n",
       "    </tr>\n",
       "    <tr>\n",
       "      <th>max</th>\n",
       "      <td>  25.000000</td>\n",
       "      <td>  60.000000</td>\n",
       "      <td>  17.000000</td>\n",
       "    </tr>\n",
       "  </tbody>\n",
       "</table>\n",
       "</div>"
      ],
      "text/plain": [
       "             wage         age        educ\n",
       "count  380.000000  380.000000  380.000000\n",
       "mean     4.209165   41.973684   12.684211\n",
       "std      3.335807    7.674743    2.299538\n",
       "min      0.128200   30.000000    5.000000\n",
       "25%      2.274725   35.000000   12.000000\n",
       "50%      3.566500   43.000000   12.000000\n",
       "75%      5.089100   47.000000   14.000000\n",
       "max     25.000000   60.000000   17.000000"
      ]
     },
     "execution_count": 20,
     "metadata": {},
     "output_type": "execute_result"
    }
   ],
   "source": [
    "print \"Femmes dont le salaire du mari est superieure à la médiane de l'échantillon:\"\n",
    "data_df_husband_super_median[['wage','age','educ']].describe()"
   ]
  },
  {
   "cell_type": "code",
   "execution_count": 21,
   "metadata": {
    "collapsed": false
   },
   "outputs": [
    {
     "name": "stdout",
     "output_type": "stream",
     "text": [
      "Femmes dont le salaire du mari est inferieure à la médiane de l'échantillon:\n"
     ]
    },
    {
     "data": {
      "text/html": [
       "<div style=\"max-height:1000px;max-width:1500px;overflow:auto;\">\n",
       "<table border=\"1\" class=\"dataframe\">\n",
       "  <thead>\n",
       "    <tr style=\"text-align: right;\">\n",
       "      <th></th>\n",
       "      <th>wage</th>\n",
       "      <th>age</th>\n",
       "      <th>educ</th>\n",
       "    </tr>\n",
       "  </thead>\n",
       "  <tbody>\n",
       "    <tr>\n",
       "      <th>count</th>\n",
       "      <td> 48.000000</td>\n",
       "      <td> 48.000000</td>\n",
       "      <td> 48.000000</td>\n",
       "    </tr>\n",
       "    <tr>\n",
       "      <th>mean</th>\n",
       "      <td>  3.928437</td>\n",
       "      <td> 41.958333</td>\n",
       "      <td> 12.458333</td>\n",
       "    </tr>\n",
       "    <tr>\n",
       "      <th>std</th>\n",
       "      <td>  3.122774</td>\n",
       "      <td>  8.163120</td>\n",
       "      <td>  2.182701</td>\n",
       "    </tr>\n",
       "    <tr>\n",
       "      <th>min</th>\n",
       "      <td>  1.201900</td>\n",
       "      <td> 30.000000</td>\n",
       "      <td>  8.000000</td>\n",
       "    </tr>\n",
       "    <tr>\n",
       "      <th>25%</th>\n",
       "      <td>  2.135750</td>\n",
       "      <td> 35.000000</td>\n",
       "      <td> 11.750000</td>\n",
       "    </tr>\n",
       "    <tr>\n",
       "      <th>50%</th>\n",
       "      <td>  2.945800</td>\n",
       "      <td> 40.500000</td>\n",
       "      <td> 12.000000</td>\n",
       "    </tr>\n",
       "    <tr>\n",
       "      <th>75%</th>\n",
       "      <td>  4.352375</td>\n",
       "      <td> 49.250000</td>\n",
       "      <td> 14.000000</td>\n",
       "    </tr>\n",
       "    <tr>\n",
       "      <th>max</th>\n",
       "      <td> 18.267000</td>\n",
       "      <td> 59.000000</td>\n",
       "      <td> 16.000000</td>\n",
       "    </tr>\n",
       "  </tbody>\n",
       "</table>\n",
       "</div>"
      ],
      "text/plain": [
       "            wage        age       educ\n",
       "count  48.000000  48.000000  48.000000\n",
       "mean    3.928437  41.958333  12.458333\n",
       "std     3.122774   8.163120   2.182701\n",
       "min     1.201900  30.000000   8.000000\n",
       "25%     2.135750  35.000000  11.750000\n",
       "50%     2.945800  40.500000  12.000000\n",
       "75%     4.352375  49.250000  14.000000\n",
       "max    18.267000  59.000000  16.000000"
      ]
     },
     "execution_count": 21,
     "metadata": {},
     "output_type": "execute_result"
    }
   ],
   "source": [
    "print \"Femmes dont le salaire du mari est inferieure à la médiane de l'échantillon:\"\n",
    "data_df_husband_inferior_median[['wage','age','educ']].describe()\n"
   ]
  },
  {
   "cell_type": "markdown",
   "metadata": {},
   "source": [
    "## Question 3"
   ]
  },
  {
   "cell_type": "markdown",
   "metadata": {},
   "source": [
    ">*Faire l'histogramme de la variable wage. Calculer le log de wage et faire l'histogramme. Comparez les deux histogrammes et commentez*"
   ]
  },
  {
   "cell_type": "code",
   "execution_count": 22,
   "metadata": {
    "collapsed": false
   },
   "outputs": [
    {
     "data": {
      "image/png": "[encoded data removed]",
      "text/plain": [
       "<matplotlib.figure.Figure at 0x7f1593dbe1d0>"
      ]
     },
     "metadata": {},
     "output_type": "display_data"
    },
    {
     "data": {
      "image/png": "[encoded data removed]",
      "text/plain": [
       "<matplotlib.figure.Figure at 0x7f1593dbe090>"
      ]
     },
     "metadata": {},
     "output_type": "display_data"
    }
   ],
   "source": [
    "data_df_wage['wage'].hist(bins=10)\n",
    "plt.show()\n",
    "lwage = data_df_wage['wage'].apply(np.log)\n",
    "lwage.hist(bins=10)\n",
    "plt.show()"
   ]
  },
  {
   "cell_type": "markdown",
   "metadata": {},
   "source": [
    "## Question 4"
   ]
  },
  {
   "cell_type": "markdown",
   "metadata": {},
   "source": [
    "> *Calculer les corrélations motheduc et fatheduc. Commentez. Il y a-t-il un problème de multicollinéarité si l'on utilise ces variables comme variables explicatives ?*"
   ]
  },
  {
   "cell_type": "code",
   "execution_count": 23,
   "metadata": {
    "collapsed": false
   },
   "outputs": [
    {
     "data": {
      "text/html": [
       "<div style=\"max-height:1000px;max-width:1500px;overflow:auto;\">\n",
       "<table border=\"1\" class=\"dataframe\">\n",
       "  <thead>\n",
       "    <tr style=\"text-align: right;\">\n",
       "      <th></th>\n",
       "      <th>motheduc</th>\n",
       "      <th>fatheduc</th>\n",
       "    </tr>\n",
       "  </thead>\n",
       "  <tbody>\n",
       "    <tr>\n",
       "      <th>motheduc</th>\n",
       "      <td> 1.000000</td>\n",
       "      <td> 0.554063</td>\n",
       "    </tr>\n",
       "    <tr>\n",
       "      <th>fatheduc</th>\n",
       "      <td> 0.554063</td>\n",
       "      <td> 1.000000</td>\n",
       "    </tr>\n",
       "  </tbody>\n",
       "</table>\n",
       "</div>"
      ],
      "text/plain": [
       "          motheduc  fatheduc\n",
       "motheduc  1.000000  0.554063\n",
       "fatheduc  0.554063  1.000000"
      ]
     },
     "execution_count": 23,
     "metadata": {},
     "output_type": "execute_result"
    }
   ],
   "source": [
    "data_df_wage[['motheduc','fatheduc']].corr()"
   ]
  },
  {
   "cell_type": "markdown",
   "metadata": {},
   "source": [
    "## Question 5"
   ]
  },
  {
   "cell_type": "markdown",
   "metadata": {},
   "source": [
    "> *Faites un graphique en nuage de point entre wage et educ, wage et exper, wage et fatheduc. Commentez. S'agit-il d'un effet \"toute chose étant égale par ailleurs ?\"*"
   ]
  },
  {
   "cell_type": "code",
   "execution_count": 24,
   "metadata": {
    "collapsed": false
   },
   "outputs": [
    {
     "data": {
      "image/png": "[encoded data removed]",
      "text/plain": [
       "<matplotlib.figure.Figure at 0x7f1591850750>"
      ]
     },
     "metadata": {},
     "output_type": "display_data"
    },
    {
     "data": {
      "image/png": "[encoded data removed]",
      "text/plain": [
       "<matplotlib.figure.Figure at 0x7f1591633f10>"
      ]
     },
     "metadata": {},
     "output_type": "display_data"
    },
    {
     "data": {
      "image/png": "[encoded data removed]",
      "text/plain": [
       "<matplotlib.figure.Figure at 0x7f1591506e50>"
      ]
     },
     "metadata": {},
     "output_type": "display_data"
    }
   ],
   "source": [
    "educ = data_df_wage['educ']\n",
    "wage = data_df_wage['wage']\n",
    "exper = data_df_wage['exper']\n",
    "fatheduc = data_df_wage['fatheduc']\n",
    "\n",
    "#wage vs educ\n",
    "pl.figure()\n",
    "pl.scatter(educ,wage)\n",
    "pl.xlabel('educ')\n",
    "pl.ylabel('wage')\n",
    "pl.title('wage vs educ')\n",
    "pl.show()\n",
    "#wage vs exper\n",
    "pl.figure()\n",
    "pl.scatter(exper,wage)\n",
    "pl.xlabel('exper')\n",
    "pl.ylabel('wage')\n",
    "pl.title('wage vs exper')\n",
    "pl.show()\n",
    "#wage vs fatheduc\n",
    "pl.figure()\n",
    "pl.scatter(fatheduc,wage)\n",
    "pl.xlabel('fatheduc')\n",
    "pl.ylabel('wage')\n",
    "pl.title('wage vs fatheduc')\n",
    "pl.show()"
   ]
  },
  {
   "cell_type": "markdown",
   "metadata": {},
   "source": [
    "## QUESTION 6"
   ]
  },
  {
   "cell_type": "markdown",
   "metadata": {},
   "source": [
    ">  *Quelle est l'hypothèse fondamentale qui garanti des estimateurs non biaisés ?*"
   ]
  },
  {
   "cell_type": "markdown",
   "metadata": {},
   "source": [
    "CF le cours "
   ]
  },
  {
   "cell_type": "markdown",
   "metadata": {},
   "source": [
    "## QUESTION 7"
   ]
  },
  {
   "cell_type": "markdown",
   "metadata": {},
   "source": [
    ">  *Faire la régression de wage en utilisant les variables explicatives une constante, city, educ, exper, nwifeinc, kidslt6, kidsgt6. Commentez l'histogramme des résidus. *"
   ]
  },
  {
   "cell_type": "code",
   "execution_count": 25,
   "metadata": {
    "collapsed": false
   },
   "outputs": [
    {
     "data": {
      "image/png": "[encoded data removed]",
      "text/plain": [
       "<matplotlib.figure.Figure at 0x7f15917e9e90>"
      ]
     },
     "metadata": {},
     "output_type": "display_data"
    }
   ],
   "source": [
    "data_df_wage_X = data_df_wage[['city','educ','exper','nwifeinc','kidslt6','kidsge6']].copy()\n",
    "data_df_wage_X['cste'] = 1\n",
    "data_df_wage_Y = data_df_wage['wage']\n",
    "X = data_df_wage_X.as_matrix()\n",
    "Y =  data_df_wage['wage']\n",
    "\n",
    "inv_xx  = linalg.inv(X.T.dot(X))\n",
    "beta = inv_xx.dot(X.T).dot(Y)\n",
    "prediction = X.dot(beta)\n",
    "residus = Y - prediction\n",
    "plt.hist(residus)\n",
    "plt.show()"
   ]
  },
  {
   "cell_type": "markdown",
   "metadata": {},
   "source": [
    "## QUESTION 8"
   ]
  },
  {
   "cell_type": "markdown",
   "metadata": {},
   "source": [
    ">  *Faire la régrssion de lwage sur une constante, city, educ, exper, nwifeinc, kidslt6, kidsgt6. Commentez l’histogramme des résidus.*"
   ]
  },
  {
   "cell_type": "code",
   "execution_count": 26,
   "metadata": {
    "collapsed": false
   },
   "outputs": [
    {
     "data": {
      "image/png": "[encoded data removed]",
      "text/plain": [
       "<matplotlib.figure.Figure at 0x7f15917f1ad0>"
      ]
     },
     "metadata": {},
     "output_type": "display_data"
    }
   ],
   "source": [
    "data_df_wage_X = data_df_wage[['city','educ','exper','nwifeinc','kidslt6','kidsge6']].copy()\n",
    "data_df_wage_X['cste'] = 1\n",
    "X = data_df_wage_X.as_matrix()\n",
    "Y = data_df_wage['lwage']\n",
    "inv_xx_log  = linalg.inv(X.T.dot(X))\n",
    "beta_log = inv_xx_log.dot(X.T).dot(Y)\n",
    "prediction_log = X.dot(beta_log)\n",
    "residus_log = Y - prediction_log\n",
    "plt.hist(residus_log)\n",
    "plt.show()"
   ]
  },
  {
   "cell_type": "markdown",
   "metadata": {},
   "source": [
    "## QUESTION 9"
   ]
  },
  {
   "cell_type": "markdown",
   "metadata": {},
   "source": [
    ">  *Tester l'hypothèse de non significativité de exper avec un seuil de significativité de 1%, 5% et 10% (test alternatif des deux côtés). Commentez les p-values. Tester l’hypothèse que le coefficient associé à educ est égal à 10% avec un seuil de significativité de 5% (test à alternatif des deux côtés)*"
   ]
  },
  {
   "cell_type": "code",
   "execution_count": 27,
   "metadata": {
    "collapsed": false
   },
   "outputs": [
    {
     "name": "stdout",
     "output_type": "stream",
     "text": [
      "[ 0.50254687  6.77056179  3.45171828  1.46595149 -0.53105232 -0.43435775\n",
      " -1.92694669]\n",
      "Test for  t_exper = 3.45171828081\n",
      "alpha : 0.01 , t = 5.17511514611,  p_valeur = 0.000613365079014\n",
      "alpha : 0.05 , t = 3.93122958402,  p_valeur = 0.000613365079014\n",
      "alpha : 0.1 , t = 3.29696211425,  p_valeur = 0.000613365079014\n",
      "p value :  0.440880835299\n",
      "0.148826664688\n"
     ]
    },
    {
     "data": {
      "text/plain": [
       "2.517648016044097"
      ]
     },
     "execution_count": 27,
     "metadata": {},
     "output_type": "execute_result"
    }
   ],
   "source": [
    "n,k = X.shape\n",
    "sig2 = residus_log.T.dot(residus_log)/(n-k)\n",
    "std = np.sqrt(np.diag(sig2*(inv_xx_log)))\n",
    "alphas = [0.01,0.05,0.1]\n",
    "t = beta_log/std\n",
    "t_exper = t[2]\n",
    "print t\n",
    "#On rejette l'hypothese exper !=0 si t_exper >= au seuil\n",
    "#==> exprer different de 0 si t_exper >= t_statistique\n",
    "print \"Test for  t_exper = %s\" % t_exper\n",
    "for alpha in alphas:\n",
    "    p_value = stats.t.sf(t_exper,n-k)*2\n",
    "    \n",
    "    t_statistique = stats.t.isf(alpha/2 , n-k)*2\n",
    "    \n",
    "    print \"alpha : %s , t = %s,  p_valeur = %s\" %(alpha,t_statistique,p_value)\n",
    "\n",
    "\n",
    "beta_educ_H0 = 0.1\n",
    "t_educ = (beta_log[1]-beta_educ_H0)/std[1]\n",
    "t_educ, t_exper\n",
    "print \"p value : \" , stats.t.sf(t_educ,n-k)\n",
    "print t_educ\n",
    "#On rejtte l'hypothese alternative car t_educ <= au seuil\n",
    "stats.t.isf( 0.01 , 21)"
   ]
  },
  {
   "cell_type": "markdown",
   "metadata": {},
   "source": [
    "## QUESTION 10"
   ]
  },
  {
   "cell_type": "markdown",
   "metadata": {},
   "source": [
    ">  *De combien augmente wage avec 10 années d’expérience ?*"
   ]
  },
  {
   "cell_type": "code",
   "execution_count": 28,
   "metadata": {
    "collapsed": false
   },
   "outputs": [
    {
     "data": {
      "text/plain": [
       "0.15487872095843438"
      ]
     },
     "execution_count": 28,
     "metadata": {},
     "output_type": "execute_result"
    }
   ],
   "source": [
    "#Pas sur de la question : \n",
    "# - Prédire avec expr = expr +10 pour tous?\n",
    "# - Prédire seulement expr >10 vs expr <=10 ?\n",
    "beta_educ = beta_log[2]\n",
    "delta_wage = 10*beta_educ\n",
    "delta_wage"
   ]
  },
  {
   "cell_type": "markdown",
   "metadata": {},
   "source": [
    "## QUESTION 11"
   ]
  },
  {
   "cell_type": "markdown",
   "metadata": {},
   "source": [
    ">  *Tester l’égalité des coefficients associés aux variables kidsgt6 et kidslt6. Interprétez.*"
   ]
  },
  {
   "cell_type": "code",
   "execution_count": 29,
   "metadata": {
    "collapsed": false
   },
   "outputs": [
    {
     "name": "stdout",
     "output_type": "stream",
     "text": [
      "0.37174737908\n",
      "Index([u'city', u'educ', u'exper', u'nwifeinc', u'kidsge6', u'cste', u'kids'], dtype='object')\n",
      "p - value = 0.355133987422\n"
     ]
    }
   ],
   "source": [
    "#Construction de l'hypothese kidsge6 == kidslt6\n",
    "#On crée un nouveau paramètre:\n",
    "#Redéfinition de la variable\n",
    "data_df_wage_X_new_param = data_df_wage_X.copy()\n",
    "data_df_wage_X_new_param['kids'] = data_df_wage_X['kidsge6']+data_df_wage_X['kidslt6']\n",
    "del data_df_wage_X_new_param['kidslt6']\n",
    "X = data_df_wage_X_new_param.as_matrix()\n",
    "Y = data_df_wage['lwage']\n",
    "\n",
    "#Nouvelle régression\n",
    "inv_xx  = linalg.inv(X.T.dot(X))\n",
    "beta_log = inv_xx.dot(X.T).dot(Y)\n",
    "prediction_log = X.dot(beta_log)\n",
    "residus_log = Y - prediction_log\n",
    "\n",
    "#Calcul de Student :\n",
    "n,k = X.shape\n",
    "sig2 = residus_log.T.dot(residus_log)/(n-k)\n",
    "std = np.sqrt(np.diag(sig2*(inv_xx)))\n",
    "t = beta_log/std\n",
    "p_value = stats.t.sf(t[4],n-k)\n",
    "print t[4]\n",
    "print data_df_wage_X_new_param.columns\n",
    "print \"p - value = %s\" % p_value\n"
   ]
  },
  {
   "cell_type": "markdown",
   "metadata": {},
   "source": [
    "## QUESTION 12"
   ]
  },
  {
   "cell_type": "markdown",
   "metadata": {},
   "source": [
    ">  *En utilisant le modèle de la question 8, faire le test d'hétéroscédasticité de forme linéaire. Corriger le problème par rapport à la variable la plus importante en utilisant la méthode des moindres carrés pondérés.*"
   ]
  },
  {
   "cell_type": "code",
   "execution_count": 30,
   "metadata": {
    "collapsed": false
   },
   "outputs": [
    {
     "name": "stdout",
     "output_type": "stream",
     "text": [
      "t :  [  2.00222246e-14  -4.26095919e-14  -2.43806359e-14  -9.27716057e-16\n",
      "   2.19616821e-15  -6.34158840e-15  -3.15357846e-14]  \n",
      " p_value :  [ 0.5  0.5  0.5  0.5  0.5  0.5  0.5]\n"
     ]
    },
    {
     "data": {
      "image/png": "[encoded data removed]",
      "text/plain": [
       "<matplotlib.figure.Figure at 0x7f15915bba10>"
      ]
     },
     "metadata": {},
     "output_type": "display_data"
    }
   ],
   "source": [
    "#Réériture question 8 : \n",
    "data_df_wage_X = data_df_wage[['city','educ','exper','nwifeinc','kidslt6','kidsge6']].copy()\n",
    "data_df_wage_X['cste'] = 1\n",
    "X = data_df_wage_X.as_matrix()\n",
    "Y = data_df_wage['lwage']\n",
    "\n",
    "inv_xx  = linalg.inv(X.T.dot(X))\n",
    "beta_log = inv_xx.dot(X.T).dot(Y)\n",
    "prediction_log = X.dot(beta_log)\n",
    "residus_log = Y - prediction_log\n",
    "residus_log_2 = residus_log **2\n",
    "\n",
    "Y = residus_log\n",
    "beta_log = inv_xx.dot(X.T).dot(Y)\n",
    "prediction_log = X.dot(beta_log)\n",
    "residus_log = Y - prediction_log\n",
    "\n",
    "#Calcul de Student :\n",
    "n,k = X.shape\n",
    "sig2 = residus_log.T.dot(residus_log)/(n-k)\n",
    "std = np.sqrt(np.diag(sig2*(inv_xx)))\n",
    "t = beta_log/std\n",
    "p_value = stats.t.sf(t,n-k)\n",
    "print \"t : \", t,\" \\n p_value : \",   p_value\n",
    "\n",
    "\n",
    "###???###\n",
    "weighted_variable = 'kidslt6'\n",
    "Ys = Y/np.sqrt(1+data_df_wage_X[weighted_variable])\n",
    "Xs = data_df_wage_X.apply(lambda x: x/np.sqrt(1+data_df_wage_X[weighted_variable]))\n",
    "\n",
    "inv_xxs  = linalg.inv(Xs.T.dot(Xs))\n",
    "beta_log = inv_xxs.dot(Xs.T).dot(Ys)\n",
    "prediction_log = Xs.dot(beta_log)\n",
    "residus_log = Ys - prediction_log\n",
    "\n",
    "plt.hist(residus_log)\n",
    "plt.show()\n"
   ]
  },
  {
   "cell_type": "markdown",
   "metadata": {},
   "source": [
    "## QUESTION 13"
   ]
  },
  {
   "cell_type": "markdown",
   "metadata": {},
   "source": [
    ">  *Tester le changement de structure de la question 7 entre les femmes qui ont plus de deux enfants de moins de 6 ans et les autres : test sur l'ensemble des coefficients.*"
   ]
  },
  {
   "cell_type": "code",
   "execution_count": 31,
   "metadata": {
    "collapsed": false
   },
   "outputs": [],
   "source": [
    "data_df_wage_X = data_df_wage[['city','educ','exper','nwifeinc','kidslt6','kidsge6']].copy()\n",
    "data_df_wage_Y = data_df_wage['wage']\n",
    "Y =  data_df_wage['lwage']\n",
    "\n",
    "#Variables d'intéractions : \n",
    "gt2kids = data_df_wage_X[data_df_wage_X['kidslt6']>=2]\n",
    "union = data_df_wage_X.merge(gt2kids,\n",
    "                             left_index=True,\n",
    "                             right_index=True,\n",
    "                             how='outer',\n",
    "                             suffixes=(\"origin\",\"gt2kids\"))\n",
    "union = union.replace(\"NaN\",0)\n",
    "union['cste'] = 1\n",
    "\n",
    "X = union.as_matrix()\n",
    "A = X.T.dot(X)\n",
    "inv_xx  = linalg.inv(X.T.dot(X))\n",
    "beta_log = inv_xx.dot(X.T).dot(Y)\n",
    "prediction_log = X.dot(beta_log)\n",
    "residus_log = Y - prediction_log\n"
   ]
  },
  {
   "cell_type": "markdown",
   "metadata": {},
   "source": [
    "## QUESTION 14"
   ]
  },
  {
   "cell_type": "markdown",
   "metadata": {},
   "source": [
    ">  *Transformer la variable kidslt6 en variables binaires. Refaire la question 8 avec ces variables en utilisant la catégorie kidslt6 = 1 comme référence. Interprétez les paramètres associés aux variables binaires.*"
   ]
  },
  {
   "cell_type": "code",
   "execution_count": 32,
   "metadata": {
    "collapsed": false
   },
   "outputs": [
    {
     "data": {
      "text/html": [
       "<div style=\"max-height:1000px;max-width:1500px;overflow:auto;\">\n",
       "<table border=\"1\" class=\"dataframe\">\n",
       "  <thead>\n",
       "    <tr style=\"text-align: right;\">\n",
       "      <th></th>\n",
       "      <th>city</th>\n",
       "      <th>educ</th>\n",
       "      <th>exper</th>\n",
       "      <th>nwifeinc</th>\n",
       "      <th>kidsge6</th>\n",
       "      <th>cste</th>\n",
       "      <th>#kidslt6:0.0</th>\n",
       "      <th>#kidslt6:1.0</th>\n",
       "      <th>#kidslt6:2.0</th>\n",
       "    </tr>\n",
       "  </thead>\n",
       "  <tbody>\n",
       "    <tr>\n",
       "      <th>0  </th>\n",
       "      <td> 0</td>\n",
       "      <td> 12</td>\n",
       "      <td> 14</td>\n",
       "      <td> 10.910060</td>\n",
       "      <td> 0</td>\n",
       "      <td> 1</td>\n",
       "      <td> 0</td>\n",
       "      <td> 1</td>\n",
       "      <td> 0</td>\n",
       "    </tr>\n",
       "    <tr>\n",
       "      <th>1  </th>\n",
       "      <td> 1</td>\n",
       "      <td> 12</td>\n",
       "      <td>  5</td>\n",
       "      <td> 19.499980</td>\n",
       "      <td> 2</td>\n",
       "      <td> 1</td>\n",
       "      <td> 1</td>\n",
       "      <td> 0</td>\n",
       "      <td> 0</td>\n",
       "    </tr>\n",
       "    <tr>\n",
       "      <th>2  </th>\n",
       "      <td> 0</td>\n",
       "      <td> 12</td>\n",
       "      <td> 15</td>\n",
       "      <td> 12.039910</td>\n",
       "      <td> 3</td>\n",
       "      <td> 1</td>\n",
       "      <td> 0</td>\n",
       "      <td> 1</td>\n",
       "      <td> 0</td>\n",
       "    </tr>\n",
       "    <tr>\n",
       "      <th>3  </th>\n",
       "      <td> 0</td>\n",
       "      <td> 12</td>\n",
       "      <td>  6</td>\n",
       "      <td>  6.799996</td>\n",
       "      <td> 3</td>\n",
       "      <td> 1</td>\n",
       "      <td> 1</td>\n",
       "      <td> 0</td>\n",
       "      <td> 0</td>\n",
       "    </tr>\n",
       "    <tr>\n",
       "      <th>4  </th>\n",
       "      <td> 1</td>\n",
       "      <td> 14</td>\n",
       "      <td>  7</td>\n",
       "      <td> 20.100060</td>\n",
       "      <td> 2</td>\n",
       "      <td> 1</td>\n",
       "      <td> 0</td>\n",
       "      <td> 1</td>\n",
       "      <td> 0</td>\n",
       "    </tr>\n",
       "    <tr>\n",
       "      <th>5  </th>\n",
       "      <td> 1</td>\n",
       "      <td> 12</td>\n",
       "      <td> 33</td>\n",
       "      <td>  9.859054</td>\n",
       "      <td> 0</td>\n",
       "      <td> 1</td>\n",
       "      <td> 1</td>\n",
       "      <td> 0</td>\n",
       "      <td> 0</td>\n",
       "    </tr>\n",
       "    <tr>\n",
       "      <th>6  </th>\n",
       "      <td> 0</td>\n",
       "      <td> 16</td>\n",
       "      <td> 11</td>\n",
       "      <td>  9.152048</td>\n",
       "      <td> 2</td>\n",
       "      <td> 1</td>\n",
       "      <td> 1</td>\n",
       "      <td> 0</td>\n",
       "      <td> 0</td>\n",
       "    </tr>\n",
       "    <tr>\n",
       "      <th>7  </th>\n",
       "      <td> 0</td>\n",
       "      <td> 12</td>\n",
       "      <td> 35</td>\n",
       "      <td> 10.900040</td>\n",
       "      <td> 0</td>\n",
       "      <td> 1</td>\n",
       "      <td> 1</td>\n",
       "      <td> 0</td>\n",
       "      <td> 0</td>\n",
       "    </tr>\n",
       "    <tr>\n",
       "      <th>8  </th>\n",
       "      <td> 0</td>\n",
       "      <td> 12</td>\n",
       "      <td> 24</td>\n",
       "      <td> 17.305000</td>\n",
       "      <td> 2</td>\n",
       "      <td> 1</td>\n",
       "      <td> 1</td>\n",
       "      <td> 0</td>\n",
       "      <td> 0</td>\n",
       "    </tr>\n",
       "    <tr>\n",
       "      <th>9  </th>\n",
       "      <td> 0</td>\n",
       "      <td> 12</td>\n",
       "      <td> 21</td>\n",
       "      <td> 12.925000</td>\n",
       "      <td> 2</td>\n",
       "      <td> 1</td>\n",
       "      <td> 1</td>\n",
       "      <td> 0</td>\n",
       "      <td> 0</td>\n",
       "    </tr>\n",
       "    <tr>\n",
       "      <th>10 </th>\n",
       "      <td> 0</td>\n",
       "      <td> 12</td>\n",
       "      <td> 15</td>\n",
       "      <td> 24.299950</td>\n",
       "      <td> 1</td>\n",
       "      <td> 1</td>\n",
       "      <td> 1</td>\n",
       "      <td> 0</td>\n",
       "      <td> 0</td>\n",
       "    </tr>\n",
       "    <tr>\n",
       "      <th>11 </th>\n",
       "      <td> 0</td>\n",
       "      <td> 11</td>\n",
       "      <td> 14</td>\n",
       "      <td> 19.700070</td>\n",
       "      <td> 1</td>\n",
       "      <td> 1</td>\n",
       "      <td> 1</td>\n",
       "      <td> 0</td>\n",
       "      <td> 0</td>\n",
       "    </tr>\n",
       "    <tr>\n",
       "      <th>12 </th>\n",
       "      <td> 0</td>\n",
       "      <td> 12</td>\n",
       "      <td>  0</td>\n",
       "      <td> 15.000010</td>\n",
       "      <td> 2</td>\n",
       "      <td> 1</td>\n",
       "      <td> 0</td>\n",
       "      <td> 1</td>\n",
       "      <td> 0</td>\n",
       "    </tr>\n",
       "    <tr>\n",
       "      <th>13 </th>\n",
       "      <td> 1</td>\n",
       "      <td> 12</td>\n",
       "      <td> 14</td>\n",
       "      <td> 14.600000</td>\n",
       "      <td> 2</td>\n",
       "      <td> 1</td>\n",
       "      <td> 1</td>\n",
       "      <td> 0</td>\n",
       "      <td> 0</td>\n",
       "    </tr>\n",
       "    <tr>\n",
       "      <th>14 </th>\n",
       "      <td> 1</td>\n",
       "      <td> 10</td>\n",
       "      <td>  6</td>\n",
       "      <td> 24.630910</td>\n",
       "      <td> 1</td>\n",
       "      <td> 1</td>\n",
       "      <td> 1</td>\n",
       "      <td> 0</td>\n",
       "      <td> 0</td>\n",
       "    </tr>\n",
       "    <tr>\n",
       "      <th>15 </th>\n",
       "      <td> 1</td>\n",
       "      <td> 11</td>\n",
       "      <td>  9</td>\n",
       "      <td> 17.531030</td>\n",
       "      <td> 3</td>\n",
       "      <td> 1</td>\n",
       "      <td> 1</td>\n",
       "      <td> 0</td>\n",
       "      <td> 0</td>\n",
       "    </tr>\n",
       "    <tr>\n",
       "      <th>16 </th>\n",
       "      <td> 1</td>\n",
       "      <td> 12</td>\n",
       "      <td> 20</td>\n",
       "      <td> 14.099980</td>\n",
       "      <td> 2</td>\n",
       "      <td> 1</td>\n",
       "      <td> 1</td>\n",
       "      <td> 0</td>\n",
       "      <td> 0</td>\n",
       "    </tr>\n",
       "    <tr>\n",
       "      <th>17 </th>\n",
       "      <td> 1</td>\n",
       "      <td> 12</td>\n",
       "      <td>  6</td>\n",
       "      <td> 15.839000</td>\n",
       "      <td> 5</td>\n",
       "      <td> 1</td>\n",
       "      <td> 1</td>\n",
       "      <td> 0</td>\n",
       "      <td> 0</td>\n",
       "    </tr>\n",
       "    <tr>\n",
       "      <th>18 </th>\n",
       "      <td> 1</td>\n",
       "      <td> 12</td>\n",
       "      <td> 23</td>\n",
       "      <td> 14.100000</td>\n",
       "      <td> 0</td>\n",
       "      <td> 1</td>\n",
       "      <td> 1</td>\n",
       "      <td> 0</td>\n",
       "      <td> 0</td>\n",
       "    </tr>\n",
       "    <tr>\n",
       "      <th>19 </th>\n",
       "      <td> 0</td>\n",
       "      <td> 12</td>\n",
       "      <td>  9</td>\n",
       "      <td> 10.299960</td>\n",
       "      <td> 4</td>\n",
       "      <td> 1</td>\n",
       "      <td> 1</td>\n",
       "      <td> 0</td>\n",
       "      <td> 0</td>\n",
       "    </tr>\n",
       "    <tr>\n",
       "      <th>20 </th>\n",
       "      <td> 0</td>\n",
       "      <td> 16</td>\n",
       "      <td>  5</td>\n",
       "      <td> 22.654980</td>\n",
       "      <td> 2</td>\n",
       "      <td> 1</td>\n",
       "      <td> 1</td>\n",
       "      <td> 0</td>\n",
       "      <td> 0</td>\n",
       "    </tr>\n",
       "    <tr>\n",
       "      <th>21 </th>\n",
       "      <td> 0</td>\n",
       "      <td> 12</td>\n",
       "      <td> 11</td>\n",
       "      <td>  8.090048</td>\n",
       "      <td> 0</td>\n",
       "      <td> 1</td>\n",
       "      <td> 1</td>\n",
       "      <td> 0</td>\n",
       "      <td> 0</td>\n",
       "    </tr>\n",
       "    <tr>\n",
       "      <th>22 </th>\n",
       "      <td> 1</td>\n",
       "      <td> 13</td>\n",
       "      <td> 18</td>\n",
       "      <td> 17.479000</td>\n",
       "      <td> 0</td>\n",
       "      <td> 1</td>\n",
       "      <td> 1</td>\n",
       "      <td> 0</td>\n",
       "      <td> 0</td>\n",
       "    </tr>\n",
       "    <tr>\n",
       "      <th>23 </th>\n",
       "      <td> 0</td>\n",
       "      <td> 12</td>\n",
       "      <td> 15</td>\n",
       "      <td>  9.560000</td>\n",
       "      <td> 0</td>\n",
       "      <td> 1</td>\n",
       "      <td> 1</td>\n",
       "      <td> 0</td>\n",
       "      <td> 0</td>\n",
       "    </tr>\n",
       "    <tr>\n",
       "      <th>24 </th>\n",
       "      <td> 1</td>\n",
       "      <td> 12</td>\n",
       "      <td>  4</td>\n",
       "      <td>  8.274953</td>\n",
       "      <td> 1</td>\n",
       "      <td> 1</td>\n",
       "      <td> 0</td>\n",
       "      <td> 1</td>\n",
       "      <td> 0</td>\n",
       "    </tr>\n",
       "    <tr>\n",
       "      <th>25 </th>\n",
       "      <td> 1</td>\n",
       "      <td> 17</td>\n",
       "      <td> 21</td>\n",
       "      <td> 27.349990</td>\n",
       "      <td> 2</td>\n",
       "      <td> 1</td>\n",
       "      <td> 1</td>\n",
       "      <td> 0</td>\n",
       "      <td> 0</td>\n",
       "    </tr>\n",
       "    <tr>\n",
       "      <th>26 </th>\n",
       "      <td> 1</td>\n",
       "      <td> 12</td>\n",
       "      <td> 31</td>\n",
       "      <td> 16.000000</td>\n",
       "      <td> 0</td>\n",
       "      <td> 1</td>\n",
       "      <td> 1</td>\n",
       "      <td> 0</td>\n",
       "      <td> 0</td>\n",
       "    </tr>\n",
       "    <tr>\n",
       "      <th>27 </th>\n",
       "      <td> 1</td>\n",
       "      <td> 12</td>\n",
       "      <td>  9</td>\n",
       "      <td> 16.999980</td>\n",
       "      <td> 3</td>\n",
       "      <td> 1</td>\n",
       "      <td> 1</td>\n",
       "      <td> 0</td>\n",
       "      <td> 0</td>\n",
       "    </tr>\n",
       "    <tr>\n",
       "      <th>28 </th>\n",
       "      <td> 0</td>\n",
       "      <td> 17</td>\n",
       "      <td>  7</td>\n",
       "      <td> 15.100060</td>\n",
       "      <td> 0</td>\n",
       "      <td> 1</td>\n",
       "      <td> 0</td>\n",
       "      <td> 1</td>\n",
       "      <td> 0</td>\n",
       "    </tr>\n",
       "    <tr>\n",
       "      <th>29 </th>\n",
       "      <td> 0</td>\n",
       "      <td> 12</td>\n",
       "      <td>  7</td>\n",
       "      <td> 15.699980</td>\n",
       "      <td> 0</td>\n",
       "      <td> 1</td>\n",
       "      <td> 1</td>\n",
       "      <td> 0</td>\n",
       "      <td> 0</td>\n",
       "    </tr>\n",
       "    <tr>\n",
       "      <th>...</th>\n",
       "      <td>...</td>\n",
       "      <td>...</td>\n",
       "      <td>...</td>\n",
       "      <td>...</td>\n",
       "      <td>...</td>\n",
       "      <td>...</td>\n",
       "      <td>...</td>\n",
       "      <td>...</td>\n",
       "      <td>...</td>\n",
       "    </tr>\n",
       "    <tr>\n",
       "      <th>398</th>\n",
       "      <td> 1</td>\n",
       "      <td> 14</td>\n",
       "      <td> 14</td>\n",
       "      <td> 39.099980</td>\n",
       "      <td> 1</td>\n",
       "      <td> 1</td>\n",
       "      <td> 1</td>\n",
       "      <td> 0</td>\n",
       "      <td> 0</td>\n",
       "    </tr>\n",
       "    <tr>\n",
       "      <th>399</th>\n",
       "      <td> 1</td>\n",
       "      <td> 15</td>\n",
       "      <td> 17</td>\n",
       "      <td> 18.430070</td>\n",
       "      <td> 2</td>\n",
       "      <td> 1</td>\n",
       "      <td> 0</td>\n",
       "      <td> 0</td>\n",
       "      <td> 1</td>\n",
       "    </tr>\n",
       "    <tr>\n",
       "      <th>400</th>\n",
       "      <td> 1</td>\n",
       "      <td> 14</td>\n",
       "      <td>  5</td>\n",
       "      <td> 21.000000</td>\n",
       "      <td> 2</td>\n",
       "      <td> 1</td>\n",
       "      <td> 1</td>\n",
       "      <td> 0</td>\n",
       "      <td> 0</td>\n",
       "    </tr>\n",
       "    <tr>\n",
       "      <th>401</th>\n",
       "      <td> 0</td>\n",
       "      <td>  8</td>\n",
       "      <td>  2</td>\n",
       "      <td> 59.000000</td>\n",
       "      <td> 1</td>\n",
       "      <td> 1</td>\n",
       "      <td> 1</td>\n",
       "      <td> 0</td>\n",
       "      <td> 0</td>\n",
       "    </tr>\n",
       "    <tr>\n",
       "      <th>402</th>\n",
       "      <td> 1</td>\n",
       "      <td> 14</td>\n",
       "      <td>  0</td>\n",
       "      <td> 25.300000</td>\n",
       "      <td> 0</td>\n",
       "      <td> 1</td>\n",
       "      <td> 1</td>\n",
       "      <td> 0</td>\n",
       "      <td> 0</td>\n",
       "    </tr>\n",
       "    <tr>\n",
       "      <th>403</th>\n",
       "      <td> 1</td>\n",
       "      <td> 12</td>\n",
       "      <td>  3</td>\n",
       "      <td> 23.248990</td>\n",
       "      <td> 2</td>\n",
       "      <td> 1</td>\n",
       "      <td> 1</td>\n",
       "      <td> 0</td>\n",
       "      <td> 0</td>\n",
       "    </tr>\n",
       "    <tr>\n",
       "      <th>404</th>\n",
       "      <td> 1</td>\n",
       "      <td> 12</td>\n",
       "      <td> 21</td>\n",
       "      <td> 24.928090</td>\n",
       "      <td> 1</td>\n",
       "      <td> 1</td>\n",
       "      <td> 1</td>\n",
       "      <td> 0</td>\n",
       "      <td> 0</td>\n",
       "    </tr>\n",
       "    <tr>\n",
       "      <th>405</th>\n",
       "      <td> 1</td>\n",
       "      <td> 12</td>\n",
       "      <td> 20</td>\n",
       "      <td> 14.781990</td>\n",
       "      <td> 1</td>\n",
       "      <td> 1</td>\n",
       "      <td> 1</td>\n",
       "      <td> 0</td>\n",
       "      <td> 0</td>\n",
       "    </tr>\n",
       "    <tr>\n",
       "      <th>406</th>\n",
       "      <td> 1</td>\n",
       "      <td> 12</td>\n",
       "      <td> 19</td>\n",
       "      <td> 18.900030</td>\n",
       "      <td> 1</td>\n",
       "      <td> 1</td>\n",
       "      <td> 1</td>\n",
       "      <td> 0</td>\n",
       "      <td> 0</td>\n",
       "    </tr>\n",
       "    <tr>\n",
       "      <th>407</th>\n",
       "      <td> 1</td>\n",
       "      <td> 12</td>\n",
       "      <td>  4</td>\n",
       "      <td> 21.000000</td>\n",
       "      <td> 3</td>\n",
       "      <td> 1</td>\n",
       "      <td> 0</td>\n",
       "      <td> 1</td>\n",
       "      <td> 0</td>\n",
       "    </tr>\n",
       "    <tr>\n",
       "      <th>408</th>\n",
       "      <td> 0</td>\n",
       "      <td> 12</td>\n",
       "      <td> 19</td>\n",
       "      <td> 10.000010</td>\n",
       "      <td> 0</td>\n",
       "      <td> 1</td>\n",
       "      <td> 1</td>\n",
       "      <td> 0</td>\n",
       "      <td> 0</td>\n",
       "    </tr>\n",
       "    <tr>\n",
       "      <th>409</th>\n",
       "      <td> 1</td>\n",
       "      <td>  8</td>\n",
       "      <td> 11</td>\n",
       "      <td> 29.309970</td>\n",
       "      <td> 0</td>\n",
       "      <td> 1</td>\n",
       "      <td> 1</td>\n",
       "      <td> 0</td>\n",
       "      <td> 0</td>\n",
       "    </tr>\n",
       "    <tr>\n",
       "      <th>410</th>\n",
       "      <td> 0</td>\n",
       "      <td> 12</td>\n",
       "      <td> 14</td>\n",
       "      <td> 13.140030</td>\n",
       "      <td> 2</td>\n",
       "      <td> 1</td>\n",
       "      <td> 1</td>\n",
       "      <td> 0</td>\n",
       "      <td> 0</td>\n",
       "    </tr>\n",
       "    <tr>\n",
       "      <th>411</th>\n",
       "      <td> 1</td>\n",
       "      <td> 17</td>\n",
       "      <td>  8</td>\n",
       "      <td> 25.089990</td>\n",
       "      <td> 2</td>\n",
       "      <td> 1</td>\n",
       "      <td> 0</td>\n",
       "      <td> 1</td>\n",
       "      <td> 0</td>\n",
       "    </tr>\n",
       "    <tr>\n",
       "      <th>412</th>\n",
       "      <td> 0</td>\n",
       "      <td> 12</td>\n",
       "      <td> 13</td>\n",
       "      <td> 14.599930</td>\n",
       "      <td> 1</td>\n",
       "      <td> 1</td>\n",
       "      <td> 1</td>\n",
       "      <td> 0</td>\n",
       "      <td> 0</td>\n",
       "    </tr>\n",
       "    <tr>\n",
       "      <th>413</th>\n",
       "      <td> 1</td>\n",
       "      <td> 12</td>\n",
       "      <td> 24</td>\n",
       "      <td>  1.200001</td>\n",
       "      <td> 0</td>\n",
       "      <td> 1</td>\n",
       "      <td> 1</td>\n",
       "      <td> 0</td>\n",
       "      <td> 0</td>\n",
       "    </tr>\n",
       "    <tr>\n",
       "      <th>414</th>\n",
       "      <td> 1</td>\n",
       "      <td> 14</td>\n",
       "      <td>  1</td>\n",
       "      <td> 32.000000</td>\n",
       "      <td> 3</td>\n",
       "      <td> 1</td>\n",
       "      <td> 1</td>\n",
       "      <td> 0</td>\n",
       "      <td> 0</td>\n",
       "    </tr>\n",
       "    <tr>\n",
       "      <th>415</th>\n",
       "      <td> 1</td>\n",
       "      <td> 13</td>\n",
       "      <td>  1</td>\n",
       "      <td> 16.119970</td>\n",
       "      <td> 2</td>\n",
       "      <td> 1</td>\n",
       "      <td> 0</td>\n",
       "      <td> 1</td>\n",
       "      <td> 0</td>\n",
       "    </tr>\n",
       "    <tr>\n",
       "      <th>416</th>\n",
       "      <td> 0</td>\n",
       "      <td> 17</td>\n",
       "      <td>  3</td>\n",
       "      <td> 26.500020</td>\n",
       "      <td> 2</td>\n",
       "      <td> 1</td>\n",
       "      <td> 1</td>\n",
       "      <td> 0</td>\n",
       "      <td> 0</td>\n",
       "    </tr>\n",
       "    <tr>\n",
       "      <th>417</th>\n",
       "      <td> 0</td>\n",
       "      <td>  8</td>\n",
       "      <td>  4</td>\n",
       "      <td> 12.750060</td>\n",
       "      <td> 4</td>\n",
       "      <td> 1</td>\n",
       "      <td> 1</td>\n",
       "      <td> 0</td>\n",
       "      <td> 0</td>\n",
       "    </tr>\n",
       "    <tr>\n",
       "      <th>418</th>\n",
       "      <td> 0</td>\n",
       "      <td> 12</td>\n",
       "      <td> 21</td>\n",
       "      <td> 12.900000</td>\n",
       "      <td> 4</td>\n",
       "      <td> 1</td>\n",
       "      <td> 1</td>\n",
       "      <td> 0</td>\n",
       "      <td> 0</td>\n",
       "    </tr>\n",
       "    <tr>\n",
       "      <th>419</th>\n",
       "      <td> 0</td>\n",
       "      <td> 11</td>\n",
       "      <td> 10</td>\n",
       "      <td> 10.699980</td>\n",
       "      <td> 3</td>\n",
       "      <td> 1</td>\n",
       "      <td> 0</td>\n",
       "      <td> 1</td>\n",
       "      <td> 0</td>\n",
       "    </tr>\n",
       "    <tr>\n",
       "      <th>420</th>\n",
       "      <td> 1</td>\n",
       "      <td> 12</td>\n",
       "      <td> 13</td>\n",
       "      <td> 14.434030</td>\n",
       "      <td> 2</td>\n",
       "      <td> 1</td>\n",
       "      <td> 1</td>\n",
       "      <td> 0</td>\n",
       "      <td> 0</td>\n",
       "    </tr>\n",
       "    <tr>\n",
       "      <th>421</th>\n",
       "      <td> 1</td>\n",
       "      <td> 12</td>\n",
       "      <td>  9</td>\n",
       "      <td> 23.709000</td>\n",
       "      <td> 1</td>\n",
       "      <td> 1</td>\n",
       "      <td> 0</td>\n",
       "      <td> 1</td>\n",
       "      <td> 0</td>\n",
       "    </tr>\n",
       "    <tr>\n",
       "      <th>422</th>\n",
       "      <td> 0</td>\n",
       "      <td> 17</td>\n",
       "      <td> 14</td>\n",
       "      <td> 15.100000</td>\n",
       "      <td> 0</td>\n",
       "      <td> 1</td>\n",
       "      <td> 0</td>\n",
       "      <td> 0</td>\n",
       "      <td> 1</td>\n",
       "    </tr>\n",
       "    <tr>\n",
       "      <th>423</th>\n",
       "      <td> 0</td>\n",
       "      <td> 10</td>\n",
       "      <td>  2</td>\n",
       "      <td> 18.199980</td>\n",
       "      <td> 5</td>\n",
       "      <td> 1</td>\n",
       "      <td> 1</td>\n",
       "      <td> 0</td>\n",
       "      <td> 0</td>\n",
       "    </tr>\n",
       "    <tr>\n",
       "      <th>424</th>\n",
       "      <td> 1</td>\n",
       "      <td> 12</td>\n",
       "      <td> 21</td>\n",
       "      <td> 22.641060</td>\n",
       "      <td> 1</td>\n",
       "      <td> 1</td>\n",
       "      <td> 1</td>\n",
       "      <td> 0</td>\n",
       "      <td> 0</td>\n",
       "    </tr>\n",
       "    <tr>\n",
       "      <th>425</th>\n",
       "      <td> 1</td>\n",
       "      <td> 13</td>\n",
       "      <td> 22</td>\n",
       "      <td> 21.640080</td>\n",
       "      <td> 2</td>\n",
       "      <td> 1</td>\n",
       "      <td> 1</td>\n",
       "      <td> 0</td>\n",
       "      <td> 0</td>\n",
       "    </tr>\n",
       "    <tr>\n",
       "      <th>426</th>\n",
       "      <td> 1</td>\n",
       "      <td> 12</td>\n",
       "      <td> 14</td>\n",
       "      <td> 23.999980</td>\n",
       "      <td> 1</td>\n",
       "      <td> 1</td>\n",
       "      <td> 1</td>\n",
       "      <td> 0</td>\n",
       "      <td> 0</td>\n",
       "    </tr>\n",
       "    <tr>\n",
       "      <th>427</th>\n",
       "      <td> 1</td>\n",
       "      <td> 12</td>\n",
       "      <td>  7</td>\n",
       "      <td> 16.000020</td>\n",
       "      <td> 1</td>\n",
       "      <td> 1</td>\n",
       "      <td> 1</td>\n",
       "      <td> 0</td>\n",
       "      <td> 0</td>\n",
       "    </tr>\n",
       "  </tbody>\n",
       "</table>\n",
       "<p>428 rows × 9 columns</p>\n",
       "</div>"
      ],
      "text/plain": [
       "     city  educ  exper   nwifeinc  kidsge6  cste  #kidslt6:0.0  #kidslt6:1.0  \\\n",
       "0       0    12     14  10.910060        0     1             0             1   \n",
       "1       1    12      5  19.499980        2     1             1             0   \n",
       "2       0    12     15  12.039910        3     1             0             1   \n",
       "3       0    12      6   6.799996        3     1             1             0   \n",
       "4       1    14      7  20.100060        2     1             0             1   \n",
       "5       1    12     33   9.859054        0     1             1             0   \n",
       "6       0    16     11   9.152048        2     1             1             0   \n",
       "7       0    12     35  10.900040        0     1             1             0   \n",
       "8       0    12     24  17.305000        2     1             1             0   \n",
       "9       0    12     21  12.925000        2     1             1             0   \n",
       "10      0    12     15  24.299950        1     1             1             0   \n",
       "11      0    11     14  19.700070        1     1             1             0   \n",
       "12      0    12      0  15.000010        2     1             0             1   \n",
       "13      1    12     14  14.600000        2     1             1             0   \n",
       "14      1    10      6  24.630910        1     1             1             0   \n",
       "15      1    11      9  17.531030        3     1             1             0   \n",
       "16      1    12     20  14.099980        2     1             1             0   \n",
       "17      1    12      6  15.839000        5     1             1             0   \n",
       "18      1    12     23  14.100000        0     1             1             0   \n",
       "19      0    12      9  10.299960        4     1             1             0   \n",
       "20      0    16      5  22.654980        2     1             1             0   \n",
       "21      0    12     11   8.090048        0     1             1             0   \n",
       "22      1    13     18  17.479000        0     1             1             0   \n",
       "23      0    12     15   9.560000        0     1             1             0   \n",
       "24      1    12      4   8.274953        1     1             0             1   \n",
       "25      1    17     21  27.349990        2     1             1             0   \n",
       "26      1    12     31  16.000000        0     1             1             0   \n",
       "27      1    12      9  16.999980        3     1             1             0   \n",
       "28      0    17      7  15.100060        0     1             0             1   \n",
       "29      0    12      7  15.699980        0     1             1             0   \n",
       "..    ...   ...    ...        ...      ...   ...           ...           ...   \n",
       "398     1    14     14  39.099980        1     1             1             0   \n",
       "399     1    15     17  18.430070        2     1             0             0   \n",
       "400     1    14      5  21.000000        2     1             1             0   \n",
       "401     0     8      2  59.000000        1     1             1             0   \n",
       "402     1    14      0  25.300000        0     1             1             0   \n",
       "403     1    12      3  23.248990        2     1             1             0   \n",
       "404     1    12     21  24.928090        1     1             1             0   \n",
       "405     1    12     20  14.781990        1     1             1             0   \n",
       "406     1    12     19  18.900030        1     1             1             0   \n",
       "407     1    12      4  21.000000        3     1             0             1   \n",
       "408     0    12     19  10.000010        0     1             1             0   \n",
       "409     1     8     11  29.309970        0     1             1             0   \n",
       "410     0    12     14  13.140030        2     1             1             0   \n",
       "411     1    17      8  25.089990        2     1             0             1   \n",
       "412     0    12     13  14.599930        1     1             1             0   \n",
       "413     1    12     24   1.200001        0     1             1             0   \n",
       "414     1    14      1  32.000000        3     1             1             0   \n",
       "415     1    13      1  16.119970        2     1             0             1   \n",
       "416     0    17      3  26.500020        2     1             1             0   \n",
       "417     0     8      4  12.750060        4     1             1             0   \n",
       "418     0    12     21  12.900000        4     1             1             0   \n",
       "419     0    11     10  10.699980        3     1             0             1   \n",
       "420     1    12     13  14.434030        2     1             1             0   \n",
       "421     1    12      9  23.709000        1     1             0             1   \n",
       "422     0    17     14  15.100000        0     1             0             0   \n",
       "423     0    10      2  18.199980        5     1             1             0   \n",
       "424     1    12     21  22.641060        1     1             1             0   \n",
       "425     1    13     22  21.640080        2     1             1             0   \n",
       "426     1    12     14  23.999980        1     1             1             0   \n",
       "427     1    12      7  16.000020        1     1             1             0   \n",
       "\n",
       "     #kidslt6:2.0  \n",
       "0               0  \n",
       "1               0  \n",
       "2               0  \n",
       "3               0  \n",
       "4               0  \n",
       "5               0  \n",
       "6               0  \n",
       "7               0  \n",
       "8               0  \n",
       "9               0  \n",
       "10              0  \n",
       "11              0  \n",
       "12              0  \n",
       "13              0  \n",
       "14              0  \n",
       "15              0  \n",
       "16              0  \n",
       "17              0  \n",
       "18              0  \n",
       "19              0  \n",
       "20              0  \n",
       "21              0  \n",
       "22              0  \n",
       "23              0  \n",
       "24              0  \n",
       "25              0  \n",
       "26              0  \n",
       "27              0  \n",
       "28              0  \n",
       "29              0  \n",
       "..            ...  \n",
       "398             0  \n",
       "399             1  \n",
       "400             0  \n",
       "401             0  \n",
       "402             0  \n",
       "403             0  \n",
       "404             0  \n",
       "405             0  \n",
       "406             0  \n",
       "407             0  \n",
       "408             0  \n",
       "409             0  \n",
       "410             0  \n",
       "411             0  \n",
       "412             0  \n",
       "413             0  \n",
       "414             0  \n",
       "415             0  \n",
       "416             0  \n",
       "417             0  \n",
       "418             0  \n",
       "419             0  \n",
       "420             0  \n",
       "421             0  \n",
       "422             1  \n",
       "423             0  \n",
       "424             0  \n",
       "425             0  \n",
       "426             0  \n",
       "427             0  \n",
       "\n",
       "[428 rows x 9 columns]"
      ]
     },
     "execution_count": 32,
     "metadata": {},
     "output_type": "execute_result"
    }
   ],
   "source": [
    "from sklearn.preprocessing import Binarizer\n",
    "data_df_wage_X = data_df_wage[['city','educ','exper','nwifeinc','kidslt6','kidsge6']].copy()\n",
    "data_df_wage_X['cste'] = 1\n",
    "data_df_wage_Y = data_df_wage['lwage']\n",
    "Y =  data_df_wage['lwage']\n",
    "\n",
    "dummified_label = pd.get_dummies(data_df_wage_X['kidslt6'],prefix_sep=\":\",prefix='#kidslt6')\n",
    "X_dummified = pd.concat([data_df_wage_X,dummified_label],axis=1)\n",
    "del X_dummified['kidslt6']\n",
    "X_dummified"
   ]
  },
  {
   "cell_type": "markdown",
   "metadata": {},
   "source": [
    "## QUESTION 15"
   ]
  },
  {
   "cell_type": "markdown",
   "metadata": {},
   "source": [
    ">  *A partir de l’échantillon global, faire une régression de inlf sur une constante, city, educ, age, kidslt6, kidsgt6. Commentez le modèle et les résultats des tests de significativité pour chacun des coefficients estimé (test alternatif des deux côtés)*"
   ]
  },
  {
   "cell_type": "code",
   "execution_count": 55,
   "metadata": {
    "collapsed": false
   },
   "outputs": [
    {
     "name": "stdout",
     "output_type": "stream",
     "text": [
      "VALEURS LIMITES : \n",
      "alpha : 0.01 , t = 5.16485377813\n",
      "alpha : 0.05 , t = 3.92628956014\n",
      "alpha : 0.1 , t = 3.29379205208\n",
      "\n",
      "VALEURS DES VARIABLES\n",
      "Variable : city \t\t Beta : -0.0340852486149\t t : -0.943826052962\n",
      "Variable : educ \t\t Beta : 0.0434098297486\t t : 5.65579005833\n",
      "Variable : age \t\t Beta : -0.0130257840512\t t : -5.08093706732\n",
      "Variable : kidslt6 \t\t Beta : -0.307466878729\t t : -8.49800318584\n",
      "Variable : kidsge6 \t\t Beta : -0.0173414000154\t t : -1.23058501112\n",
      "Variable : cste \t\t Beta : 0.707577506436\t t : 4.36477864555\n"
     ]
    }
   ],
   "source": [
    "data_df_X_inlf= data_df[['city','educ','age','kidslt6','kidsge6']].copy()\n",
    "data_df_X_inlf['cste'] = 1\n",
    "X_inlf = data_df_X_inlf.as_matrix()\n",
    "Y_inlf = data_df['inlf']\n",
    "\n",
    "inv_xx  = linalg.inv(X_inlf.T.dot(X_inlf))\n",
    "beta_inlf= inv_xx.dot(X_inlf.T).dot(Y_inlf)\n",
    "prediction_inlf = X_inlf.dot(beta_inlf)\n",
    "residus_inlf = Y_inlf - prediction_inlf\n",
    "\n",
    "n,k = X_inlf.shape\n",
    "sig2 = residus_inlf.T.dot(residus_inlf)/(n-k)\n",
    "std = np.sqrt(np.diag(sig2*(inv_xx)))\n",
    "t = beta_inlf/std\n",
    "p_value = stats.t.sf(t,n-k)\n",
    "\n",
    "alphas = [0.01,0.05,0.1]\n",
    "print \"VALEURS LIMITES : \"\n",
    "for alpha in alphas:\n",
    "    t_statistique = stats.t.isf(alpha/2 , n-k)*2\n",
    "    print \"alpha : %s , t = %s\" %(alpha,t_statistique)\n",
    "print \"\\nVALEURS DES VARIABLES\"\n",
    "for (k,v1,v2) in zip(t,data_df_X.columns.tolist(),beta_inlf):\n",
    "    print \"Variable : %s \\t\\t Beta : %s\\t t : %s\" % (v1,v2,k)"
   ]
  },
  {
   "cell_type": "markdown",
   "metadata": {},
   "source": [
    "1. La constante est extrêmement importante et on peut l'accepter à 5 %\n",
    "1. kidslt6, l'éducation sont acceptables à 5 % mais d'une importance moindre dans le modèle.\n",
    "1. kidsge6 et city sont rejetés à 5 %"
   ]
  },
  {
   "cell_type": "markdown",
   "metadata": {},
   "source": [
    "## QUESTION 16"
   ]
  },
  {
   "cell_type": "markdown",
   "metadata": {},
   "source": [
    ">  *Développer le modèle probit et obtenir la fonction de log-vraisemblance l(.).*"
   ]
  },
  {
   "cell_type": "markdown",
   "metadata": {},
   "source": [
    "\n",
    "Si $y$ est une variable de Bernouilli on peut noter : \n",
    "\n",
    "\n",
    "$ \\mathbb{P}(y_i = 1 | x) = \\mathbb{P}(y=1|x_{i1},x_{i2},...,x_{ik})$\n",
    "\n",
    "$ \\mathbb{P}(y_i = 1 | x) = G(\\beta_0 +\\beta_1 x_{i1} + ... + \\beta_k x_{ik}) = G(x_i^T\\beta)  $\n",
    "\n",
    "Dans le modèle Probit on a : \n",
    "$G(z)= \\Phi(z) \n",
    "$ avec $  \\Phi(z) = \\int_{-\\infty}^z \\frac{1}{\\sqrt{2 \\pi}} exp (-\\frac{x^2}{2}) \\, \\mathrm dx$\n",
    "\n",
    "$\\mathbb{P}_x(y_i=1)=G(x_i^T\\beta)$\n",
    "\n",
    "$\\mathbb{P}_x(y_i=0)=1-G(x_i^T\\beta)$\n",
    "\n",
    "Par définition, la vraissemblance vaut : \n",
    "$ l(y) = \\mathbb{P}( y |x  , \\beta) $\n",
    "\n",
    "\n",
    "Et la log-vraissemblance, également par définition vaut : \n",
    "$log(l(y))$\n",
    "\n",
    "Ainsi pour une observation : \n",
    "\n",
    "$l(y_i)=G(x_i^T\\beta)^{y_i}(1-G(x_i^T\\beta))^{1-y_i}$ \n",
    "\n",
    "En étandant à toutes les observations : \n",
    "\n",
    "$l(y) = \\prod_{i=1}^n l(y_i) = \\prod_{i=1}^n G(x_i^T\\beta)^{y_i}(1-G(x_i^T\\beta))^{1-y_i} $\n",
    "\n",
    "La log-vraisemblance pour n observations est donc:\n",
    "\n",
    "$log (l(y_1,...,y_n, \\beta))= \\sum_{i=1}^{n} y_i log (G(x_i^T\\beta))+\\sum_{i=1}^{n}(1-y_i)log((1-G(x_i^T\\beta)))$ "
   ]
  },
  {
   "cell_type": "markdown",
   "metadata": {},
   "source": [
    "## QUESTION 17"
   ]
  },
  {
   "cell_type": "markdown",
   "metadata": {},
   "source": [
    ">  *Calculer la matrice d'information E($-\\partial l / \\partial \\beta \\partial \\beta '$) [astuce: E(yi) = p(yi=1)]. Commentez les programmes suivants :*"
   ]
  },
  {
   "cell_type": "markdown",
   "metadata": {},
   "source": [
    "###Calcul de la matrice d'information :"
   ]
  },
  {
   "cell_type": "markdown",
   "metadata": {},
   "source": [
    "**_Source de la démonstration :  http://hisayoshimoto.bol.ucla.edu/203c/ta_note4_version2_student.pdf _**\n",
    "\n",
    "La log-vraisemblance s'écrit:\n",
    "\n",
    "$$l(y_1,...,y_n, \\beta)= \\sum_{i=1}^{n} y_i log (G(x_i^T\\beta))+\\sum_{i=1}^{n}(1-y_i)log((1-G(x_i^T\\beta)))$$\n",
    "\n",
    "En dérivant par rapport à $\\beta$, on trouve :\n",
    "$$ \\frac{\\partial l}{ \\partial \\beta}= \\sum_{i=0}^{n} y_i x_i \\frac{g(x_i^T\\beta)}{G(x_i^T \\beta)} -  (1-y_i)x_i \\frac{g(x_i^T\\beta)}{1-G(x_i^T\\beta)}$$\n",
    "$\\Leftrightarrow$\n",
    "$$ \\frac{\\partial l}{ \\partial \\beta}= \\sum_{i=0}^{n} \\frac{y_i- G(x_i^T\\beta)}{G(x_i^T\\beta)(1-G(x_i^T\\beta))}  x_ig(x_i^T\\beta)$$\n",
    "La matrice d'information peut s'écrire:\n",
    "$$I=-E[\\frac{\\partial^2 l(y_1,...,y_n, \\beta)}{ \\partial \\beta \\partial \\beta'}]=E[( \\frac{\\partial l(y_1,...,y_n, \\beta)}{ \\partial \\beta})( \\frac{\\partial l(y_1,...,y_n, \\beta)}{ \\partial \\beta'})] $$\n",
    "D'où\n",
    "\n",
    "$$I=-E[\\frac{\\partial^2 l(y_1,...,y_n, \\beta)}{ \\partial \\beta \\partial \\beta'}]=E[\\sum_{i=0}^{n} \\frac{y_i- G(x_i^T\\beta)}{G(x_i^T\\beta)(1-G(x_i^T\\beta))}  x_ig(x_i^T\\beta) * \\sum_{i=0}^{n} \\frac{y_i- G(x_i^T\\beta)}{G(x_i^T\\beta)(1-G(x_i^T\\beta))}  x_i^Tg(x_i^T\\beta)] $$\n",
    "\n",
    "\n",
    "\n",
    "$$\\ = E_{x_i} \\left[ E_{y_i|x_i} \\left[ \\left(\\frac{y_i- G(x_i^T\\beta)}{G(x_i^T\\beta)(1-G(x_i^T\\beta))}\\right) ^2  x_i x_i^T g(x_i^T\\beta)^2 \\middle| x_i \\right]\\right]$$\n",
    "Or:\n",
    "$$ E_{y_i|x_i} \\left[\\{y_i- G(x_i^T\\beta)\\}^2\\middle| x_i\\right] = Var_{y_i|x_i} \\left[\\{y_i- G(x_i^T\\beta)\\}\\middle| x_i\\right] + E_{y_i|x_i} \\left[\\{y_i- G(x_i^T\\beta)\\}\\middle| x_i\\right]^2$$\n",
    "et:\n",
    "$$\\begin{align}\n",
    "E_{y_i|x_i} \\left[\\{y_i- G(x_i^T\\beta)\\}\\middle| x_i\\right] = E_{y_i|x_i} \\left[y_i\\middle| x_i\\right]- G(x_i^T\\beta) \\\\\n",
    " = G(x_i^T\\beta) - G(x_i^T\\beta) &\\\\\n",
    " = 0&\n",
    "\\end{align}\n",
    "$$\n",
    "Comme $y_i$ est une variable de Bernoulli:\n",
    "$$Var_{y_i|x_i} \\left[\\{y_i- G(x_i^T\\beta)\\}\\middle| x_i\\right] = G(x_i^T\\beta)(1-G(x_i^T\\beta))$$\n",
    "D'où:\n",
    "$$E(−\\frac{∂^2l}{∂β∂β'}) = E_{x_i}\\left[\\frac{g^2(x_i^T\\beta)}{G(x_i^T\\beta)[1-G(x_i^T\\beta)]} x_ix_i^T \\right]$$"
   ]
  },
  {
   "cell_type": "markdown",
   "metadata": {},
   "source": [
    "###Commentaires du programme"
   ]
  },
  {
   "cell_type": "markdown",
   "metadata": {},
   "source": [
    "```javascript\n",
    "\n",
    "/*\n",
    "Fonction calculant le maxium de vraissemblance à l'aide du modèle probit.\n",
    "Données d'entrées : l'objectif à expliquer, les variables explicatives, la précision pour le critère d'arrêt \n",
    "Retourne  :  les coefficients, la log-vraissemblance, la matrice d'information etl e nombre d'itérations pour atteindre le résultat\n",
    "*/\n",
    "function [betanew,loglik,imat,icount]=probit(y,X,epsilon)\n",
    "%computes ML estimates of the probit model\n",
    "\n",
    "/*\n",
    "Initialisation des paramètres\n",
    "*/\n",
    "[N,K]=size(X);\n",
    "betanew=inv(X'*X)*X'*y; // Première itération\n",
    "beta=100*ones(K,1);   \n",
    "loglik=-100000;\n",
    "icount=0; // Compteur d'itération\n",
    "\n",
    "\n",
    "/*\n",
    "Tant que l'on gagne en précision d'une itération à l'autre: \n",
    "*/\n",
    "while ((betanew-beta)'*(betanew-beta)>epsilon);\n",
    "   beta=betanew; //Mise en mémoire de l'ancienne itération\n",
    "   [score,imat,loglik]=mlparms(y,X,beta); // Calcul des paramètres de la log vraissemblance\n",
    "   betanew=beta+(1/N)*inv(imat)*score; // Calcul d'un nouveau Beta\n",
    "   icount=icount+1;\n",
    "end;\n",
    "```\n",
    "\n",
    "\n",
    "\n",
    "```javascript\n",
    "\n",
    "/* \n",
    "Returns score vector, information matrix, and the value\n",
    "of the log-likelihood function for the probit model\n",
    "y=I{X*beta+U>0} evaluated at 'beta'\n",
    "*/\n",
    "\n",
    "function [score,infmat,loglik] = mlparms(y,X,beta);\n",
    "/*\n",
    "\n",
    "*/\n",
    "[N,K] = size(X);\n",
    "xb=X*beta;\n",
    "pdf_xb=npdf(xb);\n",
    "denom=ncdf2(xb).*(1-ncdf2(xb));\n",
    "score=X'*( ((y-ncdf2(xb)).*pdf_xb)./denom );\n",
    "infmat=zeros(K,K);\n",
    "i=1;\n",
    "while i<=N;\n",
    "infmat=infmat+(pdf_xb(i,1)*pdf_xb(i,1)/denom(i,1))*X(i,:)'*X(i,:);\n",
    "   i=i+1;\n",
    "end;\n",
    "infmat=infmat/N;\n",
    "loglik=ones(1,N)*( y.*log(ncdf2(xb))+(1-y).*log(1-ncdf2(xb)) );\n",
    "```"
   ]
  },
  {
   "cell_type": "markdown",
   "metadata": {},
   "source": [
    "## QUESTION 18"
   ]
  },
  {
   "cell_type": "markdown",
   "metadata": {},
   "source": [
    ">  *Pourquoi faut-il imposer une restriction sur les paramètres ?*"
   ]
  },
  {
   "cell_type": "markdown",
   "metadata": {},
   "source": [
    "## QUESTION 19"
   ]
  },
  {
   "cell_type": "markdown",
   "metadata": {},
   "source": [
    ">  *Estimer le modèle probit de inlf sur une constante, city, educ, age, kidslt6, kidsgt6 en utilisant la commande probit(y,X). *"
   ]
  },
  {
   "cell_type": "markdown",
   "metadata": {},
   "source": [
    "## QUESTION 20"
   ]
  },
  {
   "cell_type": "markdown",
   "metadata": {},
   "source": [
    ">  *Calculer les effets partiels pour l'ensemble des variables explicatives : $\\partial p(y=1)/\\partial x_k (k = 1, ..., K)$, où K est le nombre de variables explicatives. Comparer vos résultats à ceux obtenus à la question 15. Commentez.*"
   ]
  },
  {
   "cell_type": "markdown",
   "metadata": {},
   "source": [
    "#PARTIE II"
   ]
  },
  {
   "cell_type": "markdown",
   "metadata": {},
   "source": [
    "## QUESTION 21"
   ]
  },
  {
   "cell_type": "markdown",
   "metadata": {},
   "source": [
    ">  *Ouvrir le fichier volat.raw; attention aux valeurs manquantes.*"
   ]
  },
  {
   "cell_type": "code",
   "execution_count": 58,
   "metadata": {
    "collapsed": false
   },
   "outputs": [
    {
     "data": {
      "image/png": "[encoded data removed]",
      "text/plain": [
       "<matplotlib.figure.Figure at 0x7f15913e62d0>"
      ]
     },
     "metadata": {},
     "output_type": "display_data"
    }
   ],
   "source": [
    "columns = ['date',\n",
    "'sp500',                    \n",
    "'divyld',                   \n",
    "'i3',                       \n",
    "'ip',                       \n",
    "'pcsp',                     \n",
    "'rsp500',                   \n",
    "'pcip',                     \n",
    "'ci3',                      \n",
    "'ci3_1',                    \n",
    "'ci3_2',                   \n",
    "'pcip_1',                   \n",
    "'pcip_2',                   \n",
    "'pcip_3',                   \n",
    "'pcsp_1',                   \n",
    "'pcsp_2',                   \n",
    "'pcsp_3']\n",
    "\n",
    "data_df = pd.read_fwf('data/VOLAT.raw',names=columns)\n",
    "data_df = data_df.copy().replace('.',0)\n",
    "data_df = data_df.copy().astype(float)\n",
    "\n",
    "\n",
    "pl.figure()\n",
    "pl.plot(data_df.iloc[:,0],data_df.iloc[:,5])\n",
    "pl.show()"
   ]
  },
  {
   "cell_type": "markdown",
   "metadata": {},
   "source": [
    "## QUESTION 22"
   ]
  },
  {
   "cell_type": "markdown",
   "metadata": {},
   "source": [
    ">  *Pourquoi doit-on stationnariser les séries ?*"
   ]
  },
  {
   "cell_type": "markdown",
   "metadata": {},
   "source": [
    "\n",
    " Une distribution constante a travers le temps doit etre\n",
    " conservée pour pouvoir faire l'etude d'une serie temporelle\n",
    " stationnaire.\n"
   ]
  },
  {
   "cell_type": "markdown",
   "metadata": {},
   "source": [
    "## QUESTION 23"
   ]
  },
  {
   "cell_type": "markdown",
   "metadata": {},
   "source": [
    ">  *Faire le test de racine unitaire de log(sp500) H0: $\\rho$ = 1 et le test de Dickey Fuller.*"
   ]
  },
  {
   "cell_type": "code",
   "execution_count": 60,
   "metadata": {
    "collapsed": false
   },
   "outputs": [
    {
     "name": "stdout",
     "output_type": "stream",
     "text": [
      "                            OLS Regression Results                            \n",
      "==============================================================================\n",
      "Dep. Variable:                      y   R-squared:                       0.340\n",
      "Model:                            OLS   Adj. R-squared:                  0.338\n",
      "Method:                 Least Squares   F-statistic:                     286.0\n",
      "Date:                Mon, 11 May 2015   Prob (F-statistic):           4.60e-52\n",
      "Time:                        23:04:43   Log-Likelihood:                -253.07\n",
      "No. Observations:                 558   AIC:                             510.1\n",
      "Df Residuals:                     556   BIC:                             518.8\n",
      "Df Model:                           1                                         \n",
      "Covariance Type:            nonrobust                                         \n",
      "==============================================================================\n",
      "                 coef    std err          t      P>|t|      [95.0% Conf. Int.]\n",
      "------------------------------------------------------------------------------\n",
      "const          3.4111      0.202     16.857      0.000         3.014     3.809\n",
      "pcsp_1        -0.6793      0.040    -16.910      0.000        -0.758    -0.600\n",
      "==============================================================================\n",
      "Omnibus:                      532.845   Durbin-Watson:                   1.923\n",
      "Prob(Omnibus):                  0.000   Jarque-Bera (JB):            27825.017\n",
      "Skew:                          -4.064   Prob(JB):                         0.00\n",
      "Kurtosis:                      36.626   Cond. No.                         65.6\n",
      "==============================================================================\n",
      "\n",
      "Warnings:\n",
      "[1] Standard Errors assume that the covariance matrix of the errors is correctly specified.\n",
      "(-15.4558882487965, 2.7456861074384728e-28)\n"
     ]
    }
   ],
   "source": [
    "import statsmodels as sm\n",
    "\n",
    "# On estime la regression par les moindres carrés \n",
    "# puis on teste l'hypothèse H0 : p=0 avec un test de student\n",
    "dlog=np.log(data_df.ix[:,5]-np.min(data_df.ix[:,5])+1) - np.log(data_df.ix[:,14]-np.min(data_df.ix[:,14])+1)\n",
    "res=sm.api.OLS(dlog,sm.api.add_constant(np.log(data_df.ix[:,14]-np.min(data_df.ix[:,14])+1))).fit()\n",
    "print res.summary()\n",
    "\n",
    "logsp500=np.log(data_df.iloc[:,5] - np.min(data_df.iloc[:,5])+1)\n",
    "print sm.tsa.stattools.adfuller(logsp500)[:2]\n"
   ]
  },
  {
   "cell_type": "markdown",
   "metadata": {},
   "source": [
    "## QUESTION 24"
   ]
  },
  {
   "cell_type": "markdown",
   "metadata": {},
   "source": [
    ">  *Interpréter l'autocorrélogramme et l'autocorrélogramme partiels de pcsp et de divyld. Quelle est la différence entre ces deux graphiques ?*"
   ]
  },
  {
   "cell_type": "code",
   "execution_count": 62,
   "metadata": {
    "collapsed": false
   },
   "outputs": [
    {
     "data": {
      "image/png": "[encoded data removed]",
      "text/plain": [
       "<matplotlib.figure.Figure at 0x7f15907609d0>"
      ]
     },
     "metadata": {},
     "output_type": "display_data"
    }
   ],
   "source": [
    "#ACF et PACF pour pcsp\n",
    "fig, axes = pl.subplots(2,1)\n",
    "fig.subplots_adjust(hspace=.7)\n",
    "fig=sm.graphics.tsaplots.plot_acf(data_df.iloc[:,5],ax=axes[0])\n",
    "axes[0].set_title(\"Autocorrelogramme de Pcsp\")\n",
    "fig=sm.graphics.tsaplots.plot_pacf(data_df.iloc[:,5], ax=axes[1])\n",
    "axes[1].set_title(\"Autocorrelogramme partiel de Pcsp\")\n",
    "plt.show()"
   ]
  },
  {
   "cell_type": "code",
   "execution_count": 63,
   "metadata": {
    "collapsed": false
   },
   "outputs": [
    {
     "data": {
      "text/plain": [
       "<matplotlib.text.Text at 0x7f15904512d0>"
      ]
     },
     "execution_count": 63,
     "metadata": {},
     "output_type": "execute_result"
    },
    {
     "data": {
      "image/png": "[encoded data removed]",
      "text/plain": [
       "<matplotlib.figure.Figure at 0x7f15905ad850>"
      ]
     },
     "metadata": {},
     "output_type": "display_data"
    }
   ],
   "source": [
    "#ACF et PACF pour divyld\n",
    "fig, axes = pl.subplots(2,1)\n",
    "fig.subplots_adjust(hspace=.7)\n",
    "fig=sm.graphics.tsaplots.plot_acf(data_df.iloc[:,2],ax=axes[0])\n",
    "axes[0].set_title(\"Autocorrelogramme de Divyld\")\n",
    "fig=sm.graphics.tsaplots.plot_pacf(data_df.iloc[:,2], ax=axes[1])\n",
    "axes[1].set_title(\"Autocorrelogramme partiel de Divyld\")\n",
    "plt.show()"
   ]
  },
  {
   "cell_type": "markdown",
   "metadata": {},
   "source": [
    "\n",
    "Les autocorrelogrammes montrent qu'il a de la \n",
    "saisonnalité dans une des séries. De plus, La fonction \n",
    "d'auto-correlation n'est pas nulle sur tous les termes, \n",
    "il y a donc de l'autocorrélation"
   ]
  },
  {
   "cell_type": "markdown",
   "metadata": {},
   "source": [
    "## QUESTION 25"
   ]
  },
  {
   "cell_type": "markdown",
   "metadata": {},
   "source": [
    ">  *Proposer une modélisation AR(p) de chacune des séries en utilisant les outils et tests vu au cours.*"
   ]
  },
  {
   "cell_type": "code",
   "execution_count": 64,
   "metadata": {
    "collapsed": false
   },
   "outputs": [
    {
     "name": "stdout",
     "output_type": "stream",
     "text": [
      "p: 0\n",
      "AIC: -35.0177861449\n",
      "BIC: -34.8588391397\n",
      "params: [  2.50000000e-01   1.25000000e-01   1.25000000e-01   1.25000000e-01\n",
      "   1.25000000e-01   1.25000000e-01   1.25000000e-01   7.53175300e-13\n",
      "  -3.12638804e-13   2.84217094e-13   0.00000000e+00   1.27897692e-13\n",
      "   1.00000000e+00  -1.25000000e-01  -1.25000000e-01  -1.25000000e-01\n",
      "  -1.25000000e-01  -1.25000000e-01  -1.25000000e-01]\n",
      "\n",
      "p: 1\n",
      "AIC: 7.60982198225\n",
      "BIC: 7.76876898742\n",
      "params: [  1.59022287e+01   2.33846317e-01   1.19195278e-01   3.51956372e-02\n",
      "   2.04991060e-01  -1.02952978e-01  -3.62869952e-02   3.05232512e-02\n",
      "   3.92072766e-03   2.41031649e-03  -4.45318680e-02  -2.10542194e-02\n",
      "   9.61577871e-03   1.05494767e-01   1.34644057e-01  -8.53674353e-02\n",
      "  -9.01429619e-02   1.36200910e-01   9.38329589e-02]\n",
      "\n",
      "p: 2\n",
      "AIC: -3.64757950251\n",
      "BIC: -3.48863249734\n",
      "params: [ 0.04368892  1.21363121 -0.31568332  0.15452595 -0.04537656  0.04177899\n",
      " -0.10122718 -0.00507018  0.04633085  0.01476976 -0.07178905  0.15732751\n",
      " -0.09519627 -0.04340318 -0.03179246  0.09773965 -0.06251441  0.05355642\n",
      " -0.01897524]\n",
      "\n",
      "p: 3\n",
      "AIC: 0.608455182902\n",
      "BIC: 0.767402188071\n",
      "params: [ 0.30144335  0.49833779  0.27480123  0.07525764 -0.11501086  0.06491621\n",
      " -0.00713093 -0.02177639 -0.01108434  0.13874428 -0.01923304 -0.02547496\n",
      "  0.01621124  0.13859686 -0.08116212  0.09124418 -0.09368353 -0.12509031\n",
      "  0.13821747]\n",
      "\n",
      "p: 4\n",
      "AIC: 5.03563245912\n",
      "BIC: 5.19457946429\n",
      "params: [ 1.29522295  0.38640308  0.16040801  0.04446517  0.22968588  0.07678328\n",
      " -0.05850168  0.15300619 -0.1632335  -0.05698987 -0.00749788 -0.15061681\n",
      "  0.28863737  0.16860924 -0.12149498  0.02987846  0.00899893  0.04443589\n",
      " -0.05955588]\n",
      "\n",
      "p: 5\n",
      "AIC: 7.35921091409\n",
      "BIC: 7.51815791926\n",
      "params: [  7.36567385e+00   2.58792355e-01  -7.33888403e-02   2.25240221e-02\n",
      "   3.90313837e-02   6.16240627e-02  -6.91928587e-02  -5.66440559e-02\n",
      "   8.99738836e-03  -1.53747169e-02  -4.50037539e-02   1.02780086e-01\n",
      "  -6.17257917e-02   1.37833353e-02  -6.90219397e-02  -2.40026963e-02\n",
      "   1.95626115e-02  -3.67936746e-02   1.81851833e-03]\n",
      "\n",
      "p: 6\n",
      "AIC: 7.35775082813\n",
      "BIC: 7.51669783329\n",
      "params: [  1.07848931e+01   2.61047205e-01  -7.18418812e-02   2.42699264e-02\n",
      "   4.08398152e-02   6.30704159e-02  -6.79235292e-02  -5.51680846e-02\n",
      "   1.08563820e-02  -1.37511099e-02  -4.32890399e-02   1.04648328e-01\n",
      "  -6.01398192e-02   1.53891565e-02  -6.72284169e-02  -2.21746299e-02\n",
      "   2.16065887e-02  -3.52172851e-02   4.51485544e-03]\n",
      "\n",
      "p: 7\n",
      "AIC: 4.98341481507\n",
      "BIC: 5.14236182024\n",
      "params: [ 2.32967841  0.34101551  0.0488331   0.08516883  0.04363696 -0.05849946\n",
      " -0.01282785  0.01868549  0.0305334  -0.00756432 -0.01156673  0.0990317\n",
      " -0.20759396  0.01734405 -0.1403283   0.00661524 -0.00615541  0.02386064\n",
      "  0.0531748 ]\n",
      "\n",
      "p: 8\n",
      "AIC: -1.62934102193\n",
      "BIC: -1.47039401676\n",
      "params: [ 0.00261762  0.37496747 -0.19400036 -0.00415275 -0.05862122  0.09787114\n",
      " -0.23685409 -0.03604565  0.09227551  0.06145349 -0.01891362  0.08365811\n",
      " -0.09445212 -0.01139004  0.21310612 -0.1861716   0.1574139   0.01599948\n",
      "  0.01892105]\n",
      "\n",
      "p: 9\n",
      "AIC: -1.63029518884\n",
      "BIC: -1.47134818367\n",
      "params: [ 0.0019852   0.37448308 -0.19345502 -0.00464207 -0.05836172  0.09841272\n",
      " -0.23699863 -0.03668702  0.09283779  0.06149086 -0.01898551  0.08524652\n",
      " -0.09456717 -0.01139016  0.21393227 -0.18642485  0.15739494  0.01681756\n",
      "  0.01999162]\n",
      "\n",
      "p: 10\n",
      "AIC: -1.63054882168\n",
      "BIC: -1.47160181651\n",
      "params: [ 0.00169994  0.37465761 -0.19371119 -0.00443302 -0.05812596  0.09830773\n",
      " -0.23721077 -0.03641471  0.09285214  0.06141746 -0.01812664  0.08515427\n",
      " -0.09444956 -0.0109942   0.2137721  -0.18639449  0.15785577  0.01723678\n",
      "  0.02032246]\n",
      "\n",
      "p: 11\n",
      "AIC: 4.98350477429\n",
      "BIC: 5.14245177946\n",
      "params: [ 2.35526263  0.3426269   0.04851714  0.08363157  0.04349398 -0.05809228\n",
      " -0.0138906   0.02068766  0.03166029 -0.00876731 -0.01096158  0.09842598\n",
      " -0.20897916  0.01856583 -0.14062238  0.00678849 -0.00529493  0.02308199\n",
      "  0.05221657]\n",
      "\n",
      "p: 12\n",
      "AIC: 4.98880440251\n",
      "BIC: 5.14775140768\n",
      "params: [ 2.40880712  0.34276143  0.04520935  0.08298236  0.04561365 -0.06137286\n",
      " -0.00876937  0.02147137  0.0303699  -0.0058936  -0.01498338  0.09785794\n",
      " -0.20717785  0.01659889 -0.13992274  0.00729325 -0.00619326  0.02142269\n",
      "  0.05265271]\n",
      "\n",
      "p: 13\n",
      "AIC: 4.98871067987\n",
      "BIC: 5.14765768504\n",
      "params: [ 2.40353094  0.34286119  0.04509315  0.08312133  0.04559495 -0.06142517\n",
      " -0.00920686  0.02180946  0.03058688 -0.00630227 -0.01447835  0.09773338\n",
      " -0.20737597  0.01674655 -0.14025278  0.00752009 -0.00604572  0.02149601\n",
      "  0.05264102]\n",
      "\n",
      "p: 14\n",
      "AIC: 7.35986193544\n",
      "BIC: 7.51880894061\n",
      "params: [  7.41006299e+00   2.59585870e-01  -7.11581067e-02   2.24730632e-02\n",
      "   3.75275194e-02   6.15400788e-02  -6.98869095e-02  -5.76996483e-02\n",
      "   1.01421994e-02  -1.59872666e-02  -4.58813423e-02   1.04526726e-01\n",
      "  -6.10913666e-02   1.27447631e-02  -6.96688869e-02  -2.53899424e-02\n",
      "   2.09220860e-02  -3.73650308e-02   2.01937801e-03]\n",
      "\n",
      "p: 15\n",
      "AIC: 7.3608035036\n",
      "BIC: 7.51975050877\n",
      "params: [  7.46557349e+00   2.62779786e-01  -7.14369396e-02   2.05931316e-02\n",
      "   3.75096920e-02   6.06703846e-02  -7.14502537e-02  -5.61139063e-02\n",
      "   9.40205756e-03  -1.70975668e-02  -4.39242596e-02   1.05650094e-01\n",
      "  -6.26335310e-02   1.20637047e-02  -7.13585235e-02  -2.35377970e-02\n",
      "   1.97183888e-02  -3.69403599e-02   1.73761222e-03]\n",
      "\n"
     ]
    }
   ],
   "source": [
    "for p in range(0,data_df.shape[1]-1):\n",
    "    ar=sm.tsa.ar_model.AR(np.array(data_df.ix[:,p])).fit()\n",
    "    print 'p: '+str(p)\n",
    "    print 'AIC: '+str(ar.aic)\n",
    "    print 'BIC: '+str(ar.bic)\n",
    "    print 'params: '+str(ar.params)\n",
    "    print ''"
   ]
  },
  {
   "cell_type": "markdown",
   "metadata": {},
   "source": [
    "## QUESTION 26"
   ]
  },
  {
   "cell_type": "markdown",
   "metadata": {},
   "source": [
    ">  *Faire une régression de pcsp sur i3 et divyld. Interpréter les résultats. Tester la significativité jointe des variables explicatives*"
   ]
  },
  {
   "cell_type": "code",
   "execution_count": 65,
   "metadata": {
    "collapsed": false
   },
   "outputs": [
    {
     "name": "stdout",
     "output_type": "stream",
     "text": [
      "                            OLS Regression Results                            \n",
      "==============================================================================\n",
      "Dep. Variable:                   pcsp   R-squared:                       1.000\n",
      "Model:                            OLS   Adj. R-squared:                  1.000\n",
      "Method:                 Least Squares   F-statistic:                 2.209e+33\n",
      "Date:                Mon, 11 May 2015   Prob (F-statistic):               0.00\n",
      "Time:                        23:06:56   Log-Likelihood:                 16986.\n",
      "No. Observations:                 558   AIC:                        -3.397e+04\n",
      "Df Residuals:                     556   BIC:                        -3.396e+04\n",
      "Df Model:                           2                                         \n",
      "Covariance Type:            nonrobust                                         \n",
      "==============================================================================\n",
      "                 coef    std err          t      P>|t|      [95.0% Conf. Int.]\n",
      "------------------------------------------------------------------------------\n",
      "pcsp           1.0000   1.52e-17   6.58e+16      0.000         1.000     1.000\n",
      "ci3        -3.664e-15   1.27e-15     -2.882      0.004     -6.16e-15 -1.17e-15\n",
      "==============================================================================\n",
      "Omnibus:                       49.760   Durbin-Watson:                   1.484\n",
      "Prob(Omnibus):                  0.000   Jarque-Bera (JB):              126.934\n",
      "Skew:                          -0.454   Prob(JB):                     2.73e-28\n",
      "Kurtosis:                       5.153   Cond. No.                         84.5\n",
      "==============================================================================\n",
      "\n",
      "Warnings:\n",
      "[1] Standard Errors assume that the covariance matrix of the errors is correctly specified.\n"
     ]
    }
   ],
   "source": [
    "res=sm.api.OLS(data_df.ix[:,5],data_df.ix[:,[5,8]]).fit()\n",
    "print(res.summary())"
   ]
  },
  {
   "cell_type": "markdown",
   "metadata": {},
   "source": [
    "## QUESTION 27"
   ]
  },
  {
   "cell_type": "markdown",
   "metadata": {},
   "source": [
    ">  *Tester l'autocorrélation des erreurs.*"
   ]
  }
 ],
 "metadata": {
  "kernelspec": {
   "display_name": "Python 2",
   "language": "python",
   "name": "python2"
  },
  "language_info": {
   "codemirror_mode": {
    "name": "ipython",
    "version": 2
   },
   "file_extension": ".py",
   "mimetype": "text/x-python",
   "name": "python",
   "nbconvert_exporter": "python",
   "pygments_lexer": "ipython2",
   "version": "2.7.9"
  }
 },
 "nbformat": 4,
 "nbformat_minor": 0
}
